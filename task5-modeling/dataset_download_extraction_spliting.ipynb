{
  "cells": [
    {
      "cell_type": "code",
      "execution_count": 1,
      "metadata": {},
      "outputs": [],
      "source": [
        "## Ues For intal Processor \n",
        "# !pip install -r requirements.txt\n",
        "## Use requirements_silicon.txt for silicon Processor (M1,M2,M3 ,ect..)\n",
        "# !pip install -r requirements_silicon.txt"
      ]
    },
    {
      "cell_type": "code",
      "execution_count": 1,
      "metadata": {},
      "outputs": [],
      "source": [
        "import os\n",
        "import kagglehub\n",
        "import zipfile\n",
        "import json\n",
        "import glob\n",
        "from sklearn.model_selection import train_test_split"
      ]
    },
    {
      "cell_type": "markdown",
      "metadata": {},
      "source": [
        "# Dataset Download & Extraction:"
      ]
    },
    {
      "cell_type": "code",
      "execution_count": 2,
      "metadata": {},
      "outputs": [
        {
          "name": "stdout",
          "output_type": "stream",
          "text": [
            "Downloading MARIDA dataset from Kaggle...\n",
            "Warning: Looks like you're using an outdated `kagglehub` version (installed: 0.3.10), please consider upgrading to the latest version (0.3.11).\n",
            "Path to dataset files: /Users/nouri/.cache/kagglehub/datasets/anangfath/marida-marine-debrish-dataset/versions/1\n",
            "Looking for patches in directory: /Users/nouri/.cache/kagglehub/datasets/anangfath/marida-marine-debrish-dataset/versions/1/patches\n",
            "📊 Dataset Split: Train=1104, Val=138, Test=139\n",
            "✅ Successfully split data into train, validation, and test sets with confidence masks!\n",
            "Labels loaded successfully.\n"
          ]
        }
      ],
      "source": [
        "# Constants\n",
        "BASE_DIR = \"../data/\"\n",
        "\n",
        "def download_and_extract_dataset():\n",
        "    print(\"Downloading MARIDA dataset from Kaggle...\")\n",
        "    dataset_path = kagglehub.dataset_download(\"anangfath/marida-marine-debrish-dataset\")\n",
        "    print(f\"Path to dataset files: {dataset_path}\")\n",
        "    \n",
        "    if os.path.exists(f\"{BASE_DIR}MARIDA.zip\"):\n",
        "        print(\"Extracting MARIDA dataset...\")\n",
        "        with zipfile.ZipFile(f\"{BASE_DIR}MARIDA.zip\", 'r') as zip_ref:\n",
        "            zip_ref.extractall(BASE_DIR)\n",
        "        print(\"Dataset extracted!\")\n",
        "    return dataset_path\n",
        "\n",
        "# Create directory for storing processed files\n",
        "def create_directory(path):\n",
        "    # PROCESSED_DIR = os.path.join(BASE_DIR)\n",
        "    if not os.path.exists(path):\n",
        "        os.makedirs(path)\n",
        "\n",
        "# Function to get image and mask paths\n",
        "def get_image_and_mask_paths(dataset_path):\n",
        "    # Print the absolute path for debugging\n",
        "    patches_dir=f\"{dataset_path}/patches/\"\n",
        "    print(f\"Looking for patches in directory: {os.path.abspath(patches_dir)}\")\n",
        "    image_paths = []\n",
        "    mask_paths = []\n",
        "    confidence_paths = [] \n",
        "\n",
        "    for subfolder in os.listdir(patches_dir):\n",
        "        subfolder_path = os.path.join(patches_dir, subfolder)\n",
        "        if os.path.isdir(subfolder_path):\n",
        "            images = sorted(glob.glob(os.path.join(subfolder_path, \"*.tif\")))\n",
        "            for img_path in images:\n",
        "                if \"_cl.tif\" in img_path or \"_conf.tif\" in img_path:\n",
        "                    continue\n",
        "                \n",
        "                mask_path = img_path.replace(\".tif\", \"_cl.tif\")\n",
        "                cof_path = img_path.replace(\".tif\", \"_conf.tif\")  # Confidence mask path\n",
        "\n",
        "                if os.path.exists(mask_path) and os.path.exists(cof_path):\n",
        "                    image_paths.append(img_path)\n",
        "                    mask_paths.append(mask_path)\n",
        "                    confidence_paths.append(cof_path)  \n",
        "    \n",
        "    return image_paths, mask_paths, confidence_paths\n",
        "\n",
        "# Function to split and save data into train, validation, and test sets\n",
        "def split_and_save_data(image_paths, mask_paths,confidence_paths):\n",
        "    train_imgs, temp_imgs, train_masks, temp_masks, train_confidence, temp_confidence = train_test_split(\n",
        "            image_paths, mask_paths, confidence_paths, test_size=0.2, random_state=42\n",
        "        )\n",
        "    val_imgs, test_imgs, val_masks, test_masks, val_confidence, test_confidence = train_test_split(\n",
        "            temp_imgs, temp_masks, temp_confidence, test_size=0.5, random_state=42\n",
        "        )\n",
        "    print(f\"📊 Dataset Split: Train={len(train_imgs)}, Val={len(val_imgs)}, Test={len(test_imgs)}\")\n",
        "\n",
        "    # Save paths to text files\n",
        "    splits_dir = f\"{BASE_DIR}splits/\"\n",
        "    os.makedirs(splits_dir, exist_ok=True)\n",
        "    \n",
        "    def save_paths(file_path, paths):\n",
        "        with open(file_path, \"w\") as f:\n",
        "            for path in paths:\n",
        "                f.write(os.path.abspath(path) + \"\\n\")\n",
        "\n",
        "    \n",
        "    save_paths(f\"{splits_dir}train_X.txt\", train_imgs)\n",
        "    save_paths(f\"{splits_dir}val_X.txt\", val_imgs)\n",
        "    save_paths(f\"{splits_dir}test_X.txt\", test_imgs)\n",
        "    \n",
        "    save_paths(f\"{splits_dir}train_masks.txt\", train_masks)\n",
        "    save_paths(f\"{splits_dir}val_masks.txt\", val_masks)\n",
        "    save_paths(f\"{splits_dir}test_masks.txt\", test_masks)\n",
        "    \n",
        "    save_paths(f\"{splits_dir}train_confidence.txt\", train_confidence)\n",
        "    save_paths(f\"{splits_dir}val_confidence.txt\", val_confidence)\n",
        "    save_paths(f\"{splits_dir}test_confidence.txt\", test_confidence)\n",
        "\n",
        "    print(\"✅ Successfully split data into train, validation, and test sets with confidence masks!\")\n",
        "\n",
        "# Load the label mapping from a JSON file    \n",
        "def load_labels(file_path):\n",
        "    with open(file_path, \"r\") as f:\n",
        "        label_mapping = json.load(f)\n",
        "    return label_mapping\n",
        "\n",
        "\n",
        "def main():\n",
        "    dataset_path = download_and_extract_dataset()\n",
        "    create_directory(BASE_DIR)\n",
        "    image_paths, mask_paths, confidence_paths = get_image_and_mask_paths(dataset_path)\n",
        "    split_and_save_data(image_paths, mask_paths, confidence_paths)\n",
        "\n",
        "    label_mapping = load_labels(f\"{dataset_path}/labels_mapping.txt\")\n",
        "    print(\"Labels loaded successfully.\")\n",
        "\n",
        "if __name__ == \"__main__\":\n",
        "    main()"
      ]
    },
    {
      "cell_type": "code",
      "execution_count": null,
      "metadata": {},
      "outputs": [],
      "source": []
    }
  ],
  "metadata": {
    "accelerator": "GPU",
    "colab": {
      "gpuType": "T4",
      "provenance": []
    },
    "kernelspec": {
      "display_name": ".venv_tensorflow",
      "language": "python",
      "name": "python3"
    },
    "language_info": {
      "codemirror_mode": {
        "name": "ipython",
        "version": 3
      },
      "file_extension": ".py",
      "mimetype": "text/x-python",
      "name": "python",
      "nbconvert_exporter": "python",
      "pygments_lexer": "ipython3",
      "version": "3.11.5"
    }
  },
  "nbformat": 4,
  "nbformat_minor": 0
}
