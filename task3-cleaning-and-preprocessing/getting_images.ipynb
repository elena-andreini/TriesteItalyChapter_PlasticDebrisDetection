{
 "cells": [
  {
   "cell_type": "code",
   "execution_count": null,
   "id": "509b9f52-53d9-4a83-8f97-fb5b1373c101",
   "metadata": {},
   "outputs": [],
   "source": [
    "from sentinelhub import (\n",
    "    SHConfig,\n",
    "    DataCollection,\n",
    "    SentinelHubCatalog,\n",
    "    SentinelHubRequest,\n",
    "    SentinelHubStatistical,\n",
    "    BBox,\n",
    "    bbox_to_dimensions,\n",
    "    CRS,\n",
    "    MimeType,\n",
    "    Geometry,\n",
    ")\n",
    "\n",
    "from PIL import Image\n",
    "import numpy as np\n",
    "import os\n",
    "\n",
    "import geopandas as gpd\n",
    "from shapely.geometry import box\n",
    "\n",
    "import matplotlib.pyplot as plt\n",
    "import cartopy.crs as ccrs\n",
    "import cartopy.feature as cfeature\n",
    "from shapely.geometry import box\n",
    "import cartopy\n",
    "from utils import plot_image\n",
    "\n",
    "\n"
   ]
  },
  {
   "cell_type": "code",
   "execution_count": null,
   "id": "e20e1110-3e24-4dc5-b02f-930ab1b752ab",
   "metadata": {},
   "outputs": [],
   "source": [
    "# Only run this cell if you have not created a configuration.\n",
    "\n",
    "config = SHConfig()\n",
    "config.sh_client_id = \"sh-84d21c38-65f5-410d-9267-b1db4ba47b41\"\n",
    "config.sh_client_secret = \"7ykprUj53bYD42W30gevmHFnI4U5y75M\"\n",
    "config.sh_token_url = \"https://identity.dataspace.copernicus.eu/auth/realms/CDSE/protocol/openid-connect/token\"\n",
    "config.sh_base_url = \"https://sh.dataspace.copernicus.eu\"\n",
    "# config.save(\"cdse\")"
   ]
  },
  {
   "cell_type": "code",
   "execution_count": null,
   "id": "c7944cd6-16af-47e5-aab0-510acacc7214",
   "metadata": {},
   "outputs": [],
   "source": [
    "catalog = SentinelHubCatalog(config=config)\n",
    "resolution = 10"
   ]
  },
  {
   "cell_type": "code",
   "execution_count": null,
   "id": "7eef4429",
   "metadata": {},
   "outputs": [],
   "source": []
  },
  {
   "cell_type": "code",
   "execution_count": null,
   "id": "7b44e76c",
   "metadata": {},
   "outputs": [],
   "source": [
    "def plot_aoi_box(aoi_coords_wgs84, show_bbox=True, bbox_color='red', map_title=\"AOI Map\"):\n",
    "    \"\"\"\n",
    "    Plots a map with an optional bounding box for a given AOI.\n",
    "\n",
    "    Parameters:\n",
    "    - aoi_coords_wgs84: List of [min_lon, min_lat, max_lon, max_lat] for the AOI\n",
    "    - show_bbox: Boolean to toggle displaying the bounding box (default: True)\n",
    "    - bbox_color: Color of the bounding box (default: 'red')\n",
    "    - map_title: Title of the map (default: \"AOI Map\")\n",
    "    \"\"\"\n",
    "    # Create figure and axis with PlateCarree projection\n",
    "    fig, ax = plt.subplots(figsize=(10, 10), dpi=200, subplot_kw={'projection': ccrs.PlateCarree()})\n",
    "\n",
    "    # Add map features (land, coastline, borders)\n",
    "    ax.add_feature(cfeature.LAND, edgecolor='black')\n",
    "    ax.add_feature(cfeature.COASTLINE)\n",
    "    ax.add_feature(cfeature.BORDERS, linestyle=\":\")\n",
    "\n",
    "    # Manually set x and y limits to center the map on AOI\n",
    "    ax.set_xlim(aoi_coords_wgs84[0] - 0.2, aoi_coords_wgs84[2] + 0.2)  # Expand longitude range slightly\n",
    "    ax.set_ylim(aoi_coords_wgs84[1] - 0.2, aoi_coords_wgs84[3] + 0.2)  # Expand latitude range slightly\n",
    "\n",
    "    # Create the bounding box as a Polygon\n",
    "    bbox = box(aoi_coords_wgs84[0], aoi_coords_wgs84[1], aoi_coords_wgs84[2], aoi_coords_wgs84[3])\n",
    "\n",
    "    # Optionally display the bounding box in red\n",
    "    if show_bbox:\n",
    "        ax.add_geometries([bbox], crs=ccrs.PlateCarree(), facecolor='none', edgecolor=bbox_color, linewidth=2)\n",
    "\n",
    "    # Add a title\n",
    "    plt.title(map_title, fontsize=14)\n",
    "\n",
    "    # Show the plot\n",
    "    plt.show()\n"
   ]
  },
  {
   "cell_type": "code",
   "execution_count": null,
   "id": "c19d571f-123e-4d85-8c82-2c65b6f8b668",
   "metadata": {},
   "outputs": [],
   "source": [
    "# Define AOI coordinates (min_lon, min_lat, max_lon, max_lat)\n",
    "aoi_coords_wgs84 = [12.5, 44.7, 13.0, 45.1]\n",
    "\n",
    "# Call the function to plot the map with the bounding box shown\n",
    "plot_aoi_box(aoi_coords_wgs84, show_bbox=True, bbox_color='red', map_title=\"Po River Delta and Sea AOI\")\n"
   ]
  },
  {
   "cell_type": "code",
   "execution_count": null,
   "id": "a551967d",
   "metadata": {},
   "outputs": [],
   "source": [
    "\n",
    "\n",
    "def download_sentinel_images(aoi_coords_wgs84, time_interval, output_dir=\"Images\", resolution=10, max_size=2500):\n",
    "    \"\"\"\n",
    "    Downloads Sentinel-2 true color images for a given AOI and time range.\n",
    "\n",
    "    Parameters:\n",
    "    - aoi_coords_wgs84: list of [min_lon, min_lat, max_lon, max_lat] (AOI bounding box)\n",
    "    - time_interval: tuple of (start_date, end_date) in 'YYYY-MM-DD' format\n",
    "    - output_dir: Directory to save the images (default: 'Po_Images')\n",
    "    - resolution: Spatial resolution in meters per pixel (default: 10m)\n",
    "    - max_size: Maximum image size (Sentinel Hub limit: 2500 pixels)\n",
    "    \"\"\"\n",
    "    # Ensure output directory exists\n",
    "    os.makedirs(output_dir, exist_ok=True)\n",
    "\n",
    "    # Define AOI Bounding Box\n",
    "    aoi_bbox = BBox(bbox=aoi_coords_wgs84, crs=CRS.WGS84)\n",
    "    aoi_size = bbox_to_dimensions(aoi_bbox, resolution=resolution)\n",
    "    aoi_size = (min(aoi_size[0], max_size), min(aoi_size[1], max_size))  # Limit size\n",
    "\n",
    "    # Search for available Sentinel-2 images\n",
    "    search_iterator = catalog.search(\n",
    "        DataCollection.SENTINEL2_L2A,\n",
    "        bbox=aoi_bbox,\n",
    "        time=time_interval,\n",
    "        fields={\"include\": [\"id\", \"properties.datetime\"], \"exclude\": []},\n",
    "    )\n",
    "\n",
    "    results = list(search_iterator)\n",
    "    print(f\"Total number of results: {len(results)}\")\n",
    "\n",
    "    if not results:\n",
    "        print(\"No images found for the given AOI and time interval.\")\n",
    "        return []\n",
    "\n",
    "    # Define SentinelHub evalscript for true color imagery\n",
    "    evalscript_true_color = \"\"\"\n",
    "        //VERSION=3\n",
    "        function setup() {\n",
    "            return { input: [{ bands: [\"B02\", \"B03\", \"B04\"] }], output: { bands: 3 } };\n",
    "        }\n",
    "        function evaluatePixel(sample) {\n",
    "            return [sample.B04, sample.B03, sample.B02];\n",
    "        }\n",
    "    \"\"\"\n",
    "\n",
    "    true_color_imgs = []\n",
    "\n",
    "    # Loop through results to fetch corresponding images\n",
    "    for result in results:\n",
    "        timestamp = result[\"properties\"][\"datetime\"]\n",
    "        print(f\"Fetching image for timestamp: {timestamp}\")\n",
    "\n",
    "        # Request the image\n",
    "        request_true_color = SentinelHubRequest(\n",
    "            evalscript=evalscript_true_color,\n",
    "            input_data=[\n",
    "                SentinelHubRequest.input_data(\n",
    "                    data_collection=DataCollection.SENTINEL2_L2A.define_from(\n",
    "                        name=\"s2l2a\", service_url=\"https://sh.dataspace.copernicus.eu\"\n",
    "                    ),\n",
    "                    time_interval=(timestamp, timestamp),\n",
    "                    other_args={\"dataFilter\": {\"mosaickingOrder\": \"leastCC\"}},\n",
    "                )\n",
    "            ],\n",
    "            responses=[SentinelHubRequest.output_response(\"default\", MimeType.PNG)],\n",
    "            bbox=aoi_bbox,\n",
    "            size=aoi_size,\n",
    "            config=config,\n",
    "        )\n",
    "\n",
    "        # Get the image\n",
    "        image_data = request_true_color.get_data()\n",
    "\n",
    "        if image_data:\n",
    "            image = image_data[0]  # Extract the first image\n",
    "            true_color_imgs.append(image)\n",
    "\n",
    "            # Save the image\n",
    "            formatted_timestamp = timestamp[:19].replace(\":\", \"-\")\n",
    "            filename = os.path.join(output_dir, f\"sentinel_image_{formatted_timestamp}.png\")\n",
    "            img = Image.fromarray(np.uint8(image))\n",
    "            img.save(filename)\n",
    "\n",
    "            print(f\"Saved: {filename}\")\n",
    "\n",
    "    print(f\"Total images downloaded: {len(true_color_imgs)}\")\n",
    "    return true_color_imgs  # Return the list of images\n",
    "\n",
    "# Example usage\n",
    "aoi_coords_wgs84 = [12.5, 44.7, 13.0, 45.1]  # Example coordinates for Po River Delta\n",
    "time_interval = (\"2024-03-01\", \"2024-03-10\")  # Example time range\n",
    "\n",
    "download_sentinel_images(aoi_coords_wgs84, time_interval)\n"
   ]
  },
  {
   "cell_type": "code",
   "execution_count": null,
   "id": "b4c96119-cf09-4fd6-adeb-f88f5ef446a4",
   "metadata": {},
   "outputs": [],
   "source": [
    "# Nord Corsica"
   ]
  },
  {
   "cell_type": "code",
   "execution_count": null,
   "id": "c149b520",
   "metadata": {},
   "outputs": [],
   "source": [
    "# Define AOI coordinates (min_lon, min_lat, max_lon, max_lat)\n",
    "aoi_coords_wgs84 = [9.288940,43.012681,9.481888,43.119530] \n",
    "\n",
    "# Call the function to plot the map with the bounding box shown\n",
    "plot_aoi_box(aoi_coords_wgs84, show_bbox=True, bbox_color='red', map_title=\"Nord Corsica AOI\")"
   ]
  },
  {
   "cell_type": "code",
   "execution_count": null,
   "id": "f6ee0c62-a4f6-4138-93cf-130d0badd103",
   "metadata": {},
   "outputs": [],
   "source": [
    "aoi_coords_wgs84 = [9.288940,43.012681,9.481888,43.119530] \n",
    "time_interval = (\"2023-03-01\", \"2023-03-10\")  # Example time range\n",
    "\n",
    "download_sentinel_images(aoi_coords_wgs84, time_interval)"
   ]
  },
  {
   "cell_type": "code",
   "execution_count": null,
   "id": "bd674045-86c9-4121-91d9-4da41213cd36",
   "metadata": {},
   "outputs": [],
   "source": [
    "\n"
   ]
  },
  {
   "cell_type": "code",
   "execution_count": null,
   "id": "d44f6199-7ef8-446e-8e71-6833079e516d",
   "metadata": {},
   "outputs": [],
   "source": []
  },
  {
   "cell_type": "code",
   "execution_count": null,
   "id": "3318ccf3-e491-4226-8d65-a1ab30cc1e4b",
   "metadata": {},
   "outputs": [],
   "source": [
    "# gulf of Genova"
   ]
  },
  {
   "cell_type": "code",
   "execution_count": null,
   "id": "7ed1c7bb",
   "metadata": {},
   "outputs": [],
   "source": [
    "# Define AOI coordinates (min_lon, min_lat, max_lon, max_lat)\n",
    "aoi_coords_wgs84 = [8.322144,43.271206,9.687195,44.140827]\n",
    "# Call the function to plot the map with the bounding box shown\n",
    "plot_aoi_box(aoi_coords_wgs84, show_bbox=True, bbox_color='red', map_title=\"Gulf of Genova\")"
   ]
  },
  {
   "cell_type": "code",
   "execution_count": null,
   "id": "11fda0d6-2e6b-4e81-8beb-6b8cbcebff80",
   "metadata": {},
   "outputs": [],
   "source": [
    "AOI = 'Gulf of Genova'\n",
    "aoi_coords_wgs84 = [8.322144,43.271206,9.687195,44.140827] \n",
    "time_interval = (\"2023-03-01\", \"2023-03-10\")  # Example time range\n",
    "\n",
    "download_sentinel_images(aoi_coords_wgs84, time_interval)"
   ]
  },
  {
   "cell_type": "code",
   "execution_count": null,
   "id": "f0995585",
   "metadata": {},
   "outputs": [],
   "source": []
  }
 ],
 "metadata": {
  "kernelspec": {
   "display_name": "Python 3.10 (tensorflow)",
   "language": "python",
   "name": "tensorflow"
  },
  "language_info": {
   "codemirror_mode": {
    "name": "ipython",
    "version": 3
   },
   "file_extension": ".py",
   "mimetype": "text/x-python",
   "name": "python",
   "nbconvert_exporter": "python",
   "pygments_lexer": "ipython3",
   "version": "3.10.16"
  }
 },
 "nbformat": 4,
 "nbformat_minor": 5
}
