{
  "cells": [
    {
      "cell_type": "code",
      "execution_count": null,
      "metadata": {
        "colab": {
          "base_uri": "https://localhost:8080/"
        },
        "id": "J1E6HHYVpAw3",
        "outputId": "94678a02-25a2-47e5-85d7-a4e372f1c555"
      },
      "outputs": [
        {
          "name": "stdout",
          "output_type": "stream",
          "text": [
            "Collecting sentinelhub\n",
            "  Downloading sentinelhub-3.11.1-py3-none-any.whl.metadata (10 kB)\n",
            "Collecting aenum>=2.1.4 (from sentinelhub)\n",
            "  Downloading aenum-3.1.15-py3-none-any.whl.metadata (3.7 kB)\n",
            "Requirement already satisfied: click in /usr/local/lib/python3.11/dist-packages (from sentinelhub) (8.1.8)\n",
            "Collecting dataclasses-json (from sentinelhub)\n",
            "  Downloading dataclasses_json-0.6.7-py3-none-any.whl.metadata (25 kB)\n",
            "Requirement already satisfied: numpy in /usr/local/lib/python3.11/dist-packages (from sentinelhub) (2.0.2)\n",
            "Requirement already satisfied: oauthlib in /usr/local/lib/python3.11/dist-packages (from sentinelhub) (3.2.2)\n",
            "Requirement already satisfied: pillow>=9.2.0 in /usr/local/lib/python3.11/dist-packages (from sentinelhub) (11.1.0)\n",
            "Requirement already satisfied: pyproj>=2.2.0 in /usr/local/lib/python3.11/dist-packages (from sentinelhub) (3.7.1)\n",
            "Requirement already satisfied: python-dateutil in /usr/local/lib/python3.11/dist-packages (from sentinelhub) (2.8.2)\n",
            "Requirement already satisfied: requests-oauthlib>=1.0.0 in /usr/local/lib/python3.11/dist-packages (from sentinelhub) (2.0.0)\n",
            "Requirement already satisfied: requests>=2.27.0 in /usr/local/lib/python3.11/dist-packages (from sentinelhub) (2.32.3)\n",
            "Requirement already satisfied: shapely in /usr/local/lib/python3.11/dist-packages (from sentinelhub) (2.0.7)\n",
            "Requirement already satisfied: tifffile>=2020.9.30 in /usr/local/lib/python3.11/dist-packages (from sentinelhub) (2025.3.30)\n",
            "Collecting tomli (from sentinelhub)\n",
            "  Downloading tomli-2.2.1-cp311-cp311-manylinux_2_17_x86_64.manylinux2014_x86_64.whl.metadata (11 kB)\n",
            "Collecting tomli-w (from sentinelhub)\n",
            "  Downloading tomli_w-1.2.0-py3-none-any.whl.metadata (5.7 kB)\n",
            "Requirement already satisfied: tqdm in /usr/local/lib/python3.11/dist-packages (from sentinelhub) (4.67.1)\n",
            "Requirement already satisfied: typing-extensions>=4.5.0 in /usr/local/lib/python3.11/dist-packages (from sentinelhub) (4.13.0)\n",
            "Collecting utm (from sentinelhub)\n",
            "  Downloading utm-0.8.1-py3-none-any.whl.metadata (5.2 kB)\n",
            "Requirement already satisfied: certifi in /usr/local/lib/python3.11/dist-packages (from pyproj>=2.2.0->sentinelhub) (2025.1.31)\n",
            "Requirement already satisfied: charset-normalizer<4,>=2 in /usr/local/lib/python3.11/dist-packages (from requests>=2.27.0->sentinelhub) (3.4.1)\n",
            "Requirement already satisfied: idna<4,>=2.5 in /usr/local/lib/python3.11/dist-packages (from requests>=2.27.0->sentinelhub) (3.10)\n",
            "Requirement already satisfied: urllib3<3,>=1.21.1 in /usr/local/lib/python3.11/dist-packages (from requests>=2.27.0->sentinelhub) (2.3.0)\n",
            "Collecting marshmallow<4.0.0,>=3.18.0 (from dataclasses-json->sentinelhub)\n",
            "  Downloading marshmallow-3.26.1-py3-none-any.whl.metadata (7.3 kB)\n",
            "Collecting typing-inspect<1,>=0.4.0 (from dataclasses-json->sentinelhub)\n",
            "  Downloading typing_inspect-0.9.0-py3-none-any.whl.metadata (1.5 kB)\n",
            "Requirement already satisfied: six>=1.5 in /usr/local/lib/python3.11/dist-packages (from python-dateutil->sentinelhub) (1.17.0)\n",
            "Requirement already satisfied: packaging>=17.0 in /usr/local/lib/python3.11/dist-packages (from marshmallow<4.0.0,>=3.18.0->dataclasses-json->sentinelhub) (24.2)\n",
            "Collecting mypy-extensions>=0.3.0 (from typing-inspect<1,>=0.4.0->dataclasses-json->sentinelhub)\n",
            "  Downloading mypy_extensions-1.0.0-py3-none-any.whl.metadata (1.1 kB)\n",
            "Downloading sentinelhub-3.11.1-py3-none-any.whl (249 kB)\n",
            "\u001b[2K   \u001b[90m━━━━━━━━━━━━━━━━━━━━━━━━━━━━━━━━━━━━━━━━\u001b[0m \u001b[32m249.8/249.8 kB\u001b[0m \u001b[31m3.8 MB/s\u001b[0m eta \u001b[36m0:00:00\u001b[0m\n",
            "\u001b[?25hDownloading aenum-3.1.15-py3-none-any.whl (137 kB)\n",
            "\u001b[2K   \u001b[90m━━━━━━━━━━━━━━━━━━━━━━━━━━━━━━━━━━━━━━━━\u001b[0m \u001b[32m137.6/137.6 kB\u001b[0m \u001b[31m6.4 MB/s\u001b[0m eta \u001b[36m0:00:00\u001b[0m\n",
            "\u001b[?25hDownloading dataclasses_json-0.6.7-py3-none-any.whl (28 kB)\n",
            "Downloading tomli-2.2.1-cp311-cp311-manylinux_2_17_x86_64.manylinux2014_x86_64.whl (236 kB)\n",
            "\u001b[2K   \u001b[90m━━━━━━━━━━━━━━━━━━━━━━━━━━━━━━━━━━━━━━━━\u001b[0m \u001b[32m236.0/236.0 kB\u001b[0m \u001b[31m11.5 MB/s\u001b[0m eta \u001b[36m0:00:00\u001b[0m\n",
            "\u001b[?25hDownloading tomli_w-1.2.0-py3-none-any.whl (6.7 kB)\n",
            "Downloading utm-0.8.1-py3-none-any.whl (8.6 kB)\n",
            "Downloading marshmallow-3.26.1-py3-none-any.whl (50 kB)\n",
            "\u001b[2K   \u001b[90m━━━━━━━━━━━━━━━━━━━━━━━━━━━━━━━━━━━━━━━━\u001b[0m \u001b[32m50.9/50.9 kB\u001b[0m \u001b[31m1.6 MB/s\u001b[0m eta \u001b[36m0:00:00\u001b[0m\n",
            "\u001b[?25hDownloading typing_inspect-0.9.0-py3-none-any.whl (8.8 kB)\n",
            "Downloading mypy_extensions-1.0.0-py3-none-any.whl (4.7 kB)\n",
            "Installing collected packages: aenum, utm, tomli-w, tomli, mypy-extensions, marshmallow, typing-inspect, dataclasses-json, sentinelhub\n",
            "Successfully installed aenum-3.1.15 dataclasses-json-0.6.7 marshmallow-3.26.1 mypy-extensions-1.0.0 sentinelhub-3.11.1 tomli-2.2.1 tomli-w-1.2.0 typing-inspect-0.9.0 utm-0.8.1\n",
            "Requirement already satisfied: requests_oauthlib in /usr/local/lib/python3.11/dist-packages (2.0.0)\n",
            "Requirement already satisfied: oauthlib>=3.0.0 in /usr/local/lib/python3.11/dist-packages (from requests_oauthlib) (3.2.2)\n",
            "Requirement already satisfied: requests>=2.0.0 in /usr/local/lib/python3.11/dist-packages (from requests_oauthlib) (2.32.3)\n",
            "Requirement already satisfied: charset-normalizer<4,>=2 in /usr/local/lib/python3.11/dist-packages (from requests>=2.0.0->requests_oauthlib) (3.4.1)\n",
            "Requirement already satisfied: idna<4,>=2.5 in /usr/local/lib/python3.11/dist-packages (from requests>=2.0.0->requests_oauthlib) (3.10)\n",
            "Requirement already satisfied: urllib3<3,>=1.21.1 in /usr/local/lib/python3.11/dist-packages (from requests>=2.0.0->requests_oauthlib) (2.3.0)\n",
            "Requirement already satisfied: certifi>=2017.4.17 in /usr/local/lib/python3.11/dist-packages (from requests>=2.0.0->requests_oauthlib) (2025.1.31)\n",
            "Collecting dotenv\n",
            "  Downloading dotenv-0.9.9-py2.py3-none-any.whl.metadata (279 bytes)\n",
            "Collecting python-dotenv (from dotenv)\n",
            "  Downloading python_dotenv-1.1.0-py3-none-any.whl.metadata (24 kB)\n",
            "Downloading dotenv-0.9.9-py2.py3-none-any.whl (1.9 kB)\n",
            "Downloading python_dotenv-1.1.0-py3-none-any.whl (20 kB)\n",
            "Installing collected packages: python-dotenv, dotenv\n",
            "Successfully installed dotenv-0.9.9 python-dotenv-1.1.0\n",
            "Collecting rasterio\n",
            "  Downloading rasterio-1.4.3-cp311-cp311-manylinux_2_17_x86_64.manylinux2014_x86_64.whl.metadata (9.1 kB)\n",
            "Collecting affine (from rasterio)\n",
            "  Downloading affine-2.4.0-py3-none-any.whl.metadata (4.0 kB)\n",
            "Requirement already satisfied: attrs in /usr/local/lib/python3.11/dist-packages (from rasterio) (25.3.0)\n",
            "Requirement already satisfied: certifi in /usr/local/lib/python3.11/dist-packages (from rasterio) (2025.1.31)\n",
            "Requirement already satisfied: click>=4.0 in /usr/local/lib/python3.11/dist-packages (from rasterio) (8.1.8)\n",
            "Collecting cligj>=0.5 (from rasterio)\n",
            "  Downloading cligj-0.7.2-py3-none-any.whl.metadata (5.0 kB)\n",
            "Requirement already satisfied: numpy>=1.24 in /usr/local/lib/python3.11/dist-packages (from rasterio) (2.0.2)\n",
            "Collecting click-plugins (from rasterio)\n",
            "  Downloading click_plugins-1.1.1-py2.py3-none-any.whl.metadata (6.4 kB)\n",
            "Requirement already satisfied: pyparsing in /usr/local/lib/python3.11/dist-packages (from rasterio) (3.2.3)\n",
            "Downloading rasterio-1.4.3-cp311-cp311-manylinux_2_17_x86_64.manylinux2014_x86_64.whl (22.2 MB)\n",
            "\u001b[2K   \u001b[90m━━━━━━━━━━━━━━━━━━━━━━━━━━━━━━━━━━━━━━━━\u001b[0m \u001b[32m22.2/22.2 MB\u001b[0m \u001b[31m43.6 MB/s\u001b[0m eta \u001b[36m0:00:00\u001b[0m\n",
            "\u001b[?25hDownloading cligj-0.7.2-py3-none-any.whl (7.1 kB)\n",
            "Downloading affine-2.4.0-py3-none-any.whl (15 kB)\n",
            "Downloading click_plugins-1.1.1-py2.py3-none-any.whl (7.5 kB)\n",
            "Installing collected packages: cligj, click-plugins, affine, rasterio\n",
            "Successfully installed affine-2.4.0 click-plugins-1.1.1 cligj-0.7.2 rasterio-1.4.3\n",
            "Collecting netCDF4\n",
            "  Downloading netCDF4-1.7.2-cp311-cp311-manylinux_2_17_x86_64.manylinux2014_x86_64.whl.metadata (1.8 kB)\n",
            "Collecting cftime (from netCDF4)\n",
            "  Downloading cftime-1.6.4.post1-cp311-cp311-manylinux_2_17_x86_64.manylinux2014_x86_64.whl.metadata (8.7 kB)\n",
            "Requirement already satisfied: certifi in /usr/local/lib/python3.11/dist-packages (from netCDF4) (2025.1.31)\n",
            "Requirement already satisfied: numpy in /usr/local/lib/python3.11/dist-packages (from netCDF4) (2.0.2)\n",
            "Downloading netCDF4-1.7.2-cp311-cp311-manylinux_2_17_x86_64.manylinux2014_x86_64.whl (9.3 MB)\n",
            "\u001b[2K   \u001b[90m━━━━━━━━━━━━━━━━━━━━━━━━━━━━━━━━━━━━━━━━\u001b[0m \u001b[32m9.3/9.3 MB\u001b[0m \u001b[31m61.1 MB/s\u001b[0m eta \u001b[36m0:00:00\u001b[0m\n",
            "\u001b[?25hDownloading cftime-1.6.4.post1-cp311-cp311-manylinux_2_17_x86_64.manylinux2014_x86_64.whl (1.4 MB)\n",
            "\u001b[2K   \u001b[90m━━━━━━━━━━━━━━━━━━━━━━━━━━━━━━━━━━━━━━━━\u001b[0m \u001b[32m1.4/1.4 MB\u001b[0m \u001b[31m61.8 MB/s\u001b[0m eta \u001b[36m0:00:00\u001b[0m\n",
            "\u001b[?25hInstalling collected packages: cftime, netCDF4\n",
            "Successfully installed cftime-1.6.4.post1 netCDF4-1.7.2\n"
          ]
        }
      ],
      "source": [
        "!pip install sentinelhub\n",
        "!pip install requests_oauthlib\n",
        "!pip install dotenv\n",
        "!pip install rasterio\n",
        "!pip install netCDF4"
      ]
    },
    {
      "cell_type": "code",
      "execution_count": null,
      "metadata": {
        "id": "OzfQGNrVl8kj"
      },
      "outputs": [],
      "source": [
        "import os\n",
        "from sentinelhub import (SHConfig,\n",
        "    DataCollection,\n",
        "    SentinelHubCatalog,\n",
        "    SentinelHubRequest,\n",
        "    SentinelHubStatistical,\n",
        "    BBox,\n",
        "    bbox_to_dimensions,\n",
        "    CRS,\n",
        "    MimeType,\n",
        "    Geometry,\n",
        ")\n",
        "from dotenv import load_dotenv\n",
        "import requests_oauthlib as requests\n",
        "import matplotlib.pyplot as plt\n",
        "import numpy as np\n",
        "import datetime\n",
        "import pandas as pd\n",
        "from PIL import Image"
      ]
    },
    {
      "cell_type": "code",
      "execution_count": null,
      "metadata": {
        "id": "HjOZkyJEpftq"
      },
      "outputs": [],
      "source": [
        "os.environ['CLIENT_ID'] = 'cdse'\n",
        "os.environ['CLIENT_SECRET'] = 'cdse'\n",
        "os.environ['TOKEN_URL'] = 'https://identity.sentinel-hub.com/token'\n",
        "os.environ['BASE_URL'] = 'https://sh.sentinel-hub.com'"
      ]
    },
    {
      "cell_type": "code",
      "execution_count": null,
      "metadata": {
        "colab": {
          "base_uri": "https://localhost:8080/"
        },
        "id": "SsO9dt2X5Izz",
        "outputId": "5fdff228-03ff-44bc-e8e7-4d9040da6c11"
      },
      "outputs": [
        {
          "data": {
            "text/plain": [
              "SHConfig(\n",
              "  instance_id='',\n",
              "  sh_client_id='***********************************d738',\n",
              "  sh_client_secret='****************************kzbY',\n",
              "  sh_base_url='https://sh.dataspace.copernicus.eu',\n",
              "  sh_auth_base_url=None,\n",
              "  sh_token_url='https://identity.dataspace.copernicus.eu/auth/realms/CDSE/protocol/openid-connect/token',\n",
              "  geopedia_wms_url='https://service.geopedia.world',\n",
              "  geopedia_rest_url='https://www.geopedia.world/rest',\n",
              "  aws_access_key_id='',\n",
              "  aws_secret_access_key='',\n",
              "  aws_session_token='',\n",
              "  aws_metadata_url='https://roda.sentinel-hub.com',\n",
              "  aws_s3_l1c_bucket='sentinel-s2-l1c',\n",
              "  aws_s3_l2a_bucket='sentinel-s2-l2a',\n",
              "  opensearch_url='http://opensearch.sentinel-hub.com/resto/api/collections/Sentinel2',\n",
              "  max_wfs_records_per_query=100,\n",
              "  max_opensearch_records_per_query=500,\n",
              "  max_download_attempts=4,\n",
              "  download_sleep_time=5.0,\n",
              "  download_timeout_seconds=120.0,\n",
              "  number_of_download_processes=1,\n",
              "  max_retries=None,\n",
              ")"
            ]
          },
          "execution_count": 16,
          "metadata": {},
          "output_type": "execute_result"
        }
      ],
      "source": [
        "config = SHConfig(\"cdse\")\n",
        "config.load(\"cdse\")"
      ]
    },
    {
      "cell_type": "code",
      "execution_count": null,
      "metadata": {
        "colab": {
          "base_uri": "https://localhost:8080/"
        },
        "id": "cacMgrHZ6Vwh",
        "outputId": "9b6c2786-fed1-4410-db3f-85967eb26e4b"
      },
      "outputs": [
        {
          "name": "stdout",
          "output_type": "stream",
          "text": [
            "https://identity.dataspace.copernicus.eu/auth/realms/CDSE/protocol/openid-connect/token\n",
            "https://sh.dataspace.copernicus.eu\n"
          ]
        }
      ],
      "source": [
        "# check that the credentials are set correctly\n",
        "if not config.sh_client_id or not config.sh_client_secret:\n",
        "    print(\"Please provide your Sentinel Hub credentials in the .env file.\")\n",
        "    exit(1)\n",
        "\n",
        "# check that the credentials are what you expect (i.e. output is the same & not None)\n",
        "# NOTE: you can also set the credentials directly in the code,\n",
        "# but this is not recommended for security reasons.\n",
        "# do not print the secret credentials 'id' or 'secret' in a public notebook for security reasons either\n",
        "print(config.sh_token_url)\n",
        "print(config.sh_base_url)"
      ]
    },
    {
      "cell_type": "code",
      "execution_count": null,
      "metadata": {
        "id": "wvIfgmVDqQVn"
      },
      "outputs": [],
      "source": [
        "# Define bounding boxes as [min_lon, min_lat, max_lon, max_lat]\n",
        "\n",
        "AOI_BBOXES = {\n",
        "    'Po_River_Plume':      [12.5, 44.8, 13.2, 45.5],   # Near the Po River delta (Northern Adriatic)\n",
        "    'Northern_Corsica':    [8.5, 42.9, 9.2, 43.6],     # North of Corsica island\n",
        "    'South_East_Calabria': [16.5, 38.35, 16.755, 38.555], # North of Calabria\n",
        "    'Gulf_of_Genova':      [8.5, 43.7, 9.2, 44.4],     # Ligurian Sea, near major coastal cities\n",
        "}"
      ]
    },
    {
      "cell_type": "code",
      "execution_count": null,
      "metadata": {
        "colab": {
          "base_uri": "https://localhost:8080/"
        },
        "id": "hPZNmCH5nEMT",
        "outputId": "cee820cf-e73e-4bfb-8da5-5a8646f18a7d"
      },
      "outputs": [
        {
          "name": "stdout",
          "output_type": "stream",
          "text": [
            "Image shape for ([12.5, 44.8, 13.2, 45.5],) at 10 m resolution: (5710, 7630) pixels\n"
          ]
        }
      ],
      "source": [
        "# Po River\n",
        "resolution = 10\n",
        "AOI1 = 'Po_River_Plume'\n",
        "aoi1_bbox = BBox(bbox=AOI_BBOXES['Po_River_Plume'], crs=CRS.WGS84)\n",
        "aoi1_size = bbox_to_dimensions(aoi1_bbox, resolution=resolution)\n",
        "print(f\"Image shape for {AOI_BBOXES['Po_River_Plume'],} at {resolution} m resolution: {aoi1_size} pixels\")\n"
      ]
    },
    {
      "cell_type": "code",
      "execution_count": null,
      "metadata": {
        "colab": {
          "base_uri": "https://localhost:8080/"
        },
        "id": "BA1w9309nEup",
        "outputId": "5f78b6f0-23a1-4d61-a7bc-01fddaa50f39"
      },
      "outputs": [
        {
          "name": "stdout",
          "output_type": "stream",
          "text": [
            "Image shape for Northern_Corsica at 10 m resolution: (5696, 7764) pixels\n"
          ]
        }
      ],
      "source": [
        "# Corsica\n",
        "resolution = 10\n",
        "AOI2 = 'Northern_Corsica'\n",
        "aoi2_bbox = BBox(bbox=AOI_BBOXES[AOI2], crs=CRS.WGS84)\n",
        "aoi2_size = bbox_to_dimensions(aoi2_bbox, resolution=resolution)\n",
        "print(f\"Image shape for {AOI2} at {resolution} m resolution: {aoi2_size} pixels\")"
      ]
    },
    {
      "cell_type": "code",
      "execution_count": null,
      "metadata": {
        "colab": {
          "base_uri": "https://localhost:8080/"
        },
        "id": "zRrmHuStnHOS",
        "outputId": "896b9889-f343-4a65-d83d-cdd6a3aab535"
      },
      "outputs": [
        {
          "name": "stdout",
          "output_type": "stream",
          "text": [
            "Image shape for South_East_Calabria at 10m resolution: (2185, 2314) pixels\n"
          ]
        }
      ],
      "source": [
        "# Calabria\n",
        "resolution = 10\n",
        "AOI3 = 'South_East_Calabria'\n",
        "aoi3_bbox = BBox(bbox=AOI_BBOXES[AOI3], crs=CRS.WGS84)\n",
        "aoi3_size = bbox_to_dimensions(aoi3_bbox, resolution=resolution)\n",
        "print(f\"Image shape for {AOI3} at {resolution}m resolution: {aoi3_size} pixels\")"
      ]
    },
    {
      "cell_type": "code",
      "execution_count": null,
      "metadata": {
        "colab": {
          "base_uri": "https://localhost:8080/"
        },
        "id": "SOXFBurqu3N1",
        "outputId": "3a583fbf-354e-4e88-bebe-ff0ee31a9e68"
      },
      "outputs": [
        {
          "name": "stdout",
          "output_type": "stream",
          "text": [
            "Image shape for Gulf_of_Genova at 10m resolution: (5622, 7765) pixels\n"
          ]
        }
      ],
      "source": [
        "AOI4 = 'Gulf_of_Genova'\n",
        "aoi4_bbox = BBox(bbox=AOI_BBOXES[AOI4], crs=CRS.WGS84)\n",
        "aoi4_size = bbox_to_dimensions(aoi4_bbox, resolution=resolution)\n",
        "print(f\"Image shape for {AOI4} at {resolution}m resolution: {aoi4_size} pixels\")"
      ]
    },
    {
      "cell_type": "code",
      "execution_count": null,
      "metadata": {
        "id": "k-qfP9GSnKth"
      },
      "outputs": [],
      "source": [
        "catalog = SentinelHubCatalog(config=config)"
      ]
    },
    {
      "cell_type": "code",
      "execution_count": null,
      "metadata": {
        "id": "Hdul8fnrjxA2"
      },
      "outputs": [],
      "source": [
        "time_interval =  \"2015-06-01\", \"2021-09-18\"  # adjust dates as needed with max period:\n"
      ]
    },
    {
      "cell_type": "code",
      "execution_count": null,
      "metadata": {
        "colab": {
          "base_uri": "https://localhost:8080/"
        },
        "id": "TrKs1QXVnOr-",
        "outputId": "1adc9669-ada9-4153-e8f1-a73b8296dcf1"
      },
      "outputs": [
        {
          "name": "stdout",
          "output_type": "stream",
          "text": [
            "Total number of results: 3077\n"
          ]
        }
      ],
      "source": [
        "# Retrieve images from the Sentinel Hub Catalog for the specified AOI\n",
        "# and time interval in representative batches\n",
        "\n",
        "search_iterator = catalog.search(\n",
        "    DataCollection.SENTINEL2_L1C,\n",
        "    bbox=aoi1_bbox,\n",
        "    time=time_interval,\n",
        "    fields={\"include\": [\"id\", \"properties.datetime\"], \"exclude\": []},\n",
        ")\n",
        "\n",
        "results_prp = list(search_iterator)\n",
        "print(\"Total number of results:\", len(results_prp))\n"
      ]
    },
    {
      "cell_type": "code",
      "execution_count": null,
      "metadata": {
        "colab": {
          "base_uri": "https://localhost:8080/"
        },
        "id": "go_sow-Ung3-",
        "outputId": "fc6267d1-ad81-4a5b-9cb2-618099694ef9"
      },
      "outputs": [
        {
          "name": "stdout",
          "output_type": "stream",
          "text": [
            "Total number of results: 2668\n"
          ]
        }
      ],
      "source": [
        "\n",
        "search_iterator = catalog.search(\n",
        "    DataCollection.SENTINEL2_L1C,\n",
        "    bbox=aoi2_bbox,\n",
        "    time=time_interval,\n",
        "    fields={\"include\": [\"id\", \"properties.datetime\"], \"exclude\": []},\n",
        ")\n",
        "\n",
        "results_nec = list(search_iterator)\n",
        "print(\"Total number of results:\", len(results_nec))"
      ]
    },
    {
      "cell_type": "code",
      "execution_count": null,
      "metadata": {
        "colab": {
          "base_uri": "https://localhost:8080/"
        },
        "id": "Gv6MZ4gXnhKt",
        "outputId": "34938794-382f-4989-85b5-307900d63630"
      },
      "outputs": [
        {
          "name": "stdout",
          "output_type": "stream",
          "text": [
            "Total number of results: 382\n"
          ]
        }
      ],
      "source": [
        "\n",
        "search_iterator = catalog.search(\n",
        "    DataCollection.SENTINEL2_L1C,\n",
        "    bbox=aoi3_bbox,\n",
        "    time=time_interval,\n",
        "    fields={\"include\": [\"id\", \"properties.datetime\"], \"exclude\": []},\n",
        ")\n",
        "\n",
        "results_sec = list(search_iterator)\n",
        "print(\"Total number of results:\", len(results_sec))"
      ]
    },
    {
      "cell_type": "code",
      "execution_count": null,
      "metadata": {
        "colab": {
          "base_uri": "https://localhost:8080/"
        },
        "id": "Q0rzK12MvJTe",
        "outputId": "6ce0a52b-056b-4b92-cfdf-796770536839"
      },
      "outputs": [
        {
          "name": "stdout",
          "output_type": "stream",
          "text": [
            "Total number of results: 1802\n"
          ]
        }
      ],
      "source": [
        "search_iterator = catalog.search(\n",
        "    DataCollection.SENTINEL2_L1C,\n",
        "    bbox=aoi4_bbox,\n",
        "    time=time_interval,\n",
        "    fields={\"include\": [\"id\", \"properties.datetime\"], \"exclude\": []},\n",
        ")\n",
        "\n",
        "results_gen = list(search_iterator)\n",
        "print(\"Total number of results:\", len(results_gen))"
      ]
    },
    {
      "cell_type": "code",
      "execution_count": null,
      "metadata": {
        "colab": {
          "base_uri": "https://localhost:8080/"
        },
        "id": "6Ns7yTVOxwW8",
        "outputId": "5a780b95-4bda-4442-8735-9d71a2aefe54"
      },
      "outputs": [
        {
          "name": "stdout",
          "output_type": "stream",
          "text": [
            "Drive already mounted at /content/drive; to attempt to forcibly remount, call drive.mount(\"/content/drive\", force_remount=True).\n",
            "Available variables:\n",
            "dict_keys(['s2_product', 'dec_time', 'x_centroid', 'y_centroid', 'lat_centroid', 'lon_centroid', 'n_pixels_fil', 'limits', 'pixel_x', 'pixel_y', 'pixel_spec'])\n"
          ]
        }
      ],
      "source": [
        "from google.colab import drive\n",
        "drive.mount('/content/drive')\n",
        "\n",
        "from netCDF4 import Dataset\n",
        "\n",
        "file_path = '/content/drive/MyDrive/WASP_LW_SENT2_MED_L1C_B_201506_202109_10m_6y_NRT_v1.0.nc'\n",
        "ds = Dataset(file_path, mode='r')\n",
        "\n",
        "print(\"Available variables:\")\n",
        "print(ds.variables.keys())"
      ]
    },
    {
      "cell_type": "code",
      "execution_count": null,
      "metadata": {
        "colab": {
          "base_uri": "https://localhost:8080/"
        },
        "id": "M0JmdgtwLWb8",
        "outputId": "1cbcc719-05a0-4960-e7f8-0ca9a9803530"
      },
      "outputs": [
        {
          "name": "stdout",
          "output_type": "stream",
          "text": [
            "Po_River_Plume: 1512 filaments found\n",
            "Northern_Corsica: 39 filaments found\n",
            "South_East_Calabria: 27 filaments found\n",
            "Gulf_of_Genova: 31 filaments found\n"
          ]
        }
      ],
      "source": [
        "import numpy as np\n",
        "\n",
        "# Load all centroids\n",
        "lat = ds.variables['lat_centroid'][:]\n",
        "lon = ds.variables['lon_centroid'][:]\n",
        "\n",
        "# Initialize results\n",
        "filtered_filaments = {\n",
        "    AOI1: [],\n",
        "    AOI2: [],\n",
        "    AOI3: [],\n",
        "    AOI4: [],\n",
        "}\n",
        "\n",
        "# Check which centroids fall in each AOI\n",
        "for i in range(len(lat)):\n",
        "    lat_i, lon_i = lat[i], lon[i]\n",
        "\n",
        "    for aoi, (min_lon, min_lat, max_lon, max_lat) in AOI_BBOXES.items():\n",
        "        if (min_lon <= lon_i <= max_lon) and (min_lat <= lat_i <= max_lat):\n",
        "            filtered_filaments[aoi].append(i)\n",
        "\n",
        "# Print summary\n",
        "for aoi in filtered_filaments:\n",
        "    print(f\"{aoi}: {len(filtered_filaments[aoi])} filaments found\")"
      ]
    },
    {
      "cell_type": "code",
      "execution_count": null,
      "metadata": {
        "colab": {
          "base_uri": "https://localhost:8080/"
        },
        "id": "wrN8L0CuEL9S",
        "outputId": "67fac514-6fd7-4a06-c817-015ba8b9df5a"
      },
      "outputs": [
        {
          "name": "stdout",
          "output_type": "stream",
          "text": [
            "\n",
            "Filament #3298\n",
            "Number of pixels: 16\n",
            "Bounding box: [8534 3246 8578 3322]\n",
            "First 5 pixel coords: [(np.int16(3262), np.int16(8554)), (np.int16(3265), np.int16(8553)), (np.int16(3266), np.int16(8553)), (np.int16(3275), np.int16(8551)), (np.int16(3276), np.int16(8551))]\n",
            "\n",
            "Filament #3299\n",
            "Number of pixels: 101\n",
            "Bounding box: [9050 2582 9280 2714]\n",
            "First 5 pixel coords: [(np.int16(2605), np.int16(9067)), (np.int16(2605), np.int16(9069)), (np.int16(2606), np.int16(9069)), (np.int16(2606), np.int16(9070)), (np.int16(2607), np.int16(9086))]\n",
            "\n",
            "Filament #3300\n",
            "Number of pixels: 11\n",
            "Bounding box: [9305 2681 9346 2710]\n",
            "First 5 pixel coords: [(np.int16(2692), np.int16(9315)), (np.int16(2692), np.int16(9320)), (np.int16(2692), np.int16(9321)), (np.int16(2693), np.int16(9321)), (np.int16(2693), np.int16(9322))]\n"
          ]
        }
      ],
      "source": [
        "# Load all relevant variables\n",
        "pixel_x_all = ds.variables['pixel_x']\n",
        "pixel_y_all = ds.variables['pixel_y']\n",
        "limits_all = ds.variables['limits']\n",
        "n_pixels_all = ds.variables['n_pixels_fil']\n",
        "\n",
        "\n",
        "filament_indices = filtered_filaments[AOI1]\n",
        "\n",
        "# Store data for each filament\n",
        "aoi_filaments_data = []\n",
        "\n",
        "for idx in filament_indices:\n",
        "    n_pixels = n_pixels_all[idx]\n",
        "\n",
        "    # Get valid pixel coordinates\n",
        "    px = pixel_x_all[idx][:n_pixels]\n",
        "    py = pixel_y_all[idx][:n_pixels]\n",
        "\n",
        "    # Get bounding box: [x_min, y_min, x_max, y_max]\n",
        "    bbox = limits_all[idx]\n",
        "\n",
        "    aoi_filaments_data.append({\n",
        "        'index': idx,\n",
        "        'n_pixels': n_pixels,\n",
        "        'pixels_x': px,\n",
        "        'pixels_y': py,\n",
        "        'bbox': bbox\n",
        "    })\n",
        "\n",
        "# Print summary of first 3 filaments\n",
        "for i, f in enumerate(aoi_filaments_data[:3]):\n",
        "    print(f\"\\nFilament #{f['index']}\")\n",
        "    print(f\"Number of pixels: {f['n_pixels']}\")\n",
        "    print(f\"Bounding box: {f['bbox']}\")\n",
        "    print(f\"First 5 pixel coords: {list(zip(f['pixels_x'][:5], f['pixels_y'][:5]))}\")"
      ]
    },
    {
      "cell_type": "code",
      "execution_count": null,
      "metadata": {
        "id": "Ioa_aBP11LJP"
      },
      "outputs": [],
      "source": [
        "# --- Config ---\n",
        "netcdf_path = \"/content/drive/MyDrive/WASP_LW_SENT2_MED_L1C_B_201506_202109_10m_6y_NRT_v1.0.nc\"\n",
        "output_dir = \"/content/drive/MyDrive/data/window_litter/patches/\"\n",
        "os.makedirs(output_dir, exist_ok=True)\n"
      ]
    },
    {
      "cell_type": "code",
      "execution_count": null,
      "metadata": {},
      "outputs": [],
      "source": [
        "# NetCDF-Driven Pipeline: Build 256x256 Image-Mask Pairs from Filament Annotations\n",
        "\n",
        "from netCDF4 import Dataset\n",
        "import pandas as pd\n",
        "import numpy as np\n",
        "from shapely.geometry import Point, box\n",
        "import re\n",
        "from sentinelhub import SHConfig, BBox, CRS, SentinelHubRequest, MimeType, DataCollection, bbox_to_dimensions\n",
        "import rasterio\n",
        "from rasterio.transform import from_origin\n",
        "import os\n",
        "\n",
        "from shapely.geometry import Point, box\n",
        "\n",
        "raw_products = ds.variables[\"s2_product\"][:]\n",
        "s2_products = [\"\".join(row.astype(str)).strip().split(\".SAFE\")[0] for row in raw_products]\n",
        "\n",
        "def extract_str_time(s):\n",
        "    match = re.search(r\"20\\d{6}T\\d{6}\", s)\n",
        "    return match.group(0) if match else None\n",
        "\n",
        "str_times = [extract_str_time(s) for s in s2_products]\n",
        "\n",
        "filament_df = pd.DataFrame({\n",
        "    \"s2_product\": s2_products,\n",
        "    \"Str_time\": str_times,\n",
        "    \"lat_centroid\": ds.variables[\"lat_centroid\"][:],\n",
        "    \"lon_centroid\": ds.variables[\"lon_centroid\"][:],\n",
        "    \"dec_time\": ds.variables[\"dec_time\"][:],\n",
        "    \"n_pixels_fil\": ds.variables[\"n_pixels_fil\"][:],\n",
        "    \"x_centroid\": ds.variables[\"x_centroid\"][:],\n",
        "    \"y_centroid\": ds.variables[\"y_centroid\"][:]\n",
        "})\n",
        "filament_df.index.name = \"filament_id\"\n",
        "\n",
        "# --- Step 2: Filter by AOI ---\n",
        "def assign_aoi(row):\n",
        "    point = Point(row[\"lon_centroid\"], row[\"lat_centroid\"])\n",
        "    for name, bounds in AOI_BBOXES.items():\n",
        "        if box(*bounds).contains(point):\n",
        "            return name\n",
        "    return None\n",
        "\n",
        "filament_df[\"AOI\"] = filament_df.apply(assign_aoi, axis=1)\n",
        "filament_df.reset_index(drop=False, inplace=True)\n",
        "filament_df = filament_df.dropna(subset=[\"Str_time\", \"AOI\"])\n",
        "print(f\"✅ Filtered to {len(filament_df)} filaments inside AOIs.\")\n",
        "\n",
        "# --- Build pixel lookup by filament using precise per-filament slices ---\n",
        "pixel_map = {}\n",
        "pixel_x_all = ds.variables['pixel_x']\n",
        "pixel_y_all = ds.variables['pixel_y']\n",
        "limits_all = ds.variables['limits']\n",
        "n_pixels_all = ds.variables['n_pixels_fil']\n",
        "\n",
        "for idx in filament_df['filament_id']:\n",
        "    n_pixels = n_pixels_all[idx]\n",
        "    px = pixel_x_all[idx][:n_pixels]\n",
        "    py = pixel_y_all[idx][:n_pixels]\n",
        "    pixel_map[idx] = {\n",
        "        \"px\": px,\n",
        "        \"py\": py,\n",
        "        \"bbox\": limits_all[idx]\n",
        "    }"
      ]
    },
    {
      "cell_type": "code",
      "execution_count": null,
      "metadata": {
        "colab": {
          "base_uri": "https://localhost:8080/",
          "height": 793
        },
        "id": "omeRUTBEUUBd",
        "outputId": "484de9d7-d2f4-4c78-ed3f-46869eadc326"
      },
      "outputs": [
        {
          "name": "stdout",
          "output_type": "stream",
          "text": [
            "📊 Image stats for 2798_20170723T101031 → min: 0, max: 1\n",
            "✅ Image saved for 2798_20170723T101031\n",
            "✅ Mask saved for 2798_20170723T101031\n",
            "⚠️ Empty image (all zeros) for 2799_20170921T101021, skipping.\n",
            "⚠️ Empty image (all zeros) for 2802_20180509T101031, skipping.\n",
            "⚠️ Empty image (all zeros) for 2807_20180323T102021, skipping.\n",
            "📊 Image stats for 2808_20180323T102021 → min: 0, max: 1\n",
            "✅ Image saved for 2808_20180323T102021\n",
            "✅ Mask saved for 2808_20180323T102021\n",
            "⚠️ Empty image (all zeros) for 2809_20180323T102021, skipping.\n",
            "⚠️ Empty image (all zeros) for 2829_20200521T102031, skipping.\n",
            "⚠️ Empty image (all zeros) for 2830_20200521T102031, skipping.\n",
            "⚠️ Empty image (all zeros) for 2831_20200521T102031, skipping.\n",
            "⚠️ Empty image (all zeros) for 2856_20201018T102041, skipping.\n",
            "⚠️ Empty image (all zeros) for 2861_20170517T102031, skipping.\n",
            "⚠️ Empty image (all zeros) for 2862_20170517T102031, skipping.\n",
            "⚠️ Empty image (all zeros) for 2863_20170517T102031, skipping.\n",
            "⚠️ Empty image (all zeros) for 2865_20170517T102031, skipping.\n",
            "⚠️ Empty image (all zeros) for 2866_20170517T102031, skipping.\n",
            "⚠️ Empty image (all zeros) for 2867_20170517T102031, skipping.\n",
            "⚠️ Empty image (all zeros) for 2871_20170517T102031, skipping.\n"
          ]
        },
        {
          "ename": "KeyboardInterrupt",
          "evalue": "",
          "output_type": "error",
          "traceback": [
            "\u001b[0;31m---------------------------------------------------------------------------\u001b[0m",
            "\u001b[0;31mKeyboardInterrupt\u001b[0m                         Traceback (most recent call last)",
            "\u001b[0;32m<ipython-input-82-cb65deefe914>\u001b[0m in \u001b[0;36m<cell line: 0>\u001b[0;34m()\u001b[0m\n\u001b[1;32m    122\u001b[0m \u001b[0;31m# Download patches for all filtered filaments\u001b[0m\u001b[0;34m\u001b[0m\u001b[0;34m\u001b[0m\u001b[0m\n\u001b[1;32m    123\u001b[0m \u001b[0;32mfor\u001b[0m \u001b[0m_\u001b[0m\u001b[0;34m,\u001b[0m \u001b[0mrow\u001b[0m \u001b[0;32min\u001b[0m \u001b[0mfilament_df\u001b[0m\u001b[0;34m.\u001b[0m\u001b[0miterrows\u001b[0m\u001b[0;34m(\u001b[0m\u001b[0;34m)\u001b[0m\u001b[0;34m:\u001b[0m\u001b[0;34m\u001b[0m\u001b[0;34m\u001b[0m\u001b[0m\n\u001b[0;32m--> 124\u001b[0;31m     \u001b[0mdownload_patch_and_mask\u001b[0m\u001b[0;34m(\u001b[0m\u001b[0mrow\u001b[0m\u001b[0;34m)\u001b[0m\u001b[0;34m\u001b[0m\u001b[0;34m\u001b[0m\u001b[0m\n\u001b[0m\u001b[1;32m    125\u001b[0m \u001b[0;34m\u001b[0m\u001b[0m\n\u001b[1;32m    126\u001b[0m \u001b[0;31m# Drop NetCDF handle at the end\u001b[0m\u001b[0;34m\u001b[0m\u001b[0;34m\u001b[0m\u001b[0m\n",
            "\u001b[0;32m<ipython-input-82-cb65deefe914>\u001b[0m in \u001b[0;36mdownload_patch_and_mask\u001b[0;34m(row, patch_size, resolution)\u001b[0m\n\u001b[1;32m     62\u001b[0m \u001b[0;34m\u001b[0m\u001b[0m\n\u001b[1;32m     63\u001b[0m     \u001b[0;32mtry\u001b[0m\u001b[0;34m:\u001b[0m\u001b[0;34m\u001b[0m\u001b[0;34m\u001b[0m\u001b[0m\n\u001b[0;32m---> 64\u001b[0;31m         \u001b[0mimg\u001b[0m \u001b[0;34m=\u001b[0m \u001b[0mrequest\u001b[0m\u001b[0;34m.\u001b[0m\u001b[0mget_data\u001b[0m\u001b[0;34m(\u001b[0m\u001b[0;34m)\u001b[0m\u001b[0;34m[\u001b[0m\u001b[0;36m0\u001b[0m\u001b[0;34m]\u001b[0m\u001b[0;34m\u001b[0m\u001b[0;34m\u001b[0m\u001b[0m\n\u001b[0m\u001b[1;32m     65\u001b[0m         \u001b[0;32mif\u001b[0m \u001b[0mnp\u001b[0m\u001b[0;34m.\u001b[0m\u001b[0mall\u001b[0m\u001b[0;34m(\u001b[0m\u001b[0mimg\u001b[0m \u001b[0;34m==\u001b[0m \u001b[0;36m0\u001b[0m\u001b[0;34m)\u001b[0m\u001b[0;34m:\u001b[0m\u001b[0;34m\u001b[0m\u001b[0;34m\u001b[0m\u001b[0m\n\u001b[1;32m     66\u001b[0m             \u001b[0mprint\u001b[0m\u001b[0;34m(\u001b[0m\u001b[0;34mf\"⚠️ Empty image (all zeros) for {folder_name}, skipping.\"\u001b[0m\u001b[0;34m)\u001b[0m\u001b[0;34m\u001b[0m\u001b[0;34m\u001b[0m\u001b[0m\n",
            "\u001b[0;32m/usr/local/lib/python3.11/dist-packages/sentinelhub/base.py\u001b[0m in \u001b[0;36mget_data\u001b[0;34m(self, save_data, redownload, data_filter, max_threads, decode_data, raise_download_errors, show_progress)\u001b[0m\n\u001b[1;32m    110\u001b[0m         \"\"\"\n\u001b[1;32m    111\u001b[0m         \u001b[0mself\u001b[0m\u001b[0;34m.\u001b[0m\u001b[0m_preprocess_request\u001b[0m\u001b[0;34m(\u001b[0m\u001b[0msave_data\u001b[0m\u001b[0;34m,\u001b[0m \u001b[0;32mTrue\u001b[0m\u001b[0;34m)\u001b[0m\u001b[0;34m\u001b[0m\u001b[0;34m\u001b[0m\u001b[0m\n\u001b[0;32m--> 112\u001b[0;31m         return self._execute_data_download(\n\u001b[0m\u001b[1;32m    113\u001b[0m             \u001b[0mdata_filter\u001b[0m\u001b[0;34m,\u001b[0m\u001b[0;34m\u001b[0m\u001b[0;34m\u001b[0m\u001b[0m\n\u001b[1;32m    114\u001b[0m             \u001b[0mredownload\u001b[0m\u001b[0;34m,\u001b[0m\u001b[0;34m\u001b[0m\u001b[0;34m\u001b[0m\u001b[0m\n",
            "\u001b[0;32m/usr/local/lib/python3.11/dist-packages/sentinelhub/base.py\u001b[0m in \u001b[0;36m_execute_data_download\u001b[0;34m(self, data_filter, redownload, max_threads, raise_download_errors, decode_data, show_progress)\u001b[0m\n\u001b[1;32m    184\u001b[0m             \u001b[0mredownload\u001b[0m\u001b[0;34m=\u001b[0m\u001b[0mredownload\u001b[0m\u001b[0;34m,\u001b[0m \u001b[0mraise_download_errors\u001b[0m\u001b[0;34m=\u001b[0m\u001b[0mraise_download_errors\u001b[0m\u001b[0;34m,\u001b[0m \u001b[0mconfig\u001b[0m\u001b[0;34m=\u001b[0m\u001b[0mself\u001b[0m\u001b[0;34m.\u001b[0m\u001b[0mconfig\u001b[0m\u001b[0;34m\u001b[0m\u001b[0;34m\u001b[0m\u001b[0m\n\u001b[1;32m    185\u001b[0m         )\n\u001b[0;32m--> 186\u001b[0;31m         data_list = client.download(\n\u001b[0m\u001b[1;32m    187\u001b[0m             \u001b[0mfiltered_download_list\u001b[0m\u001b[0;34m,\u001b[0m \u001b[0mmax_threads\u001b[0m\u001b[0;34m=\u001b[0m\u001b[0mmax_threads\u001b[0m\u001b[0;34m,\u001b[0m \u001b[0mdecode_data\u001b[0m\u001b[0;34m=\u001b[0m\u001b[0mdecode_data\u001b[0m\u001b[0;34m,\u001b[0m \u001b[0mshow_progress\u001b[0m\u001b[0;34m=\u001b[0m\u001b[0mshow_progress\u001b[0m\u001b[0;34m\u001b[0m\u001b[0;34m\u001b[0m\u001b[0m\n\u001b[1;32m    188\u001b[0m         )\n",
            "\u001b[0;32m/usr/local/lib/python3.11/dist-packages/sentinelhub/download/sentinelhub_client.py\u001b[0m in \u001b[0;36mdownload\u001b[0;34m(self, *args, **kwargs)\u001b[0m\n\u001b[1;32m     66\u001b[0m         \u001b[0mself\u001b[0m\u001b[0;34m.\u001b[0m\u001b[0mlock\u001b[0m \u001b[0;34m=\u001b[0m \u001b[0mLock\u001b[0m\u001b[0;34m(\u001b[0m\u001b[0;34m)\u001b[0m\u001b[0;34m\u001b[0m\u001b[0;34m\u001b[0m\u001b[0m\n\u001b[1;32m     67\u001b[0m         \u001b[0;32mtry\u001b[0m\u001b[0;34m:\u001b[0m\u001b[0;34m\u001b[0m\u001b[0;34m\u001b[0m\u001b[0m\n\u001b[0;32m---> 68\u001b[0;31m             \u001b[0;32mreturn\u001b[0m \u001b[0msuper\u001b[0m\u001b[0;34m(\u001b[0m\u001b[0;34m)\u001b[0m\u001b[0;34m.\u001b[0m\u001b[0mdownload\u001b[0m\u001b[0;34m(\u001b[0m\u001b[0;34m*\u001b[0m\u001b[0margs\u001b[0m\u001b[0;34m,\u001b[0m \u001b[0;34m**\u001b[0m\u001b[0mkwargs\u001b[0m\u001b[0;34m)\u001b[0m\u001b[0;34m\u001b[0m\u001b[0;34m\u001b[0m\u001b[0m\n\u001b[0m\u001b[1;32m     69\u001b[0m         \u001b[0;32mfinally\u001b[0m\u001b[0;34m:\u001b[0m\u001b[0;34m\u001b[0m\u001b[0;34m\u001b[0m\u001b[0m\n\u001b[1;32m     70\u001b[0m             \u001b[0mself\u001b[0m\u001b[0;34m.\u001b[0m\u001b[0mlock\u001b[0m \u001b[0;34m=\u001b[0m \u001b[0;32mNone\u001b[0m\u001b[0;34m\u001b[0m\u001b[0;34m\u001b[0m\u001b[0m\n",
            "\u001b[0;32m/usr/local/lib/python3.11/dist-packages/sentinelhub/download/client.py\u001b[0m in \u001b[0;36mdownload\u001b[0;34m(self, download_requests, max_threads, decode_data, show_progress)\u001b[0m\n\u001b[1;32m     96\u001b[0m             \u001b[0mprogress_context\u001b[0m \u001b[0;34m=\u001b[0m \u001b[0mtqdm\u001b[0m\u001b[0;34m(\u001b[0m\u001b[0mtotal\u001b[0m\u001b[0;34m=\u001b[0m\u001b[0mlen\u001b[0m\u001b[0;34m(\u001b[0m\u001b[0mdownload_list\u001b[0m\u001b[0;34m)\u001b[0m\u001b[0;34m)\u001b[0m \u001b[0;32mif\u001b[0m \u001b[0mshow_progress\u001b[0m \u001b[0;32melse\u001b[0m \u001b[0mnullcontext\u001b[0m\u001b[0;34m(\u001b[0m\u001b[0;34m)\u001b[0m\u001b[0;34m\u001b[0m\u001b[0;34m\u001b[0m\u001b[0m\n\u001b[1;32m     97\u001b[0m             \u001b[0;32mwith\u001b[0m \u001b[0mprogress_context\u001b[0m \u001b[0;32mas\u001b[0m \u001b[0mprogress_bar\u001b[0m\u001b[0;34m:\u001b[0m\u001b[0;34m\u001b[0m\u001b[0;34m\u001b[0m\u001b[0m\n\u001b[0;32m---> 98\u001b[0;31m                 \u001b[0;32mfor\u001b[0m \u001b[0mfuture\u001b[0m \u001b[0;32min\u001b[0m \u001b[0mas_completed\u001b[0m\u001b[0;34m(\u001b[0m\u001b[0mdownload_list\u001b[0m\u001b[0;34m)\u001b[0m\u001b[0;34m:\u001b[0m\u001b[0;34m\u001b[0m\u001b[0;34m\u001b[0m\u001b[0m\n\u001b[0m\u001b[1;32m     99\u001b[0m                     \u001b[0;32mtry\u001b[0m\u001b[0;34m:\u001b[0m\u001b[0;34m\u001b[0m\u001b[0;34m\u001b[0m\u001b[0m\n\u001b[1;32m    100\u001b[0m                         \u001b[0mresults\u001b[0m\u001b[0;34m[\u001b[0m\u001b[0mfuture_order\u001b[0m\u001b[0;34m[\u001b[0m\u001b[0mfuture\u001b[0m\u001b[0;34m]\u001b[0m\u001b[0;34m]\u001b[0m \u001b[0;34m=\u001b[0m \u001b[0mfuture\u001b[0m\u001b[0;34m.\u001b[0m\u001b[0mresult\u001b[0m\u001b[0;34m(\u001b[0m\u001b[0;34m)\u001b[0m\u001b[0;34m\u001b[0m\u001b[0;34m\u001b[0m\u001b[0m\n",
            "\u001b[0;32m/usr/lib/python3.11/concurrent/futures/_base.py\u001b[0m in \u001b[0;36mas_completed\u001b[0;34m(fs, timeout)\u001b[0m\n\u001b[1;32m    241\u001b[0m                             len(pending), total_futures))\n\u001b[1;32m    242\u001b[0m \u001b[0;34m\u001b[0m\u001b[0m\n\u001b[0;32m--> 243\u001b[0;31m             \u001b[0mwaiter\u001b[0m\u001b[0;34m.\u001b[0m\u001b[0mevent\u001b[0m\u001b[0;34m.\u001b[0m\u001b[0mwait\u001b[0m\u001b[0;34m(\u001b[0m\u001b[0mwait_timeout\u001b[0m\u001b[0;34m)\u001b[0m\u001b[0;34m\u001b[0m\u001b[0;34m\u001b[0m\u001b[0m\n\u001b[0m\u001b[1;32m    244\u001b[0m \u001b[0;34m\u001b[0m\u001b[0m\n\u001b[1;32m    245\u001b[0m             \u001b[0;32mwith\u001b[0m \u001b[0mwaiter\u001b[0m\u001b[0;34m.\u001b[0m\u001b[0mlock\u001b[0m\u001b[0;34m:\u001b[0m\u001b[0;34m\u001b[0m\u001b[0;34m\u001b[0m\u001b[0m\n",
            "\u001b[0;32m/usr/lib/python3.11/threading.py\u001b[0m in \u001b[0;36mwait\u001b[0;34m(self, timeout)\u001b[0m\n\u001b[1;32m    627\u001b[0m             \u001b[0msignaled\u001b[0m \u001b[0;34m=\u001b[0m \u001b[0mself\u001b[0m\u001b[0;34m.\u001b[0m\u001b[0m_flag\u001b[0m\u001b[0;34m\u001b[0m\u001b[0;34m\u001b[0m\u001b[0m\n\u001b[1;32m    628\u001b[0m             \u001b[0;32mif\u001b[0m \u001b[0;32mnot\u001b[0m \u001b[0msignaled\u001b[0m\u001b[0;34m:\u001b[0m\u001b[0;34m\u001b[0m\u001b[0;34m\u001b[0m\u001b[0m\n\u001b[0;32m--> 629\u001b[0;31m                 \u001b[0msignaled\u001b[0m \u001b[0;34m=\u001b[0m \u001b[0mself\u001b[0m\u001b[0;34m.\u001b[0m\u001b[0m_cond\u001b[0m\u001b[0;34m.\u001b[0m\u001b[0mwait\u001b[0m\u001b[0;34m(\u001b[0m\u001b[0mtimeout\u001b[0m\u001b[0;34m)\u001b[0m\u001b[0;34m\u001b[0m\u001b[0;34m\u001b[0m\u001b[0m\n\u001b[0m\u001b[1;32m    630\u001b[0m             \u001b[0;32mreturn\u001b[0m \u001b[0msignaled\u001b[0m\u001b[0;34m\u001b[0m\u001b[0;34m\u001b[0m\u001b[0m\n\u001b[1;32m    631\u001b[0m \u001b[0;34m\u001b[0m\u001b[0m\n",
            "\u001b[0;32m/usr/lib/python3.11/threading.py\u001b[0m in \u001b[0;36mwait\u001b[0;34m(self, timeout)\u001b[0m\n\u001b[1;32m    325\u001b[0m         \u001b[0;32mtry\u001b[0m\u001b[0;34m:\u001b[0m    \u001b[0;31m# restore state no matter what (e.g., KeyboardInterrupt)\u001b[0m\u001b[0;34m\u001b[0m\u001b[0;34m\u001b[0m\u001b[0m\n\u001b[1;32m    326\u001b[0m             \u001b[0;32mif\u001b[0m \u001b[0mtimeout\u001b[0m \u001b[0;32mis\u001b[0m \u001b[0;32mNone\u001b[0m\u001b[0;34m:\u001b[0m\u001b[0;34m\u001b[0m\u001b[0;34m\u001b[0m\u001b[0m\n\u001b[0;32m--> 327\u001b[0;31m                 \u001b[0mwaiter\u001b[0m\u001b[0;34m.\u001b[0m\u001b[0macquire\u001b[0m\u001b[0;34m(\u001b[0m\u001b[0;34m)\u001b[0m\u001b[0;34m\u001b[0m\u001b[0;34m\u001b[0m\u001b[0m\n\u001b[0m\u001b[1;32m    328\u001b[0m                 \u001b[0mgotit\u001b[0m \u001b[0;34m=\u001b[0m \u001b[0;32mTrue\u001b[0m\u001b[0;34m\u001b[0m\u001b[0;34m\u001b[0m\u001b[0m\n\u001b[1;32m    329\u001b[0m             \u001b[0;32melse\u001b[0m\u001b[0;34m:\u001b[0m\u001b[0;34m\u001b[0m\u001b[0;34m\u001b[0m\u001b[0m\n",
            "\u001b[0;31mKeyboardInterrupt\u001b[0m: "
          ]
        }
      ],
      "source": [
        "# NetCDF-Driven Pipeline: Build 256x256 Image-Mask Pairs from Filament Annotations\n",
        "\n",
        "from netCDF4 import Dataset\n",
        "import pandas as pd\n",
        "import numpy as np\n",
        "from shapely.geometry import Point, box\n",
        "import re\n",
        "from sentinelhub import SHConfig, BBox, CRS, SentinelHubRequest, MimeType, DataCollection, bbox_to_dimensions\n",
        "import rasterio\n",
        "from rasterio.transform import from_origin\n",
        "import os\n",
        "\n",
        "def download_patch_and_mask(row, patch_size=256, resolution=10, output_base_dir='patches'):\n",
        "    lat, lon = row[\"lat_centroid\"], row[\"lon_centroid\"]\n",
        "    str_time = row[\"Str_time\"]\n",
        "    filament_id = row[\"filament_id\"]\n",
        "    x_centroid, y_centroid = int(row[\"x_centroid\"]), int(row[\"y_centroid\"])\n",
        "\n",
        "    folder_name = f\"{filament_id}_{str_time}\"\n",
        "    filament_folder = os.path.join(output_base_dir, folder_name)\n",
        "    os.makedirs(filament_folder, exist_ok=True)\n",
        "\n",
        "    # Define bbox around centroid\n",
        "    half_size = (patch_size * resolution) / 2.0\n",
        "    meters_per_deg_lat = 111320  # approx\n",
        "    delta_deg = half_size / meters_per_deg_lat\n",
        "    bbox = BBox(bbox=[lon - delta_deg, lat - delta_deg, lon + delta_deg, lat + delta_deg], crs=CRS.WGS84)\n",
        "    size = (patch_size, patch_size)\n",
        "\n",
        "    evalscript = \"\"\"\n",
        "    //VERSION=3\n",
        "    function setup() {\n",
        "        return {\n",
        "            input: [{bands: [\"B01\", \"B02\", \"B03\", \"B04\", \"B05\", \"B06\", \"B07\", \"B08\", \"B8A\", \"B11\", \"B12\"]}],\n",
        "            output: {bands: 11, sampleType: \"UINT16\"}\n",
        "        };\n",
        "    }\n",
        "    function evaluatePixel(sample) {\n",
        "        return [sample.B01, sample.B02, sample.B03, sample.B04, sample.B05, sample.B06, sample.B07,\n",
        "                sample.B08, sample.B8A, sample.B11, sample.B12];\n",
        "    }\n",
        "    \"\"\"\n",
        "    start = pd.to_datetime(str_time) - pd.Timedelta(days=1)\n",
        "    end = pd.to_datetime(str_time) + pd.Timedelta(days=1)\n",
        "\n",
        "    request = SentinelHubRequest(\n",
        "        evalscript=evalscript,\n",
        "        input_data=[\n",
        "            SentinelHubRequest.input_data(\n",
        "                data_collection=DataCollection.SENTINEL2_L2A.define_from(\n",
        "                    name=\"s2l2a\", service_url=\"https://sh.dataspace.copernicus.eu\"\n",
        "                ),\n",
        "                time_interval=(start.strftime(\"%Y-%m-%d\"), end.strftime(\"%Y-%m-%d\")),\n",
        "                other_args={\"dataFilter\": {\"mosaickingOrder\": \"leastCC\"},  \"processing\": {\"previewInput\": True}},\n",
        "            )\n",
        "        ],\n",
        "        responses=[SentinelHubRequest.output_response(\"default\", MimeType.TIFF)],\n",
        "        bbox=bbox,\n",
        "        size=size,\n",
        "        config=config,\n",
        "    )\n",
        "\n",
        "    try:\n",
        "        img = request.get_data()[0]\n",
        "        if np.all(img == 0):\n",
        "            print(f\"Empty image (all zeros) for {folder_name}, skipping.\")\n",
        "            return\n",
        "        print(f\"📊 Image stats for {folder_name} → min: {img.min()}, max: {img.max()}\")  # shape: (256, 256, 11)\n",
        "        transform = from_origin(bbox.lower_left[0], bbox.upper_right[1], resolution / 111320, resolution / 111320)\n",
        "        img_path = os.path.join(filament_folder, f\"{folder_name}.tif\")\n",
        "        with rasterio.open(\n",
        "            img_path,\n",
        "            \"w\",\n",
        "            driver=\"GTiff\",\n",
        "            height=img.shape[0],\n",
        "            width=img.shape[1],\n",
        "            count=img.shape[2],\n",
        "            dtype=img.dtype,\n",
        "            crs=\"EPSG:4326\",\n",
        "            transform=transform,\n",
        "        ) as dst:\n",
        "            for band in range(img.shape[2]):\n",
        "                dst.write(img[:, :, band], band + 1)\n",
        "        print(f\"Image saved for {folder_name}\")\n",
        "    except Exception as e:\n",
        "        print(f\"Failed to fetch image for {folder_name}: {e}\")\n",
        "\n",
        "    # Build binary mask using centroid and offset\n",
        "    if filament_id not in pixel_map:\n",
        "        print(f\"No pixels found for filament {filament_id}\")\n",
        "        return\n",
        "\n",
        "    px_fil = pixel_map[filament_id][\"px\"]\n",
        "    py_fil = pixel_map[filament_id][\"py\"]\n",
        "    mask = np.zeros((patch_size, patch_size), dtype=np.uint8)\n",
        "\n",
        "    for x, y in zip(px_fil, py_fil):\n",
        "        rel_x = int(x - x_centroid + patch_size // 2)\n",
        "        rel_y = int(y - y_centroid + patch_size // 2)\n",
        "        if 0 <= rel_x < patch_size and 0 <= rel_y < patch_size:\n",
        "            mask[rel_y, rel_x] = 255\n",
        "\n",
        "    if mask.sum() == 0:\n",
        "        print(f\"Skipping mask for {folder_name} — no overlapping pixels in patch.\")\n",
        "        return\n",
        "\n",
        "    mask_path = os.path.join(filament_folder, f\"{folder_name}_cl.tif\")\n",
        "    with rasterio.open(\n",
        "        mask_path,\n",
        "        \"w\",\n",
        "        driver=\"GTiff\",\n",
        "        height=mask.shape[0],\n",
        "        width=mask.shape[1],\n",
        "        count=1,\n",
        "        dtype=mask.dtype,\n",
        "        crs=\"EPSG:4326\",\n",
        "        transform=transform,\n",
        "    ) as dst:\n",
        "        dst.write(mask, 1)\n",
        "    print(f\"✅ Mask saved for {folder_name}\")\n",
        "\n",
        "# Download patches for all filtered filaments\n",
        "for _, row in filament_df.iterrows():\n",
        "    download_patch_and_mask(row)\n",
        "\n",
        "# Drop NetCDF handle at the end\n",
        "ds.close()\n",
        "\n",
        "# Optional preview:\n",
        "filament_df.head()\n",
        "\n",
        "# --- Visualization Utility ---\n",
        "import matplotlib.pyplot as plt\n",
        "import glob\n",
        "\n",
        "def visualize_patch(patch_dir, band_indices=(4, 3, 2)):  # B04 (R), B03 (G), B02 (B)\n",
        "    image_path = glob.glob(os.path.join(patch_dir, \"*.tif\"))[0]\n",
        "    mask_path = glob.glob(os.path.join(patch_dir, \"*_cl.tif\"))[0]\n",
        "\n",
        "    with rasterio.open(image_path) as src:\n",
        "        img = src.read()\n",
        "        rgb = np.stack([img[band_indices[0]-1], img[band_indices[1]-1], img[band_indices[2]-1]], axis=-1)\n",
        "        norm = np.percentile(rgb, 98)\n",
        "        rgb = np.clip(rgb / norm, 0, 1)\n",
        "\n",
        "    with rasterio.open(mask_path) as msk_src:\n",
        "        mask = msk_src.read(1)\n",
        "\n",
        "    plt.figure(figsize=(10, 5))\n",
        "    plt.subplot(1, 2, 1)\n",
        "    plt.imshow(rgb)\n",
        "    plt.title(\"Sentinel-2 Image\")\n",
        "    plt.axis(\"off\")\n",
        "\n",
        "    plt.subplot(1, 2, 2)\n",
        "    plt.imshow(rgb)\n",
        "    plt.imshow(mask, cmap=\"Reds\", alpha=0.4)\n",
        "    plt.title(\"Overlay with Mask\")\n",
        "    plt.axis(\"off\")\n",
        "\n",
        "    plt.tight_layout()\n",
        "    plt.show()\n",
        "\n",
        "# Example usage:\n",
        "# visualize_patch(\"/content/drive/MyDrive/patches/2798_20170703T083011\")\n"
      ]
    }
  ],
  "metadata": {
    "colab": {
      "provenance": []
    },
    "kernelspec": {
      "display_name": "Python 3",
      "name": "python3"
    },
    "language_info": {
      "name": "python"
    }
  },
  "nbformat": 4,
  "nbformat_minor": 0
}
