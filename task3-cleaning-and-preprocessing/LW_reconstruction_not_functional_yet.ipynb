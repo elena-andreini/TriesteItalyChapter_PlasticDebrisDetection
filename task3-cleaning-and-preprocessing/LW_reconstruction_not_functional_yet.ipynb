{
  "cells": [
    {
      "cell_type": "markdown",
      "source": [
        "## Litter Windrow dataset reconstruction\n",
        "not working yet, there is a bug in the mask reconstruction,\n",
        "doesn't overlap the image and mask yet,\n",
        "provides a good overview of the needed functionality"
      ],
      "metadata": {
        "id": "VeDn993IEEMO"
      }
    },
    {
      "cell_type": "code",
      "execution_count": 1,
      "metadata": {
        "id": "tYeZnzrJNNLu"
      },
      "outputs": [],
      "source": [
        "!pip -q install gdown sentinelhub cartopy"
      ]
    },
    {
      "cell_type": "code",
      "source": [
        "import gdown\n",
        "import os\n",
        "import xarray as xr\n",
        "import numpy as np\n",
        "import pandas as pd\n",
        "from tqdm import tqdm\n",
        "import matplotlib.pyplot as plt\n",
        "import random\n",
        "from PIL import Image\n",
        "from datetime import datetime\n",
        "\n",
        "\n",
        "from sentinelhub import (\n",
        "    SHConfig,\n",
        "    DataCollection,\n",
        "    SentinelHubCatalog,\n",
        "    SentinelHubRequest,\n",
        "    SentinelHubStatistical,\n",
        "    BBox,\n",
        "    bbox_to_dimensions,\n",
        "    CRS,\n",
        "    MimeType,\n",
        "    Geometry,\n",
        ")\n",
        "\n",
        "import geopandas as gpd\n",
        "from shapely.geometry import box\n",
        "import cartopy.crs as ccrs\n",
        "import cartopy.feature as cfeature\n",
        "from shapely.geometry import box\n",
        "import cartopy\n",
        "\n",
        "config = SHConfig()\n",
        "config.sh_client_id = \"sh-84d21c38-65f5-410d-9267-b1db4ba47b41\"\n",
        "config.sh_client_secret = \"7ykprUj53bYD42W30gevmHFnI4U5y75M\"\n",
        "config.sh_token_url = \"https://identity.dataspace.copernicus.eu/auth/realms/CDSE/protocol/openid-connect/token\"\n",
        "config.sh_base_url = \"https://sh.dataspace.copernicus.eu\"\n",
        "\n",
        "catalog = SentinelHubCatalog(config=config)\n",
        "resolution = 10"
      ],
      "metadata": {
        "id": "1VsplSy6m1BX"
      },
      "execution_count": 14,
      "outputs": []
    },
    {
      "cell_type": "code",
      "execution_count": 3,
      "metadata": {
        "colab": {
          "base_uri": "https://localhost:8080/",
          "height": 105
        },
        "id": "0gYOC2ufDtl-",
        "outputId": "15af1c13-929b-4412-d778-b057422e1a31"
      },
      "outputs": [
        {
          "output_type": "stream",
          "name": "stderr",
          "text": [
            "Downloading...\n",
            "From: https://zenodo.org/records/11045944/files/WASP_LW_SENT2_MED_L1C_B_201506_202109_10m_6y_NRT_v1.0.nc?download=1\n",
            "To: /content/data.nc\n",
            "100%|██████████| 2.06G/2.06G [01:16<00:00, 27.0MB/s]\n"
          ]
        },
        {
          "output_type": "execute_result",
          "data": {
            "text/plain": [
              "'data.nc'"
            ],
            "application/vnd.google.colaboratory.intrinsic+json": {
              "type": "string"
            }
          },
          "metadata": {},
          "execution_count": 3
        }
      ],
      "source": [
        "url = \"https://zenodo.org/records/11045944/files/WASP_LW_SENT2_MED_L1C_B_201506_202109_10m_6y_NRT_v1.0.nc?download=1\"\n",
        "gdown.download(url, \"data.nc\")"
      ]
    },
    {
      "cell_type": "code",
      "source": [
        "!ls"
      ],
      "metadata": {
        "colab": {
          "base_uri": "https://localhost:8080/"
        },
        "id": "nANcw3Ban8el",
        "outputId": "5b3807d9-640b-4aab-aa27-5610ee6376b7"
      },
      "execution_count": 4,
      "outputs": [
        {
          "output_type": "stream",
          "name": "stdout",
          "text": [
            "data.nc  Images  LW_centroids.xlsx  sample_data\n"
          ]
        }
      ]
    },
    {
      "cell_type": "code",
      "source": [
        "###################### Mars Sara's Code ######################\n",
        "def download_sentinel_images(aoi_coords_wgs84, time_interval, output_dir=\"Images\", resolution=10, max_size=2500):\n",
        "    \"\"\"\n",
        "    Downloads Sentinel-2 true color images for a given AOI and time range.\n",
        "\n",
        "    Parameters:\n",
        "    - aoi_coords_wgs84: list of [min_lon, min_lat, max_lon, max_lat] (AOI bounding box)\n",
        "    - time_interval: tuple of (start_date, end_date) in 'YYYY-MM-DD' format\n",
        "    - output_dir: Directory to save the images (default: 'Po_Images')\n",
        "    - resolution: Spatial resolution in meters per pixel (default: 10m)\n",
        "    - max_size: Maximum image size (Sentinel Hub limit: 2500 pixels)\n",
        "    \"\"\"\n",
        "    # Ensure output directory exists\n",
        "    os.makedirs(output_dir, exist_ok=True)\n",
        "\n",
        "    # Define AOI Bounding Box\n",
        "    aoi_bbox = BBox(bbox=aoi_coords_wgs84, crs=CRS.WGS84)\n",
        "    aoi_size = bbox_to_dimensions(aoi_bbox, resolution=resolution)\n",
        "    aoi_size = (min(aoi_size[0], max_size), min(aoi_size[1], max_size))  # Limit size\n",
        "\n",
        "    # Search for available Sentinel-2 images\n",
        "    search_iterator = catalog.search(\n",
        "        DataCollection.SENTINEL2_L2A,\n",
        "        bbox=aoi_bbox,\n",
        "        time=time_interval,\n",
        "        fields={\"include\": [\"id\", \"properties.datetime\"], \"exclude\": []},\n",
        "    )\n",
        "\n",
        "    results = list(search_iterator)\n",
        "    print(f\"Total number of results: {len(results)}\")\n",
        "\n",
        "    if not results:\n",
        "        print(\"No images found for the given AOI and time interval.\")\n",
        "        return []\n",
        "\n",
        "    # Define SentinelHub evalscript for true color imagery\n",
        "    evalscript_true_color = \"\"\"\n",
        "        //VERSION=3\n",
        "        function setup() {\n",
        "            return { input: [{ bands: [\"B02\", \"B03\", \"B04\"] }], output: { bands: 3 } };\n",
        "        }\n",
        "        function evaluatePixel(sample) {\n",
        "            return [sample.B04, sample.B03, sample.B02];\n",
        "        }\n",
        "    \"\"\"\n",
        "\n",
        "    true_color_imgs = []\n",
        "\n",
        "    # Loop through results to fetch corresponding images\n",
        "    for result in results:\n",
        "        timestamp = result[\"properties\"][\"datetime\"]\n",
        "        print(f\"Fetching image for timestamp: {timestamp}\")\n",
        "\n",
        "        # Request the image\n",
        "        request_true_color = SentinelHubRequest(\n",
        "            evalscript=evalscript_true_color,\n",
        "            input_data=[\n",
        "                SentinelHubRequest.input_data(\n",
        "                    data_collection=DataCollection.SENTINEL2_L2A.define_from(\n",
        "                        name=\"s2l2a\", service_url=\"https://sh.dataspace.copernicus.eu\"\n",
        "                    ),\n",
        "                    time_interval=(timestamp, timestamp),\n",
        "                    other_args={\"dataFilter\": {\"mosaickingOrder\": \"leastCC\"}},\n",
        "                )\n",
        "            ],\n",
        "            responses=[SentinelHubRequest.output_response(\"default\", MimeType.PNG)],\n",
        "            bbox=aoi_bbox,\n",
        "            size=aoi_size,\n",
        "            config=config,\n",
        "        )\n",
        "\n",
        "        # Get the image\n",
        "        image_data = request_true_color.get_data()\n",
        "\n",
        "        if image_data:\n",
        "            image = image_data[0]  # Extract the first image\n",
        "            true_color_imgs.append(image)\n",
        "\n",
        "            # Save the image\n",
        "            formatted_timestamp = timestamp[:19].replace(\":\", \"-\")\n",
        "            filename = os.path.join(output_dir, f\"sentinel_image_{formatted_timestamp}.png\")\n",
        "            img = Image.fromarray(np.uint8(image))\n",
        "            img.save(filename)\n",
        "\n",
        "            print(f\"Saved: {filename}\")\n",
        "\n",
        "    print(f\"Total images downloaded: {len(true_color_imgs)}\")\n",
        "    return true_color_imgs  # Return the list of images"
      ],
      "metadata": {
        "id": "jpbejUcSnIkk"
      },
      "execution_count": 15,
      "outputs": []
    },
    {
      "cell_type": "code",
      "source": [
        "dataset = xr.open_dataset(\"data.nc\")\n",
        "print(f\"{dataset['n_filaments']} total filaments/ litter windrows\")\n",
        "list(dataset.variables.keys())"
      ],
      "metadata": {
        "colab": {
          "base_uri": "https://localhost:8080/"
        },
        "id": "xkAhW3ARxNr5",
        "outputId": "2a440ae0-edaf-40ad-e08d-1f7c5814ae9d"
      },
      "execution_count": 6,
      "outputs": [
        {
          "output_type": "stream",
          "name": "stdout",
          "text": [
            "<xarray.DataArray 'n_filaments' (n_filaments: 14374)> Size: 115kB\n",
            "array([    0,     1,     2, ..., 14371, 14372, 14373])\n",
            "Dimensions without coordinates: n_filaments total filaments/ litter windrows\n"
          ]
        },
        {
          "output_type": "execute_result",
          "data": {
            "text/plain": [
              "['s2_product',\n",
              " 'dec_time',\n",
              " 'x_centroid',\n",
              " 'y_centroid',\n",
              " 'lat_centroid',\n",
              " 'lon_centroid',\n",
              " 'n_pixels_fil',\n",
              " 'limits',\n",
              " 'pixel_x',\n",
              " 'pixel_y',\n",
              " 'pixel_spec']"
            ]
          },
          "metadata": {},
          "execution_count": 6
        }
      ]
    },
    {
      "cell_type": "code",
      "source": [
        "aoi_coords_wgs84 = [12.5, 44.7, 13.0, 45.1]\n",
        "time_interval = (\"2024-03-09\", \"2024-03-10\")\n",
        "\n",
        "download_sentinel_images(aoi_coords_wgs84, time_interval)"
      ],
      "metadata": {
        "colab": {
          "base_uri": "https://localhost:8080/",
          "height": 443
        },
        "collapsed": true,
        "id": "leOG-vWUsP1B",
        "outputId": "2080a7c9-e4c8-42fc-c94f-0a37212bb4cf"
      },
      "execution_count": 7,
      "outputs": [
        {
          "output_type": "stream",
          "name": "stdout",
          "text": [
            "Total number of results: 8\n",
            "Fetching image for timestamp: 2024-03-10T10:08:23.784Z\n"
          ]
        },
        {
          "output_type": "error",
          "ename": "KeyboardInterrupt",
          "evalue": "",
          "traceback": [
            "\u001b[0;31m---------------------------------------------------------------------------\u001b[0m",
            "\u001b[0;31mAttributeError\u001b[0m                            Traceback (most recent call last)",
            "\u001b[0;32m/usr/local/lib/python3.11/dist-packages/PIL/ImageFile.py\u001b[0m in \u001b[0;36m_save\u001b[0;34m(im, fp, tile, bufsize)\u001b[0m\n\u001b[1;32m    553\u001b[0m     \u001b[0;32mtry\u001b[0m\u001b[0;34m:\u001b[0m\u001b[0;34m\u001b[0m\u001b[0;34m\u001b[0m\u001b[0m\n\u001b[0;32m--> 554\u001b[0;31m         \u001b[0mfh\u001b[0m \u001b[0;34m=\u001b[0m \u001b[0mfp\u001b[0m\u001b[0;34m.\u001b[0m\u001b[0mfileno\u001b[0m\u001b[0;34m(\u001b[0m\u001b[0;34m)\u001b[0m\u001b[0;34m\u001b[0m\u001b[0;34m\u001b[0m\u001b[0m\n\u001b[0m\u001b[1;32m    555\u001b[0m         \u001b[0mfp\u001b[0m\u001b[0;34m.\u001b[0m\u001b[0mflush\u001b[0m\u001b[0;34m(\u001b[0m\u001b[0;34m)\u001b[0m\u001b[0;34m\u001b[0m\u001b[0;34m\u001b[0m\u001b[0m\n",
            "\u001b[0;31mAttributeError\u001b[0m: '_idat' object has no attribute 'fileno'",
            "\nDuring handling of the above exception, another exception occurred:\n",
            "\u001b[0;31mKeyboardInterrupt\u001b[0m                         Traceback (most recent call last)",
            "\u001b[0;32m<ipython-input-7-b19a02bef67e>\u001b[0m in \u001b[0;36m<cell line: 0>\u001b[0;34m()\u001b[0m\n\u001b[1;32m      2\u001b[0m \u001b[0mtime_interval\u001b[0m \u001b[0;34m=\u001b[0m \u001b[0;34m(\u001b[0m\u001b[0;34m\"2024-03-08\"\u001b[0m\u001b[0;34m,\u001b[0m \u001b[0;34m\"2024-03-10\"\u001b[0m\u001b[0;34m)\u001b[0m\u001b[0;34m\u001b[0m\u001b[0;34m\u001b[0m\u001b[0m\n\u001b[1;32m      3\u001b[0m \u001b[0;34m\u001b[0m\u001b[0m\n\u001b[0;32m----> 4\u001b[0;31m \u001b[0mdownload_sentinel_images\u001b[0m\u001b[0;34m(\u001b[0m\u001b[0maoi_coords_wgs84\u001b[0m\u001b[0;34m,\u001b[0m \u001b[0mtime_interval\u001b[0m\u001b[0;34m)\u001b[0m\u001b[0;34m\u001b[0m\u001b[0;34m\u001b[0m\u001b[0m\n\u001b[0m",
            "\u001b[0;32m<ipython-input-5-2f3d5f3f3f43>\u001b[0m in \u001b[0;36mdownload_sentinel_images\u001b[0;34m(aoi_coords_wgs84, time_interval, output_dir, resolution, max_size)\u001b[0m\n\u001b[1;32m     80\u001b[0m             \u001b[0mfilename\u001b[0m \u001b[0;34m=\u001b[0m \u001b[0mos\u001b[0m\u001b[0;34m.\u001b[0m\u001b[0mpath\u001b[0m\u001b[0;34m.\u001b[0m\u001b[0mjoin\u001b[0m\u001b[0;34m(\u001b[0m\u001b[0moutput_dir\u001b[0m\u001b[0;34m,\u001b[0m \u001b[0;34mf\"sentinel_image_{formatted_timestamp}.png\"\u001b[0m\u001b[0;34m)\u001b[0m\u001b[0;34m\u001b[0m\u001b[0;34m\u001b[0m\u001b[0m\n\u001b[1;32m     81\u001b[0m             \u001b[0mimg\u001b[0m \u001b[0;34m=\u001b[0m \u001b[0mImage\u001b[0m\u001b[0;34m.\u001b[0m\u001b[0mfromarray\u001b[0m\u001b[0;34m(\u001b[0m\u001b[0mnp\u001b[0m\u001b[0;34m.\u001b[0m\u001b[0muint8\u001b[0m\u001b[0;34m(\u001b[0m\u001b[0mimage\u001b[0m\u001b[0;34m)\u001b[0m\u001b[0;34m)\u001b[0m\u001b[0;34m\u001b[0m\u001b[0;34m\u001b[0m\u001b[0m\n\u001b[0;32m---> 82\u001b[0;31m             \u001b[0mimg\u001b[0m\u001b[0;34m.\u001b[0m\u001b[0msave\u001b[0m\u001b[0;34m(\u001b[0m\u001b[0mfilename\u001b[0m\u001b[0;34m)\u001b[0m\u001b[0;34m\u001b[0m\u001b[0;34m\u001b[0m\u001b[0m\n\u001b[0m\u001b[1;32m     83\u001b[0m \u001b[0;34m\u001b[0m\u001b[0m\n\u001b[1;32m     84\u001b[0m             \u001b[0mprint\u001b[0m\u001b[0;34m(\u001b[0m\u001b[0;34mf\"Saved: {filename}\"\u001b[0m\u001b[0;34m)\u001b[0m\u001b[0;34m\u001b[0m\u001b[0;34m\u001b[0m\u001b[0m\n",
            "\u001b[0;32m/usr/local/lib/python3.11/dist-packages/PIL/Image.py\u001b[0m in \u001b[0;36msave\u001b[0;34m(self, fp, format, **params)\u001b[0m\n\u001b[1;32m   2594\u001b[0m \u001b[0;34m\u001b[0m\u001b[0m\n\u001b[1;32m   2595\u001b[0m         \u001b[0;32mtry\u001b[0m\u001b[0;34m:\u001b[0m\u001b[0;34m\u001b[0m\u001b[0;34m\u001b[0m\u001b[0m\n\u001b[0;32m-> 2596\u001b[0;31m             \u001b[0msave_handler\u001b[0m\u001b[0;34m(\u001b[0m\u001b[0mself\u001b[0m\u001b[0;34m,\u001b[0m \u001b[0mfp\u001b[0m\u001b[0;34m,\u001b[0m \u001b[0mfilename\u001b[0m\u001b[0;34m)\u001b[0m\u001b[0;34m\u001b[0m\u001b[0;34m\u001b[0m\u001b[0m\n\u001b[0m\u001b[1;32m   2597\u001b[0m         \u001b[0;32mexcept\u001b[0m \u001b[0mException\u001b[0m\u001b[0;34m:\u001b[0m\u001b[0;34m\u001b[0m\u001b[0;34m\u001b[0m\u001b[0m\n\u001b[1;32m   2598\u001b[0m             \u001b[0;32mif\u001b[0m \u001b[0mopen_fp\u001b[0m\u001b[0;34m:\u001b[0m\u001b[0;34m\u001b[0m\u001b[0;34m\u001b[0m\u001b[0m\n",
            "\u001b[0;32m/usr/local/lib/python3.11/dist-packages/PIL/PngImagePlugin.py\u001b[0m in \u001b[0;36m_save\u001b[0;34m(im, fp, filename, chunk, save_all)\u001b[0m\n\u001b[1;32m   1486\u001b[0m         )\n\u001b[1;32m   1487\u001b[0m     \u001b[0;32mif\u001b[0m \u001b[0msingle_im\u001b[0m\u001b[0;34m:\u001b[0m\u001b[0;34m\u001b[0m\u001b[0;34m\u001b[0m\u001b[0m\n\u001b[0;32m-> 1488\u001b[0;31m         ImageFile._save(\n\u001b[0m\u001b[1;32m   1489\u001b[0m             \u001b[0msingle_im\u001b[0m\u001b[0;34m,\u001b[0m\u001b[0;34m\u001b[0m\u001b[0;34m\u001b[0m\u001b[0m\n\u001b[1;32m   1490\u001b[0m             \u001b[0mcast\u001b[0m\u001b[0;34m(\u001b[0m\u001b[0mIO\u001b[0m\u001b[0;34m[\u001b[0m\u001b[0mbytes\u001b[0m\u001b[0;34m]\u001b[0m\u001b[0;34m,\u001b[0m \u001b[0m_idat\u001b[0m\u001b[0;34m(\u001b[0m\u001b[0mfp\u001b[0m\u001b[0;34m,\u001b[0m \u001b[0mchunk\u001b[0m\u001b[0;34m)\u001b[0m\u001b[0;34m)\u001b[0m\u001b[0;34m,\u001b[0m\u001b[0;34m\u001b[0m\u001b[0;34m\u001b[0m\u001b[0m\n",
            "\u001b[0;32m/usr/local/lib/python3.11/dist-packages/PIL/ImageFile.py\u001b[0m in \u001b[0;36m_save\u001b[0;34m(im, fp, tile, bufsize)\u001b[0m\n\u001b[1;32m    556\u001b[0m         \u001b[0m_encode_tile\u001b[0m\u001b[0;34m(\u001b[0m\u001b[0mim\u001b[0m\u001b[0;34m,\u001b[0m \u001b[0mfp\u001b[0m\u001b[0;34m,\u001b[0m \u001b[0mtile\u001b[0m\u001b[0;34m,\u001b[0m \u001b[0mbufsize\u001b[0m\u001b[0;34m,\u001b[0m \u001b[0mfh\u001b[0m\u001b[0;34m)\u001b[0m\u001b[0;34m\u001b[0m\u001b[0;34m\u001b[0m\u001b[0m\n\u001b[1;32m    557\u001b[0m     \u001b[0;32mexcept\u001b[0m \u001b[0;34m(\u001b[0m\u001b[0mAttributeError\u001b[0m\u001b[0;34m,\u001b[0m \u001b[0mio\u001b[0m\u001b[0;34m.\u001b[0m\u001b[0mUnsupportedOperation\u001b[0m\u001b[0;34m)\u001b[0m \u001b[0;32mas\u001b[0m \u001b[0mexc\u001b[0m\u001b[0;34m:\u001b[0m\u001b[0;34m\u001b[0m\u001b[0;34m\u001b[0m\u001b[0m\n\u001b[0;32m--> 558\u001b[0;31m         \u001b[0m_encode_tile\u001b[0m\u001b[0;34m(\u001b[0m\u001b[0mim\u001b[0m\u001b[0;34m,\u001b[0m \u001b[0mfp\u001b[0m\u001b[0;34m,\u001b[0m \u001b[0mtile\u001b[0m\u001b[0;34m,\u001b[0m \u001b[0mbufsize\u001b[0m\u001b[0;34m,\u001b[0m \u001b[0;32mNone\u001b[0m\u001b[0;34m,\u001b[0m \u001b[0mexc\u001b[0m\u001b[0;34m)\u001b[0m\u001b[0;34m\u001b[0m\u001b[0;34m\u001b[0m\u001b[0m\n\u001b[0m\u001b[1;32m    559\u001b[0m     \u001b[0;32mif\u001b[0m \u001b[0mhasattr\u001b[0m\u001b[0;34m(\u001b[0m\u001b[0mfp\u001b[0m\u001b[0;34m,\u001b[0m \u001b[0;34m\"flush\"\u001b[0m\u001b[0;34m)\u001b[0m\u001b[0;34m:\u001b[0m\u001b[0;34m\u001b[0m\u001b[0;34m\u001b[0m\u001b[0m\n\u001b[1;32m    560\u001b[0m         \u001b[0mfp\u001b[0m\u001b[0;34m.\u001b[0m\u001b[0mflush\u001b[0m\u001b[0;34m(\u001b[0m\u001b[0;34m)\u001b[0m\u001b[0;34m\u001b[0m\u001b[0;34m\u001b[0m\u001b[0m\n",
            "\u001b[0;32m/usr/local/lib/python3.11/dist-packages/PIL/ImageFile.py\u001b[0m in \u001b[0;36m_encode_tile\u001b[0;34m(im, fp, tile, bufsize, fh, exc)\u001b[0m\n\u001b[1;32m    582\u001b[0m                     \u001b[0;31m# compress to Python file-compatible object\u001b[0m\u001b[0;34m\u001b[0m\u001b[0;34m\u001b[0m\u001b[0m\n\u001b[1;32m    583\u001b[0m                     \u001b[0;32mwhile\u001b[0m \u001b[0;32mTrue\u001b[0m\u001b[0;34m:\u001b[0m\u001b[0;34m\u001b[0m\u001b[0;34m\u001b[0m\u001b[0m\n\u001b[0;32m--> 584\u001b[0;31m                         \u001b[0merrcode\u001b[0m\u001b[0;34m,\u001b[0m \u001b[0mdata\u001b[0m \u001b[0;34m=\u001b[0m \u001b[0mencoder\u001b[0m\u001b[0;34m.\u001b[0m\u001b[0mencode\u001b[0m\u001b[0;34m(\u001b[0m\u001b[0mbufsize\u001b[0m\u001b[0;34m)\u001b[0m\u001b[0;34m[\u001b[0m\u001b[0;36m1\u001b[0m\u001b[0;34m:\u001b[0m\u001b[0;34m]\u001b[0m\u001b[0;34m\u001b[0m\u001b[0;34m\u001b[0m\u001b[0m\n\u001b[0m\u001b[1;32m    585\u001b[0m                         \u001b[0mfp\u001b[0m\u001b[0;34m.\u001b[0m\u001b[0mwrite\u001b[0m\u001b[0;34m(\u001b[0m\u001b[0mdata\u001b[0m\u001b[0;34m)\u001b[0m\u001b[0;34m\u001b[0m\u001b[0;34m\u001b[0m\u001b[0m\n\u001b[1;32m    586\u001b[0m                         \u001b[0;32mif\u001b[0m \u001b[0merrcode\u001b[0m\u001b[0;34m:\u001b[0m\u001b[0;34m\u001b[0m\u001b[0;34m\u001b[0m\u001b[0m\n",
            "\u001b[0;31mKeyboardInterrupt\u001b[0m: "
          ]
        }
      ]
    },
    {
      "cell_type": "code",
      "source": [
        "class DataSetLoader:\n",
        "    def __init__(self, pixel_annot_path, centroids_path, chunk_size=200, patches_per_scene=4, partition_key=\"n_filaments\"):\n",
        "        self._chunk_size = chunk_size\n",
        "        self._annot_path = pixel_annot_path\n",
        "        self._partition_key = partition_key\n",
        "        self._patches_per_scene = patches_per_scene\n",
        "        self._centroids_path = centroids_path\n",
        "\n",
        "    def _select_filaments(self, loc, time_interval):\n",
        "        assert len(loc) == 4 and loc[0]<loc[2] and loc[1]<loc[3], f\"Invalid coordinates {loc}\"\n",
        "\n",
        "        sp_cond = lambda d: (loc[0] <= d[\"Longitude\"] <= loc[2]) & \\\n",
        "                            (loc[1] <= d[\"Latitude\"] <= loc[3])\n",
        "\n",
        "        tm_cond = lambda d: datetime.strptime(time_interval[0], \"%Y-%m-%d\") <= \\\n",
        "                            datetime(d['Year'], d['Month'], d['Day']) < \\\n",
        "                            datetime.strptime(time_interval[1], \"%Y-%m-%d\")\n",
        "\n",
        "        valid = lambda x: sp_cond(x) and tm_cond(x)\n",
        "        df = pd.read_excel(self._centroids_path)\n",
        "        df = df[df.apply(valid, axis=1)]\n",
        "        return df\n",
        "\n",
        "    def _get_image(self, row):\n",
        "        t = \"-\".join([row['Year'], row['Month'], row['Day']])\n",
        "        time_interval = (t, t)\n",
        "        image = download_sentinel_images(lat, lon, )\n",
        "\n",
        "        download_sentinel_images(aoi_coords_wgs84, time_interval)\n",
        "        aoi_coords_wgs84 = [12.5, 44.7, 13.0, 45.1]\n",
        "        time_interval = (\"2024-03-01\", \"2024-03-10\")\n",
        "\n",
        "        download_sentinel_images(aoi_coords_wgs84, time_interval)\n",
        "\n",
        "\n",
        "\n",
        "    def load(self, locs, timeframe, data_dir=\"Scenes\", test_size=4):\n",
        "\n",
        "        dataset = xr.open_dataset(self._annot_path, chunks={self._partition_key: self._chunk_size})\n",
        "        self._num_fils = len(np.unique(dataset[\"n_filaments\"].values))\n",
        "\n",
        "        centroids_df = self._select_filaments(locs, timeframe)\n",
        "        for start in range(0, self._num_fils, self._chunk_size):\n",
        "            sub_dataset = dataset.isel(n_filaments=slice(start, min(self._num_fils, start+self._chunk_size)))\n",
        "            df = sub_dataset.to_dataframe().reset_index()\n",
        "\n",
        "            ts = 0\n",
        "            for filament_idx in df[\"n_filaments\"].unique():\n",
        "                ts += 1\n",
        "                print(ts)\n",
        "                if ts == test_size:\n",
        "                    return None\n",
        "                row = df[df[\"n_filaments\"] == filament_idx].iloc[0]\n",
        "                lat = row[\"lat_centroid\"]\n",
        "                lon = row[\"lon_centroid\"]\n",
        "                # print(row, df.columns)\n",
        "                date = row[\"s2_product\"][:20] # .str.split('T')[0]\n",
        "                filament_meta = centroids_df[\n",
        "                    (centroids_df[\"Latitude\"] == lat) &\\\n",
        "                    (centroids_df[\"Longitude\"] == lon)\n",
        "                ]\n",
        "\n",
        "                filament_df = df[df[\"n_filaments\"].astype(int) == filament_idx].reset_index()\n",
        "                # image = self._get_image(row)\n",
        "\n",
        "                h = int(2*filament_df.loc[0, \"y_centroid\"])\n",
        "                w = int(2*filament_df.loc[0, \"x_centroid\"])\n",
        "                filament_mask = np.zeros((h, w))\n",
        "\n",
        "                min_x = min_y = 1e8\n",
        "                max_x = max_y = -1\n",
        "                for idx, row in tqdm(filament_df.iterrows()):\n",
        "                    if not np.isnan(row[\"pixel_x\"]) and not np.isnan(row[\"pixel_y\"]):\n",
        "                        # print(row[\"pixel_x\"], row[\"pixel_y\"])\n",
        "                        p_x, p_y = int(row[\"pixel_x\"]), int(row[\"pixel_y\"])\n",
        "                        if p_x < min_x:\n",
        "                            min_x = p_x\n",
        "                        if p_y < min_y:\n",
        "                            min_y = p_y\n",
        "\n",
        "                        if p_x > max_x:\n",
        "                            max_x = p_x\n",
        "                        if p_y > max_y:\n",
        "                            max_y = p_y\n",
        "                        filament_mask[p_x, p_y] = 1\n",
        "\n",
        "                h = max_x - min_x\n",
        "                w = max_y - min_y\n",
        "                l = 256*self._patches_per_scene\n",
        "                left_pad = random.randint(0, l-w)\n",
        "                right_pad = l - left_pad - w\n",
        "                down_pad = random.randint(0, l-h)\n",
        "                up_pad = l - down_pad - h\n",
        "                mask = np.zeros((l, l))\n",
        "                assert h+down_pad == l-up_pad and left_pad+w == l-right_pad, \"Invalid crops\"\n",
        "                mask[up_pad:l-down_pad, left_pad:l-right_pad] = filament_mask[min_x:max_x, min_y:max_y]\n",
        "                scene = f\"S2_{date}_{lat}_{lon}\"\n",
        "                scene_path = os.path.join(data_dir, scene)\n",
        "                os.makedirs(scene_path, exist_ok=True)\n",
        "                for i in range(self._patches_per_scene):\n",
        "                    patch_mask_file = f\"{scene}_{i}.jpeg\"\n",
        "                    patch_mask_path = os.path.join(scene_path, patch_mask_file)\n",
        "                    Image.fromarray(np.uint8(mask)).save(patch_mask_path)"
      ],
      "metadata": {
        "id": "YpLVYSxTSkzw",
        "collapsed": true
      },
      "execution_count": 34,
      "outputs": []
    },
    {
      "cell_type": "code",
      "source": [
        "loader = DataSetLoader(\"data.nc\", \"LW_centroids.xlsx\", chunk_size=40)\n",
        "coords = [12.5, 44.7, 13.0, 45.1]\n",
        "time_interval = (\"2016-03-04\", \"2023-03-08\")\n",
        "loader.load(coords, time_interval)"
      ],
      "metadata": {
        "colab": {
          "base_uri": "https://localhost:8080/",
          "height": 367
        },
        "collapsed": true,
        "id": "nLtl6mPc0axD",
        "outputId": "12c6b5fb-c5a7-4678-a085-25bc9372ae55"
      },
      "execution_count": 35,
      "outputs": [
        {
          "output_type": "stream",
          "name": "stdout",
          "text": [
            "1\n"
          ]
        },
        {
          "output_type": "stream",
          "name": "stderr",
          "text": [
            "133276it [00:07, 18695.43it/s]\n"
          ]
        },
        {
          "output_type": "stream",
          "name": "stdout",
          "text": [
            "2\n"
          ]
        },
        {
          "output_type": "stream",
          "name": "stderr",
          "text": [
            "0it [00:00, ?it/s]\n"
          ]
        },
        {
          "output_type": "error",
          "ename": "IndexError",
          "evalue": "index 6060 is out of bounds for axis 0 with size 2054",
          "traceback": [
            "\u001b[0;31m---------------------------------------------------------------------------\u001b[0m",
            "\u001b[0;31mIndexError\u001b[0m                                Traceback (most recent call last)",
            "\u001b[0;32m<ipython-input-35-409a2b3eba7a>\u001b[0m in \u001b[0;36m<cell line: 0>\u001b[0;34m()\u001b[0m\n\u001b[1;32m      2\u001b[0m \u001b[0mcoords\u001b[0m \u001b[0;34m=\u001b[0m \u001b[0;34m[\u001b[0m\u001b[0;36m12.5\u001b[0m\u001b[0;34m,\u001b[0m \u001b[0;36m44.7\u001b[0m\u001b[0;34m,\u001b[0m \u001b[0;36m13.0\u001b[0m\u001b[0;34m,\u001b[0m \u001b[0;36m45.1\u001b[0m\u001b[0;34m]\u001b[0m\u001b[0;34m\u001b[0m\u001b[0;34m\u001b[0m\u001b[0m\n\u001b[1;32m      3\u001b[0m \u001b[0mtime_interval\u001b[0m \u001b[0;34m=\u001b[0m \u001b[0;34m(\u001b[0m\u001b[0;34m\"2016-03-04\"\u001b[0m\u001b[0;34m,\u001b[0m \u001b[0;34m\"2023-03-08\"\u001b[0m\u001b[0;34m)\u001b[0m\u001b[0;34m\u001b[0m\u001b[0;34m\u001b[0m\u001b[0m\n\u001b[0;32m----> 4\u001b[0;31m \u001b[0mloader\u001b[0m\u001b[0;34m.\u001b[0m\u001b[0mload\u001b[0m\u001b[0;34m(\u001b[0m\u001b[0mcoords\u001b[0m\u001b[0;34m,\u001b[0m \u001b[0mtime_interval\u001b[0m\u001b[0;34m)\u001b[0m\u001b[0;34m\u001b[0m\u001b[0;34m\u001b[0m\u001b[0m\n\u001b[0m",
            "\u001b[0;32m<ipython-input-34-df1e8f93221b>\u001b[0m in \u001b[0;36mload\u001b[0;34m(self, locs, timeframe, data_dir, test_size)\u001b[0m\n\u001b[1;32m     83\u001b[0m                         \u001b[0;32mif\u001b[0m \u001b[0mp_y\u001b[0m \u001b[0;34m>\u001b[0m \u001b[0mmax_y\u001b[0m\u001b[0;34m:\u001b[0m\u001b[0;34m\u001b[0m\u001b[0;34m\u001b[0m\u001b[0m\n\u001b[1;32m     84\u001b[0m                             \u001b[0mmax_y\u001b[0m \u001b[0;34m=\u001b[0m \u001b[0mp_y\u001b[0m\u001b[0;34m\u001b[0m\u001b[0;34m\u001b[0m\u001b[0m\n\u001b[0;32m---> 85\u001b[0;31m                         \u001b[0mfilament_mask\u001b[0m\u001b[0;34m[\u001b[0m\u001b[0mp_x\u001b[0m\u001b[0;34m,\u001b[0m \u001b[0mp_y\u001b[0m\u001b[0;34m]\u001b[0m \u001b[0;34m=\u001b[0m \u001b[0;36m1\u001b[0m\u001b[0;34m\u001b[0m\u001b[0;34m\u001b[0m\u001b[0m\n\u001b[0m\u001b[1;32m     86\u001b[0m \u001b[0;34m\u001b[0m\u001b[0m\n\u001b[1;32m     87\u001b[0m                 \u001b[0mh\u001b[0m \u001b[0;34m=\u001b[0m \u001b[0mmax_x\u001b[0m \u001b[0;34m-\u001b[0m \u001b[0mmin_x\u001b[0m\u001b[0;34m\u001b[0m\u001b[0;34m\u001b[0m\u001b[0m\n",
            "\u001b[0;31mIndexError\u001b[0m: index 6060 is out of bounds for axis 0 with size 2054"
          ]
        }
      ]
    },
    {
      "cell_type": "code",
      "source": [
        "scene = \"/content/Scenes/S2_b'S2A_MSIL1C_20160217T'_36.81826531261659_-6.48822047849991\"\n",
        "for img in os.listdir(scene):\n",
        "    img = Image.open(os.path.join(scene, img))\n",
        "    pos = np.array(img).sum()\n",
        "    if pos:\n",
        "        print(pos)\n",
        "        plt.imshow(img)\n",
        "        break"
      ],
      "metadata": {
        "id": "eVJP7OxrBbWT"
      },
      "execution_count": 44,
      "outputs": []
    },
    {
      "cell_type": "markdown",
      "source": [
        "### Mess & Tests"
      ],
      "metadata": {
        "id": "PmiwvADABc05"
      }
    },
    {
      "cell_type": "code",
      "source": [
        "for name in dir():\n",
        "    if not name.startswith('_'):\n",
        "        del globals()[name]\n",
        "\n",
        "import gc\n",
        "gc.collect()"
      ],
      "metadata": {
        "colab": {
          "base_uri": "https://localhost:8080/"
        },
        "id": "_-fqCMD39fUb",
        "outputId": "20eafb64-405d-45fe-af44-b3bd0a87ef3c"
      },
      "execution_count": 10,
      "outputs": [
        {
          "output_type": "execute_result",
          "data": {
            "text/plain": [
              "287"
            ]
          },
          "metadata": {},
          "execution_count": 10
        }
      ]
    },
    {
      "cell_type": "code",
      "source": [
        "df = pd.read_excel(\"LW_centroids.xlsx\")\n",
        "df.head()"
      ],
      "metadata": {
        "id": "SA8p1gmnwi3W"
      },
      "execution_count": null,
      "outputs": []
    },
    {
      "cell_type": "code",
      "source": [
        "df.shape, len((df[\"Latitude\"] + df[\"Longitude\"]).unique())"
      ],
      "metadata": {
        "id": "dhUvGsRDw3ZH"
      },
      "execution_count": null,
      "outputs": []
    },
    {
      "cell_type": "code",
      "source": [
        "# Define AOI coordinates (min_lon, min_lat, max_lon, max_lat)\n",
        "coords = [9.288940,43.012681,9.481888,43.119530]\n",
        "coords = [12.5, 44.7, 13.0, 45.1]\n",
        "time_interval = (\"2023-03-01\", \"2023-03-04\")  # Example time range\n",
        "time_interval = (\"2016-03-01\", \"2023-03-04\")  # Example time range\n",
        "\n",
        "# images = download_sentinel_images(aoi_coords_wgs84, time_interval)\n",
        "\n",
        "sp_cond = lambda d, loc: (loc[0] <= d[\"Longitude\"] <= loc[2]) & \\\n",
        "                    (loc[1] <= d[\"Latitude\"] <= loc[3])\n",
        "# tm_cond = lambda d, ti: datetime(ti[0].split('-')) <= datetime(d['Year'], d['Month'], d['Day']) < datetime(ti[1].split('-'))\n",
        "tm_cond = lambda d: datetime.strptime(time_interval[0], \"%Y-%m-%d\") <= \\\n",
        "                    datetime(d['Year'], d['Month'], d['Day']) < \\\n",
        "                    datetime.strptime(time_interval[1], \"%Y-%m-%d\")\n",
        "\n",
        "valid = lambda x: sp_cond(x, coords) and tm_cond(x)\n",
        "df = pd.read_excel(\"LW_centroids.xlsx\")\n",
        "df = df[df.apply(valid, axis=1)]\n",
        "# df = df[sp_cond(df, aoi_coords_wgs84) & tm_cond(df, time_interval)]"
      ],
      "metadata": {
        "id": "VckgSt4Mw4lx"
      },
      "execution_count": null,
      "outputs": []
    },
    {
      "cell_type": "code",
      "source": [
        "df.shape"
      ],
      "metadata": {
        "id": "PqvB0-lq0Sgb"
      },
      "execution_count": null,
      "outputs": []
    },
    {
      "cell_type": "code",
      "source": [
        "num_filaments = len(dataset[\"n_filaments\"])\n",
        "chunk_size = 200\n",
        "chunk_size = 2\n",
        "dataset_path = \"data.nc\"\n",
        "key = \"n_filamnets\"\n",
        "patches_per_scene = 4\n",
        "\n",
        "\n"
      ],
      "metadata": {
        "id": "4YmaHVLrs3Tx"
      },
      "execution_count": null,
      "outputs": []
    },
    {
      "cell_type": "code",
      "source": [
        "plt.imshow(mask, cmap=\"gray\")"
      ],
      "metadata": {
        "id": "-ccMYPtFlxrI"
      },
      "execution_count": null,
      "outputs": []
    },
    {
      "cell_type": "code",
      "source": [
        "df[\"n_filaments\"].unique()"
      ],
      "metadata": {
        "id": "2OGC9vRKg2kJ"
      },
      "execution_count": null,
      "outputs": []
    },
    {
      "cell_type": "code",
      "source": [
        "(filament_mask==1).sum(), min_x, min_y, max_x, max_y"
      ],
      "metadata": {
        "id": "jB24-Q6ufQyH"
      },
      "execution_count": null,
      "outputs": []
    },
    {
      "cell_type": "code",
      "source": [
        "plt.imshow(filament_mask, cmap=\"gray\")"
      ],
      "metadata": {
        "id": "QVpVB5zGWsv8"
      },
      "execution_count": null,
      "outputs": []
    },
    {
      "cell_type": "code",
      "source": [
        "center_mask = filament_mask[min_x-1:max_x+1, min_y-1:max_y]\n",
        "plt.imshow(center_mask, cmap=\"gray\")"
      ],
      "metadata": {
        "id": "J3iTqLLIe-kb"
      },
      "execution_count": null,
      "outputs": []
    },
    {
      "cell_type": "code",
      "source": [
        "\n",
        "key = 'n_filaments'\n",
        "ds = xr.open_dataset(\"data.nc\", chunks={key: 500})"
      ],
      "metadata": {
        "id": "Xw6OO-HwxNP5"
      },
      "execution_count": null,
      "outputs": []
    },
    {
      "cell_type": "code",
      "source": [
        "print(\"Dimensions:\", ds.dims)\n",
        "print(\"Sizes:\", ds.sizes)"
      ],
      "metadata": {
        "id": "mWMtJiaqyctt"
      },
      "execution_count": null,
      "outputs": []
    },
    {
      "cell_type": "code",
      "source": [
        "for chunk in range(num_chunks)"
      ],
      "metadata": {
        "id": "assQXjO9SAwk"
      },
      "execution_count": null,
      "outputs": []
    },
    {
      "cell_type": "code",
      "source": [
        "chunk_size = 500\n",
        "n_time = ds.dims[key]\n",
        "\n",
        "start = 0\n",
        "# for start in range(0, n_time, chunk_size):\n",
        "ds_chunk = ds.isel(n_filaments=slice(start, start + chunk_size))\n",
        "\n",
        "df_chunk = ds_chunk.to_dataframe().reset_index()"
      ],
      "metadata": {
        "id": "6RezIsYKxNE3"
      },
      "execution_count": null,
      "outputs": []
    },
    {
      "cell_type": "code",
      "source": [
        "df_chunk.head()"
      ],
      "metadata": {
        "id": "jNG6FbphxM4Y"
      },
      "execution_count": null,
      "outputs": []
    },
    {
      "cell_type": "code",
      "source": [
        "len((df_chunk[\"lat_centroid\"] + df_chunk[\"lon_centroid\"]).unique())"
      ],
      "metadata": {
        "id": "tIsQIrzX1Ep8"
      },
      "execution_count": null,
      "outputs": []
    },
    {
      "cell_type": "code",
      "source": [
        "df_chunk.loc[1]"
      ],
      "metadata": {
        "id": "T7rNCPrUzRGB"
      },
      "execution_count": null,
      "outputs": []
    },
    {
      "cell_type": "code",
      "source": [
        "len(df_chunk[df_chunk[\"n_filaments\"]==8])/13, len(df_chunk['n_bands'].unique())"
      ],
      "metadata": {
        "id": "pV_7AlFjxMvz"
      },
      "execution_count": null,
      "outputs": []
    },
    {
      "cell_type": "code",
      "source": [
        "df_chunk.columns"
      ],
      "metadata": {
        "id": "Nctd-2hS0Xvi"
      },
      "execution_count": null,
      "outputs": []
    },
    {
      "cell_type": "code",
      "source": [
        "f1 = df_chunk[df_chunk[\"n_filaments\"] == 0]"
      ],
      "metadata": {
        "id": "TvUwTR3R1grN"
      },
      "execution_count": null,
      "outputs": []
    },
    {
      "cell_type": "code",
      "source": [
        "print(len(f1))\n",
        "for col in f1.columns:\n",
        "    print(f\"{col}: {len(f1[col].unique())}\")\n"
      ],
      "metadata": {
        "id": "6I0okH8r1m6D"
      },
      "execution_count": null,
      "outputs": []
    },
    {
      "cell_type": "code",
      "source": [
        "# len((f1[\"pixel_x\"].astype(str)+\"a\"+f1[\"pixel_y\"].astype(str)).unique())\n",
        "# (f1[\"pixel_x\"].astype(str)+\"a\"+f1[\"pixel_y\"].astype(str)).unique()\n",
        "\n",
        "f1[\"n_bands\"].unique()"
      ],
      "metadata": {
        "id": "FdEJIXQt2XnE"
      },
      "execution_count": null,
      "outputs": []
    },
    {
      "cell_type": "code",
      "source": [
        "# mask = np.zeros(())\n",
        "import numpy as np\n",
        "from tqdm import tqdm\n",
        "h, w = int(2*f1.loc[0, \"y_centroid\"]), int(2*f1.loc[0, \"x_centroid\"])\n",
        "mask = np.zeros((h, w))\n",
        "\n",
        "min_x = min_y = 1e8\n",
        "max_x = max_y = -1\n",
        "for idx, row in tqdm(f1.iterrows()):\n",
        "    if not np.isnan(row[\"pixel_x\"]) and not np.isnan(row[\"pixel_y\"]):\n",
        "        # print(row[\"pixel_x\"], row[\"pixel_y\"])\n",
        "        p_x, p_y = int(row[\"pixel_x\"]), int(row[\"pixel_y\"])\n",
        "        if p_x < min_x:\n",
        "            min_x = p_x\n",
        "        if p_y < min_y:\n",
        "            min_y = p_y\n",
        "\n",
        "        if p_x > max_x:\n",
        "            max_x = p_x\n",
        "        if p_y > max_y:\n",
        "            max_y = p_y\n",
        "        mask[p_x, p_y] = 1"
      ],
      "metadata": {
        "id": "9RXX2sNw3lqK"
      },
      "execution_count": null,
      "outputs": []
    },
    {
      "cell_type": "code",
      "source": [
        "(mask==1).sum(), min_x, min_y, max_x, max_y"
      ],
      "metadata": {
        "id": "zcmG1bql5L2c"
      },
      "execution_count": null,
      "outputs": []
    },
    {
      "cell_type": "code",
      "source": [
        "center_mask = mask[min_x-1:max_x+1, min_y-1:max(min_y+200, max_y+1)]\n",
        "mask.shape, center_mask.shape"
      ],
      "metadata": {
        "id": "WPg3kH755uAW"
      },
      "execution_count": null,
      "outputs": []
    },
    {
      "cell_type": "code",
      "source": [
        "import matplotlib.pyplot as plt\n",
        "\n",
        "plt.imshow(center_mask, cmap=\"gray\")"
      ],
      "metadata": {
        "id": "5ZMc2arq5EV6"
      },
      "execution_count": null,
      "outputs": []
    },
    {
      "cell_type": "code",
      "source": [
        "a = 36*44*13\n",
        "len(f1)/(a)"
      ],
      "metadata": {
        "id": "NCyB1Gv92J-J"
      },
      "execution_count": null,
      "outputs": []
    },
    {
      "cell_type": "code",
      "source": [
        "list(dataset.variables.keys())"
      ],
      "metadata": {
        "id": "i3E9QXg7pZKi"
      },
      "execution_count": null,
      "outputs": []
    },
    {
      "cell_type": "code",
      "source": [
        "import pandas as pd\n",
        "\n",
        "def excel_file_to_image_coords(df=None):\n",
        "    if df is None:\n",
        "        path = r\"LM_centroids.xlsx\"\n",
        "        df = pd.read_excel(path)\n",
        "\n",
        "    d_lat = 0.011575\n",
        "    d_lon = 0.01339\n",
        "    for idx, centroid in df.iterrows():\n",
        "        lat, lon = centroid[:2]\n",
        "        bbox = (lat-d_lat, lat+d_lat, lon-d_lon, lon+d_lon)\n",
        "        time = (\"2018-12-30T09:24:01Z\")\n",
        "        t = centroid.CodeT\n",
        "        time = str(centroid.Date) + \"-\".join([t[:3], t[3:5], t[5:7]]) + \"Z\"\n",
        "        yield {\"bbox\": bbox, \"time\": time}\n",
        "\n",
        "\n",
        "\n",
        "sample = {\n",
        "    \"Latitude\": 29.905255,\n",
        "    \"Longitude\": 32.493723,\n",
        "    \"Dec_time\": 2017.502226,\n",
        "    \"Str_time\": \"20170703T083011\",\n",
        "    \"Year\": 2017,\n",
        "    \"Month\": 7,\n",
        "    \"Day\": 3,\n",
        "    \"Date\": 03/07/2017,\n",
        "    \"CodeT\": \"T083011\",\n",
        "    \"Pixels per LW\": 13,\n",
        "    \"Distance to land (m)\": 2596,\n",
        "}\n",
        "\n",
        "\n",
        "\n",
        "\n",
        "import openeo\n",
        "\n",
        "# Connect to an openEO backend (replace URL with your preferred backend)\n",
        "connection = openeo.connect(\"https://openeo.cloud\")\n",
        "print(\"Connected to openEO backend:\", connection.server_version())\n",
        "\n",
        "bbox = [min_lon, min_lat, max_lon, max_lat]  # set appropriate coordinates\n",
        "time_range = [\"2021-01-01\", \"2021-01-31\"]     # adjust to your date of interest\n",
        "\n",
        "# Load an image collection (e.g., Sentinel-2 data)\n",
        "process_graph = connection.load_collection(\n",
        "    \"S2L2A\",\n",
        "    spatial_extent={\"west\": bbox[0], \"south\": bbox[1], \"east\": bbox[2], \"north\": bbox[3]},\n",
        "    temporal_extent=time_range\n",
        ")"
      ],
      "metadata": {
        "id": "FbIpkOFRn4Nm"
      },
      "execution_count": null,
      "outputs": []
    }
  ],
  "metadata": {
    "colab": {
      "provenance": []
    },
    "kernelspec": {
      "display_name": "Python 3",
      "name": "python3"
    },
    "language_info": {
      "name": "python"
    }
  },
  "nbformat": 4,
  "nbformat_minor": 0
}