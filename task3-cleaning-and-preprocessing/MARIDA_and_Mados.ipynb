{
  "nbformat": 4,
  "nbformat_minor": 0,
  "metadata": {
    "colab": {
      "provenance": [],
      "mount_file_id": "1S8IwF_C2A_dLekrTJ6KQJr_pdB5PLdjt",
      "authorship_tag": "ABX9TyM4Dkp+AXnVOaFf6VU+Clkd",
      "include_colab_link": true
    },
    "kernelspec": {
      "name": "python3",
      "display_name": "Python 3"
    },
    "language_info": {
      "name": "python"
    }
  },
  "cells": [
    {
      "cell_type": "markdown",
      "metadata": {
        "id": "view-in-github",
        "colab_type": "text"
      },
      "source": [
        "<a href=\"https://colab.research.google.com/github/elena-andreini/TriesteItalyChapter_PlasticDebrisDetection/blob/main/task3-cleaning-and-preprocessing/MARIDA_and_Mados.ipynb\" target=\"_parent\"><img src=\"https://colab.research.google.com/assets/colab-badge.svg\" alt=\"Open In Colab\"/></a>"
      ]
    },
    {
      "cell_type": "code",
      "source": [
        "!pip install rasterio folium geopandas shapely plotly kagglehub #necessary imports, some not present in colab"
      ],
      "metadata": {
        "colab": {
          "base_uri": "https://localhost:8080/"
        },
        "id": "gr-Fs3AAf-NF",
        "outputId": "628e0f5c-336e-4511-95fc-fca9a7699eb2"
      },
      "execution_count": null,
      "outputs": [
        {
          "output_type": "stream",
          "name": "stdout",
          "text": [
            "Collecting rasterio\n",
            "  Downloading rasterio-1.4.3-cp311-cp311-manylinux_2_17_x86_64.manylinux2014_x86_64.whl.metadata (9.1 kB)\n",
            "Requirement already satisfied: folium in /usr/local/lib/python3.11/dist-packages (0.19.5)\n",
            "Requirement already satisfied: geopandas in /usr/local/lib/python3.11/dist-packages (1.0.1)\n",
            "Requirement already satisfied: shapely in /usr/local/lib/python3.11/dist-packages (2.0.7)\n",
            "Requirement already satisfied: plotly in /usr/local/lib/python3.11/dist-packages (5.24.1)\n",
            "Requirement already satisfied: kagglehub in /usr/local/lib/python3.11/dist-packages (0.3.10)\n",
            "Collecting affine (from rasterio)\n",
            "  Downloading affine-2.4.0-py3-none-any.whl.metadata (4.0 kB)\n",
            "Requirement already satisfied: attrs in /usr/local/lib/python3.11/dist-packages (from rasterio) (25.3.0)\n",
            "Requirement already satisfied: certifi in /usr/local/lib/python3.11/dist-packages (from rasterio) (2025.1.31)\n",
            "Requirement already satisfied: click>=4.0 in /usr/local/lib/python3.11/dist-packages (from rasterio) (8.1.8)\n",
            "Collecting cligj>=0.5 (from rasterio)\n",
            "  Downloading cligj-0.7.2-py3-none-any.whl.metadata (5.0 kB)\n",
            "Requirement already satisfied: numpy>=1.24 in /usr/local/lib/python3.11/dist-packages (from rasterio) (2.0.2)\n",
            "Collecting click-plugins (from rasterio)\n",
            "  Downloading click_plugins-1.1.1-py2.py3-none-any.whl.metadata (6.4 kB)\n",
            "Requirement already satisfied: pyparsing in /usr/local/lib/python3.11/dist-packages (from rasterio) (3.2.1)\n",
            "Requirement already satisfied: branca>=0.6.0 in /usr/local/lib/python3.11/dist-packages (from folium) (0.8.1)\n",
            "Requirement already satisfied: jinja2>=2.9 in /usr/local/lib/python3.11/dist-packages (from folium) (3.1.6)\n",
            "Requirement already satisfied: requests in /usr/local/lib/python3.11/dist-packages (from folium) (2.32.3)\n",
            "Requirement already satisfied: xyzservices in /usr/local/lib/python3.11/dist-packages (from folium) (2025.1.0)\n",
            "Requirement already satisfied: pyogrio>=0.7.2 in /usr/local/lib/python3.11/dist-packages (from geopandas) (0.10.0)\n",
            "Requirement already satisfied: packaging in /usr/local/lib/python3.11/dist-packages (from geopandas) (24.2)\n",
            "Requirement already satisfied: pandas>=1.4.0 in /usr/local/lib/python3.11/dist-packages (from geopandas) (2.2.2)\n",
            "Requirement already satisfied: pyproj>=3.3.0 in /usr/local/lib/python3.11/dist-packages (from geopandas) (3.7.1)\n",
            "Requirement already satisfied: tenacity>=6.2.0 in /usr/local/lib/python3.11/dist-packages (from plotly) (9.0.0)\n",
            "Requirement already satisfied: pyyaml in /usr/local/lib/python3.11/dist-packages (from kagglehub) (6.0.2)\n",
            "Requirement already satisfied: tqdm in /usr/local/lib/python3.11/dist-packages (from kagglehub) (4.67.1)\n",
            "Requirement already satisfied: MarkupSafe>=2.0 in /usr/local/lib/python3.11/dist-packages (from jinja2>=2.9->folium) (3.0.2)\n",
            "Requirement already satisfied: python-dateutil>=2.8.2 in /usr/local/lib/python3.11/dist-packages (from pandas>=1.4.0->geopandas) (2.8.2)\n",
            "Requirement already satisfied: pytz>=2020.1 in /usr/local/lib/python3.11/dist-packages (from pandas>=1.4.0->geopandas) (2025.1)\n",
            "Requirement already satisfied: tzdata>=2022.7 in /usr/local/lib/python3.11/dist-packages (from pandas>=1.4.0->geopandas) (2025.1)\n",
            "Requirement already satisfied: charset-normalizer<4,>=2 in /usr/local/lib/python3.11/dist-packages (from requests->folium) (3.4.1)\n",
            "Requirement already satisfied: idna<4,>=2.5 in /usr/local/lib/python3.11/dist-packages (from requests->folium) (3.10)\n",
            "Requirement already satisfied: urllib3<3,>=1.21.1 in /usr/local/lib/python3.11/dist-packages (from requests->folium) (2.3.0)\n",
            "Requirement already satisfied: six>=1.5 in /usr/local/lib/python3.11/dist-packages (from python-dateutil>=2.8.2->pandas>=1.4.0->geopandas) (1.17.0)\n",
            "Downloading rasterio-1.4.3-cp311-cp311-manylinux_2_17_x86_64.manylinux2014_x86_64.whl (22.2 MB)\n",
            "\u001b[2K   \u001b[90m━━━━━━━━━━━━━━━━━━━━━━━━━━━━━━━━━━━━━━━━\u001b[0m \u001b[32m22.2/22.2 MB\u001b[0m \u001b[31m11.8 MB/s\u001b[0m eta \u001b[36m0:00:00\u001b[0m\n",
            "\u001b[?25hDownloading cligj-0.7.2-py3-none-any.whl (7.1 kB)\n",
            "Downloading affine-2.4.0-py3-none-any.whl (15 kB)\n",
            "Downloading click_plugins-1.1.1-py2.py3-none-any.whl (7.5 kB)\n",
            "Installing collected packages: cligj, click-plugins, affine, rasterio\n",
            "Successfully installed affine-2.4.0 click-plugins-1.1.1 cligj-0.7.2 rasterio-1.4.3\n"
          ]
        }
      ]
    },
    {
      "cell_type": "code",
      "source": [
        "import os\n",
        "import numpy as np\n",
        "import pandas as pd\n",
        "import matplotlib.pyplot as plt\n",
        "import seaborn as sns\n",
        "from tqdm.notebook import tqdm\n",
        "import rasterio\n",
        "from rasterio.plot import show\n",
        "import folium\n",
        "from folium.plugins import MarkerCluster\n",
        "import geopandas as gpd\n",
        "from shapely.geometry import Point\n",
        "import glob\n",
        "import cv2\n",
        "from sklearn.preprocessing import StandardScaler\n",
        "import plotly.express as px\n",
        "import plotly.graph_objects as go\n",
        "from sklearn.decomposition import PCA\n",
        "from sklearn.manifold import TSNE\n",
        "import kagglehub\n",
        "import zipfile\n",
        "import shutil\n",
        "from datetime import datetime\n",
        "import re"
      ],
      "metadata": {
        "id": "Oak5ed5XgK0M"
      },
      "execution_count": null,
      "outputs": []
    },
    {
      "cell_type": "code",
      "source": [
        "from google.colab import drive\n",
        "drive.mount('/content/drive')"
      ],
      "metadata": {
        "colab": {
          "base_uri": "https://localhost:8080/"
        },
        "id": "jo0nX6DBz5Sq",
        "outputId": "504f3d3c-2b21-4cab-97b3-2a8e8f13cb91"
      },
      "execution_count": null,
      "outputs": [
        {
          "output_type": "stream",
          "name": "stdout",
          "text": [
            "Drive already mounted at /content/drive; to attempt to forcibly remount, call drive.mount(\"/content/drive\", force_remount=True).\n"
          ]
        }
      ]
    },
    {
      "cell_type": "code",
      "source": [
        "!ls /content/drive"
      ],
      "metadata": {
        "colab": {
          "base_uri": "https://localhost:8080/"
        },
        "id": "4usv5ANe0QNq",
        "outputId": "053c1bf9-de41-476d-c035-95f3a6f2898f"
      },
      "execution_count": null,
      "outputs": [
        {
          "output_type": "stream",
          "name": "stdout",
          "text": [
            "MyDrive\n"
          ]
        }
      ]
    },
    {
      "cell_type": "markdown",
      "source": [
        "###Mados Data"
      ],
      "metadata": {
        "id": "4zVYvBjAeP6H"
      }
    },
    {
      "cell_type": "code",
      "source": [
        "import zipfile\n",
        "import os\n",
        "\n",
        "# Path to the ZIP file\n",
        "zip_path =\"/content/drive/MyDrive/MADOS.zip\"\n",
        "\n",
        "# Directory to extract the files\n",
        "extract_path = \"/content/mados_data\"\n",
        "os.makedirs(extract_path, exist_ok=True)\n",
        "\n",
        "# Extract the ZIP file\n",
        "with zipfile.ZipFile(zip_path, 'r') as zip_ref:\n",
        "    zip_ref.extractall(extract_path)\n",
        "\n",
        "print(f\"Files extracted to: {extract_path}\")"
      ],
      "metadata": {
        "colab": {
          "base_uri": "https://localhost:8080/"
        },
        "id": "i_pGDraE2ViR",
        "outputId": "12346196-8867-4081-8ad9-bbbeee17792f"
      },
      "execution_count": null,
      "outputs": [
        {
          "output_type": "stream",
          "name": "stdout",
          "text": [
            "Files extracted to: /content/mados_data\n"
          ]
        }
      ]
    },
    {
      "cell_type": "code",
      "source": [
        "print(\"Dataset downloaded to:\", extract_path)\n",
        "print(\"Contents of the path:\", os.listdir(extract_path))"
      ],
      "metadata": {
        "colab": {
          "base_uri": "https://localhost:8080/"
        },
        "id": "131KP6E29jDN",
        "outputId": "dbeb8714-f5db-4c73-a4f9-f879c1dcc33d"
      },
      "execution_count": null,
      "outputs": [
        {
          "output_type": "stream",
          "name": "stdout",
          "text": [
            "Dataset downloaded to: /content/mados_data/MADOS\n",
            "Contents of the path: ['Scene_7', 'Scene_171', 'Scene_133', 'Scene_98', 'Scene_60', 'Scene_27', 'Scene_93', 'Scene_14', 'Scene_26', 'Scene_73', 'Scene_6', 'Scene_75', 'Scene_126', 'Scene_68', 'Scene_148', 'Scene_156', 'Scene_79', 'Scene_123', 'Scene_70', 'Scene_28', 'Scene_44', 'Scene_49', 'Scene_164', 'Scene_92', 'Scene_114', 'Scene_40', 'splits', 'Scene_119', 'Scene_169', 'Scene_66', 'Scene_0', 'Scene_55', 'Scene_141', 'Scene_153', 'Scene_83', 'Scene_9', 'Scene_144', 'Scene_43', 'Scene_154', 'Scene_45', 'Scene_152', 'Scene_81', 'Scene_58', 'Scene_78', 'Scene_105', 'Scene_172', 'Scene_146', 'Scene_122', 'Scene_167', 'Scene_173', 'Scene_21', 'Scene_33', 'Scene_118', 'Scene_47', 'Scene_63', 'Scene_106', 'Scene_52', 'Scene_109', 'Scene_128', 'Scene_31', 'Scene_61', 'Scene_147', 'Scene_12', 'Scene_108', 'Scene_107', 'Scene_69', 'Scene_25', 'Scene_101', 'Scene_59', 'Scene_110', 'Scene_88', 'Scene_13', 'Scene_36', 'Scene_136', 'MADOS', 'Scene_38', 'Scene_117', 'Scene_138', 'Scene_115', 'Scene_170', 'Scene_87', 'Scene_62', 'Scene_89', 'Scene_111', 'Scene_76', 'Scene_91', 'Scene_77', 'Scene_54', 'Scene_19', 'Scene_160', 'Scene_82', 'Scene_143', 'Scene_22', 'Scene_113', 'Scene_102', 'Scene_120', 'Scene_74', 'Scene_57', 'Scene_71', 'Scene_142', 'Scene_116', 'Scene_90', 'Scene_95', 'Scene_1', 'Scene_17', 'Scene_72', 'Scene_86', 'Scene_139', 'Scene_56', 'Scene_80', 'Scene_166', 'Scene_94', 'Scene_37', 'Scene_15', 'Scene_103', 'Scene_29', 'Scene_150', 'Scene_99', 'Scene_125', 'Scene_50', 'Scene_85', 'Scene_145', 'Scene_11', 'Scene_127', 'Scene_23', 'Scene_10', 'Scene_130', 'Scene_65', 'Scene_96', 'Scene_140', 'Scene_135', 'Scene_2', 'Scene_112', 'Scene_121', 'Scene_158', 'Scene_97', 'Scene_134', 'Scene_163', 'Scene_51', 'Scene_131', 'Scene_124', 'Scene_39', 'Scene_3', 'Scene_104', 'Scene_53', 'Scene_159', 'Scene_16', 'Scene_8', 'Scene_42', 'Scene_41', 'Scene_35', 'Scene_157', 'Scene_32', 'Scene_162', 'Scene_129', 'Scene_149', 'Scene_151', 'Scene_155', 'Scene_20', 'Scene_67', 'Scene_48', 'Scene_46', 'Scene_137', 'Scene_161', 'Scene_64', 'Scene_34', 'Scene_168', 'Scene_5', 'Scene_165', 'Scene_24', 'Scene_132', 'Scene_100', 'Scene_84', 'Scene_18', 'Scene_4', 'Scene_30']\n"
          ]
        }
      ]
    },
    {
      "cell_type": "code",
      "source": [
        "import os\n",
        "\n",
        "def get_folder_size_gb(folder_path):\n",
        "    total_size = 0\n",
        "    for dirpath, dirnames, filenames in os.walk(folder_path):\n",
        "        for filename in filenames:\n",
        "            file_path = os.path.join(dirpath, filename)\n",
        "            total_size += os.path.getsize(file_path)\n",
        "\n",
        "    # Convert bytes to gigabytes (1 GB = 1024 * 1024 * 1024 bytes)\n",
        "    size_gb = total_size / (1024 ** 3)\n",
        "    return size_gb\n",
        "\n",
        "# Example usage:\n",
        "folder_path = '/content/mados_data'\n",
        "size_gb = get_folder_size_gb(folder_path)\n",
        "print(f\"Size of folder '{folder_path}': {size_gb:.2f} GB\")"
      ],
      "metadata": {
        "colab": {
          "base_uri": "https://localhost:8080/"
        },
        "id": "Tl22zRDJo_Gl",
        "outputId": "6f36410d-1e5a-42bc-a249-4fe676700341"
      },
      "execution_count": null,
      "outputs": [
        {
          "output_type": "stream",
          "name": "stdout",
          "text": [
            "Size of folder '/content/mados_data': 5.36 GB\n"
          ]
        }
      ]
    },
    {
      "cell_type": "code",
      "source": [
        "mados_path = \"/content/mados_data/MADOS/splits\"\n",
        "print(\"Contents of MADOS directory:\", os.listdir(mados_path))\n",
        "\n"
      ],
      "metadata": {
        "colab": {
          "base_uri": "https://localhost:8080/"
        },
        "id": "-UV8_Utoezan",
        "outputId": "151dfe14-10f7-4c06-d44d-b470d1fe7272"
      },
      "execution_count": null,
      "outputs": [
        {
          "output_type": "stream",
          "name": "stdout",
          "text": [
            "Contents of MADOS directory: ['test_X.txt', 'train_X.txt', 'val_X.txt']\n"
          ]
        }
      ]
    },
    {
      "cell_type": "code",
      "source": [
        "import os\n",
        "\n",
        "extract_path = \"/content/mados_data\"  # Replace with the actual path\n",
        "print(\"Contents of the extracted directory:\")\n",
        "print(os.listdir(extract_path))"
      ],
      "metadata": {
        "colab": {
          "base_uri": "https://localhost:8080/"
        },
        "id": "TlAnrxmb5O4X",
        "outputId": "0d46d77e-e51d-468e-a543-7124927ea87b"
      },
      "execution_count": null,
      "outputs": [
        {
          "output_type": "stream",
          "name": "stdout",
          "text": [
            "Contents of the extracted directory:\n",
            "['MADOS']\n"
          ]
        }
      ]
    },
    {
      "cell_type": "markdown",
      "source": [
        "Explor the data of scene 0"
      ],
      "metadata": {
        "id": "NOqKNL6Pt8lj"
      }
    },
    {
      "cell_type": "code",
      "source": [
        "import os\n",
        "\n",
        "# Define the path to Scene_0\n",
        "scene_0_path = \"/content/mados_data/MADOS/Scene_0\"\n",
        "\n",
        "# Function to print the folder structure\n",
        "def print_folder_structure(folder_path, indent=\"\"):\n",
        "    print(f\"{indent}{os.path.basename(folder_path)}/\")\n",
        "    indent += \"    \"\n",
        "    for item in os.listdir(folder_path):\n",
        "        item_path = os.path.join(folder_path, item)\n",
        "        if os.path.isdir(item_path):\n",
        "            print_folder_structure(item_path, indent)\n",
        "        else:\n",
        "            print(f\"{indent}{item}\")\n",
        "\n",
        "# Function to analyze file types and content\n",
        "def analyze_files(folder_path):\n",
        "    for root, dirs, files in os.walk(folder_path):\n",
        "        for file in files:\n",
        "            file_path = os.path.join(root, file)\n",
        "            print(f\"\\nFile: {file_path}\")\n",
        "            if file.endswith(\"_conf_CROP.tif\"):\n",
        "                print(\"  Type: Confidence file\")\n",
        "                # Add logic to read and process _conf files if needed\n",
        "            elif file.endswith(\"_rep_CROP.tif\"):\n",
        "                print(\"  Type: Report file\")\n",
        "                # Add logic to read and process _rep files if needed\n",
        "            elif file.endswith(\"_cl_CROP.tif\"):\n",
        "                print(\"  Type: Class file\")\n",
        "                # Add logic to read and process _cl files if needed\n",
        "            else:\n",
        "                print(\"  Type: Other file\")\n",
        "\n",
        "# Print the folder structure\n",
        "print(\"Folder Structure:\")\n",
        "print_folder_structure(scene_0_path)\n",
        "\n",
        "# Analyze files in Scene_0\n",
        "#print(\"\\nAnalyzing Files:\")\n",
        "#analyze_files(scene_0_path)"
      ],
      "metadata": {
        "colab": {
          "base_uri": "https://localhost:8080/"
        },
        "id": "cCn-tPyGuBYf",
        "outputId": "9e6df84a-1dd5-4f16-e7b2-07adac1e7140"
      },
      "execution_count": null,
      "outputs": [
        {
          "output_type": "stream",
          "name": "stdout",
          "text": [
            "Folder Structure:\n",
            "Scene_0/\n",
            "    10/\n",
            "        Scene_0_L2R_rhorc_559_7.tif\n",
            "        Scene_0_L2R_cl_5.tif\n",
            "        Scene_0_L2R_cl_7.tif\n",
            "        Scene_0_L2W_TUR_Nechad2016_665_2.tif\n",
            "        Scene_0_L2R_rhorc_665_5.tif\n",
            "        Scene_0_L2R_rhorc_833_5.tif\n",
            "        Scene_0_L2R_rhorc_833_3.tif\n",
            "        Scene_0_L2R_rgb_4.png\n",
            "        Scene_0_L2R_rhorc_492_5.tif\n",
            "        Scene_0_L2R_rhorc_559_4.tif\n",
            "        Scene_0_L2R_rep_9.tif\n",
            "        Scene_0_L2R_rhorc_559_9.tif\n",
            "        Scene_0_L2R_rep_2.tif\n",
            "        Scene_0_L2R_conf_4.tif\n",
            "        Scene_0_L2W_TUR_Nechad2016_665_1.tif\n",
            "        Scene_0_L2R_rhorc_492_8.tif\n",
            "        Scene_0_L2R_conf_1.tif\n",
            "        Scene_0_L2R_rgb_5.png\n",
            "        Scene_0_L2R_rhorc_833_8.tif\n",
            "        Scene_0_L2R_rhorc_665_4.tif\n",
            "        Scene_0_L2R_rhorc_665_3.tif\n",
            "        Scene_0_L2R_conf_2.tif\n",
            "        Scene_0_L2R_rhorc_833_9.tif\n",
            "        Scene_0_L2R_rep_4.tif\n",
            "        Scene_0_L2R_rep_8.tif\n",
            "        Scene_0_L2W_TUR_Nechad2016_665_4.tif\n",
            "        Scene_0_L2R_rgb_1.png\n",
            "        Scene_0_L2R_rhorc_559_1.tif\n",
            "        Scene_0_L2R_rhorc_665_6.tif\n",
            "        Scene_0_L2W_TUR_Dogliotti_7.tif\n",
            "        Scene_0_L2R_rhorc_665_2.tif\n",
            "        Scene_0_L2R_rhorc_559_8.tif\n",
            "        Scene_0_L2R_conf_9.tif\n",
            "        Scene_0_L2R_rhorc_559_5.tif\n",
            "        Scene_0_L2R_rhorc_833_4.tif\n",
            "        Scene_0_L2R_rgb_7.png\n",
            "        Scene_0_L2W_TUR_Nechad2016_665_9.tif\n",
            "        Scene_0_L2R_rhorc_492_3.tif\n",
            "        Scene_0_L2R_rep_5.tif\n",
            "        Scene_0_L2R_rhorc_492_1.tif\n",
            "        Scene_0_L2R_rhorc_833_1.tif\n",
            "        Scene_0_L2R_rhorc_833_2.tif\n",
            "        Scene_0_L2R_conf_3.tif\n",
            "        Scene_0_L2R_conf_8.tif\n",
            "        Scene_0_L2W_TUR_Dogliotti_5.tif\n",
            "        Scene_0_L2R_rhorc_492_6.tif\n",
            "        Scene_0_L2R_rhorc_665_1.tif\n",
            "        Scene_0_L2R_rgb_3.png\n",
            "        Scene_0_L2W_TUR_Dogliotti_1.tif\n",
            "        Scene_0_L2R_cl_4.tif\n",
            "        Scene_0_L2R_rhorc_492_4.tif\n",
            "        Scene_0_L2R_rhorc_665_8.tif\n",
            "        Scene_0_L2R_rep_1.tif\n",
            "        Scene_0_L2W_TUR_Dogliotti_8.tif\n",
            "        Scene_0_L2R_conf_5.tif\n",
            "        Scene_0_L2W_TUR_Nechad2016_665_7.tif\n",
            "        Scene_0_L2R_rep_6.tif\n",
            "        Scene_0_L2W_TUR_Dogliotti_6.tif\n",
            "        Scene_0_L2R_cl_1.tif\n",
            "        Scene_0_L2W_TUR_Dogliotti_2.tif\n",
            "        Scene_0_L2W_TUR_Nechad2016_665_6.tif\n",
            "        Scene_0_L2R_cl_2.tif\n",
            "        Scene_0_L2R_conf_6.tif\n",
            "        Scene_0_L2R_rhorc_833_6.tif\n",
            "        Scene_0_L2R_cl_8.tif\n",
            "        Scene_0_L2R_rgb_8.png\n",
            "        Scene_0_L2R_rep_3.tif\n",
            "        Scene_0_L2R_rhorc_492_2.tif\n",
            "        Scene_0_L2R_rhorc_559_3.tif\n",
            "        Scene_0_L2R_rhorc_559_2.tif\n",
            "        Scene_0_L2R_rhorc_665_9.tif\n",
            "        Scene_0_L2R_cl_3.tif\n",
            "        Scene_0_L2W_TUR_Dogliotti_3.tif\n",
            "        Scene_0_L2W_TUR_Nechad2016_665_5.tif\n",
            "        Scene_0_L2R_cl_6.tif\n",
            "        Scene_0_L2R_rep_7.tif\n",
            "        Scene_0_L2R_conf_7.tif\n",
            "        Scene_0_L2R_rhorc_492_7.tif\n",
            "        Scene_0_L2W_TUR_Dogliotti_9.tif\n",
            "        Scene_0_L2R_rhorc_833_7.tif\n",
            "        Scene_0_L2W_TUR_Dogliotti_4.tif\n",
            "        Scene_0_L2W_TUR_Nechad2016_665_3.tif\n",
            "        Scene_0_L2R_rhorc_665_7.tif\n",
            "        Scene_0_L2R_rhorc_492_9.tif\n",
            "        Scene_0_L2W_TUR_Nechad2016_665_8.tif\n",
            "        Scene_0_L2R_rhorc_559_6.tif\n",
            "        Scene_0_L2R_cl_9.tif\n",
            "        Scene_0_L2R_rgb_9.png\n",
            "        Scene_0_L2R_rgb_6.png\n",
            "        Scene_0_L2R_rgb_2.png\n",
            "    60/\n",
            "        Scene_0_L2R_rhorc_442_4.tif\n",
            "        Scene_0_L2R_rhorc_442_5.tif\n",
            "        Scene_0_L2R_rhorc_442_9.tif\n",
            "        Scene_0_L2R_rhorc_442_2.tif\n",
            "        Scene_0_L2R_rhorc_442_7.tif\n",
            "        Scene_0_L2R_rhorc_442_1.tif\n",
            "        Scene_0_L2R_rhorc_442_8.tif\n",
            "        Scene_0_L2R_rhorc_442_3.tif\n",
            "        Scene_0_L2R_rhorc_442_6.tif\n",
            "    20/\n",
            "        Scene_0_L2R_rhorc_780_8.tif\n",
            "        Scene_0_L2R_rhorc_1610_7.tif\n",
            "        Scene_0_L2R_rhorc_864_4.tif\n",
            "        Scene_0_L2R_cl_5.tif\n",
            "        Scene_0_L2R_cl_7.tif\n",
            "        Scene_0_L2R_rhorc_864_1.tif\n",
            "        Scene_0_L2R_rep_9.tif\n",
            "        Scene_0_L2R_rhorc_1610_5.tif\n",
            "        Scene_0_L2R_rep_2.tif\n",
            "        Scene_0_L2R_conf_4.tif\n",
            "        Scene_0_L2R_rhorc_704_7.tif\n",
            "        Scene_0_L2R_conf_1.tif\n",
            "        Scene_0_L2R_rhorc_739_3.tif\n",
            "        Scene_0_L2R_rhorc_2186_8.tif\n",
            "        Scene_0_L2R_conf_2.tif\n",
            "        Scene_0_L2R_rhorc_780_7.tif\n",
            "        Scene_0_L2R_rep_4.tif\n",
            "        Scene_0_L2R_rhorc_704_5.tif\n",
            "        Scene_0_L2R_rep_8.tif\n",
            "        Scene_0_L2R_rhorc_704_8.tif\n",
            "        Scene_0_L2R_rhorc_2186_9.tif\n",
            "        Scene_0_L2R_rhorc_739_4.tif\n",
            "        Scene_0_L2R_rhorc_2186_1.tif\n",
            "        Scene_0_L2R_rhorc_1610_8.tif\n",
            "        Scene_0_L2R_rhorc_780_2.tif\n",
            "        Scene_0_L2R_rhorc_739_6.tif\n",
            "        Scene_0_L2R_rhorc_704_6.tif\n",
            "        Scene_0_L2R_rhorc_780_4.tif\n",
            "        Scene_0_L2R_rhorc_780_3.tif\n",
            "        Scene_0_L2R_conf_9.tif\n",
            "        Scene_0_L2R_rhorc_1610_4.tif\n",
            "        Scene_0_L2R_rhorc_1610_6.tif\n",
            "        Scene_0_L2R_rhorc_2186_6.tif\n",
            "        Scene_0_L2R_rep_5.tif\n",
            "        Scene_0_L2R_rhorc_864_3.tif\n",
            "        Scene_0_L2R_rhorc_704_1.tif\n",
            "        Scene_0_L2R_conf_3.tif\n",
            "        Scene_0_L2R_conf_8.tif\n",
            "        Scene_0_L2R_rhorc_780_9.tif\n",
            "        Scene_0_L2R_rhorc_704_9.tif\n",
            "        Scene_0_L2R_rhorc_739_1.tif\n",
            "        Scene_0_L2R_rhorc_704_2.tif\n",
            "        Scene_0_L2R_rhorc_2186_2.tif\n",
            "        Scene_0_L2R_rhorc_1610_9.tif\n",
            "        Scene_0_L2R_rhorc_864_2.tif\n",
            "        Scene_0_L2R_cl_4.tif\n",
            "        Scene_0_L2R_rhorc_1610_3.tif\n",
            "        Scene_0_L2R_rhorc_780_1.tif\n",
            "        Scene_0_L2R_rep_1.tif\n",
            "        Scene_0_L2R_rhorc_1610_2.tif\n",
            "        Scene_0_L2R_rhorc_864_8.tif\n",
            "        Scene_0_L2R_conf_5.tif\n",
            "        Scene_0_L2R_rep_6.tif\n",
            "        Scene_0_L2R_cl_1.tif\n",
            "        Scene_0_L2R_rhorc_739_9.tif\n",
            "        Scene_0_L2R_cl_2.tif\n",
            "        Scene_0_L2R_conf_6.tif\n",
            "        Scene_0_L2R_cl_8.tif\n",
            "        Scene_0_L2R_rhorc_2186_4.tif\n",
            "        Scene_0_L2R_rhorc_864_9.tif\n",
            "        Scene_0_L2R_rep_3.tif\n",
            "        Scene_0_L2R_rhorc_864_7.tif\n",
            "        Scene_0_L2R_rhorc_704_4.tif\n",
            "        Scene_0_L2R_rhorc_2186_7.tif\n",
            "        Scene_0_L2R_cl_3.tif\n",
            "        Scene_0_L2R_rhorc_2186_3.tif\n",
            "        Scene_0_L2R_rhorc_739_5.tif\n",
            "        Scene_0_L2R_cl_6.tif\n",
            "        Scene_0_L2R_rep_7.tif\n",
            "        Scene_0_L2R_rhorc_780_5.tif\n",
            "        Scene_0_L2R_rhorc_1610_1.tif\n",
            "        Scene_0_L2R_conf_7.tif\n",
            "        Scene_0_L2R_rhorc_739_7.tif\n",
            "        Scene_0_L2R_rhorc_704_3.tif\n",
            "        Scene_0_L2R_rhorc_739_8.tif\n",
            "        Scene_0_L2R_rhorc_864_5.tif\n",
            "        Scene_0_L2R_rhorc_2186_5.tif\n",
            "        Scene_0_L2R_cl_9.tif\n",
            "        Scene_0_L2R_rhorc_864_6.tif\n",
            "        Scene_0_L2R_rhorc_780_6.tif\n",
            "        Scene_0_L2R_rhorc_739_2.tif\n"
          ]
        }
      ]
    },
    {
      "cell_type": "code",
      "source": [
        "import os\n",
        "import rasterio\n",
        "import numpy as np\n",
        "import matplotlib.pyplot as plt\n",
        "\n",
        "# Define dataset path\n",
        "EXTRACT_PATH = \"/content/mados_data/MADOS\"  # Replace with the real path\n",
        "\n",
        "\n",
        "# Count files in each resolution folder\n",
        "scene_counts = {}\n",
        "class_counts = {i: 0 for i in range(16)}  # 16 classes in MADOS\n",
        "\n",
        "for scene in os.listdir(EXTRACT_PATH):\n",
        "    scene_path = os.path.join(EXTRACT_PATH, scene)\n",
        "\n",
        "    if not os.path.isdir(scene_path):  # Skip non-directory files\n",
        "        continue\n",
        "\n",
        "    scene_counts[scene] = {\"10m\": 0, \"20m\": 0, \"60m\": 0}\n",
        "\n",
        "    for res in [\"10\", \"20\", \"60\"]:\n",
        "        res_path = os.path.join(scene_path, res)\n",
        "        if os.path.exists(res_path):\n",
        "            files = os.listdir(res_path)\n",
        "            scene_counts[scene][f\"{res}m\"] = len(files)\n",
        "\n",
        "            # Check classification masks (_cl_CROP.tif)\n",
        "            for file in files:\n",
        "                if file.endswith(\"_cl_CROP.tif\"):\n",
        "                    with rasterio.open(os.path.join(res_path, file)) as cl_mask:\n",
        "                        mask_data = cl_mask.read(1)\n",
        "                        unique, counts = np.unique(mask_data, return_counts=True)\n",
        "                        for u, c in zip(unique, counts):\n",
        "                            class_counts[u] += c  # Count pixels per class\n",
        "\n",
        "# Print scene distribution\n",
        "print(\"Scene and File Distribution:\")\n",
        "for scene, counts in scene_counts.items():\n",
        "    print(f\"{scene}: {counts}\")\n",
        "\n",
        "# Print class distribution\n",
        "print(\"\\nClass Distribution (Pixel Counts):\")\n",
        "for class_id, count in class_counts.items():\n",
        "    print(f\"Class {class_id}: {count} pixels\")\n",
        "\n",
        "# Plot class distribution\n",
        "plt.bar(class_counts.keys(), class_counts.values(), color='skyblue')\n",
        "plt.xlabel(\"Class ID\")\n",
        "plt.ylabel(\"Pixel Count\")\n",
        "plt.title(\"Class Distribution in MADOS\")\n",
        "plt.xticks(range(16))\n",
        "plt.show()\n"
      ],
      "metadata": {
        "colab": {
          "base_uri": "https://localhost:8080/",
          "height": 1000
        },
        "id": "OnIbqday9rDF",
        "outputId": "0d00c8fb-e705-4349-ebce-6cf2d838af13"
      },
      "execution_count": null,
      "outputs": [
        {
          "output_type": "stream",
          "name": "stdout",
          "text": [
            "Scene and File Distribution:\n",
            "Scene_7: {'10m': 320, '20m': 288, '60m': 32}\n",
            "Scene_171: {'10m': 270, '20m': 243, '60m': 27}\n",
            "Scene_133: {'10m': 30, '20m': 27, '60m': 3}\n",
            "Scene_98: {'10m': 270, '20m': 243, '60m': 27}\n",
            "Scene_60: {'10m': 20, '20m': 18, '60m': 2}\n",
            "Scene_27: {'10m': 90, '20m': 81, '60m': 9}\n",
            "Scene_93: {'10m': 60, '20m': 54, '60m': 6}\n",
            "Scene_14: {'10m': 30, '20m': 27, '60m': 3}\n",
            "Scene_26: {'10m': 90, '20m': 81, '60m': 9}\n",
            "Scene_73: {'10m': 120, '20m': 108, '60m': 12}\n",
            "Scene_6: {'10m': 390, '20m': 351, '60m': 39}\n",
            "Scene_75: {'10m': 190, '20m': 171, '60m': 19}\n",
            "Scene_126: {'10m': 30, '20m': 27, '60m': 3}\n",
            "Scene_68: {'10m': 120, '20m': 108, '60m': 12}\n",
            "Scene_148: {'10m': 80, '20m': 72, '60m': 8}\n",
            "Scene_156: {'10m': 170, '20m': 153, '60m': 17}\n",
            "Scene_79: {'10m': 90, '20m': 81, '60m': 9}\n",
            "Scene_123: {'10m': 50, '20m': 45, '60m': 5}\n",
            "Scene_70: {'10m': 120, '20m': 108, '60m': 12}\n",
            "Scene_28: {'10m': 80, '20m': 72, '60m': 8}\n",
            "Scene_44: {'10m': 40, '20m': 36, '60m': 4}\n",
            "Scene_49: {'10m': 60, '20m': 54, '60m': 6}\n",
            "Scene_164: {'10m': 200, '20m': 180, '60m': 20}\n",
            "Scene_92: {'10m': 60, '20m': 54, '60m': 6}\n",
            "Scene_114: {'10m': 290, '20m': 261, '60m': 29}\n",
            "Scene_40: {'10m': 80, '20m': 72, '60m': 8}\n",
            "splits: {'10m': 0, '20m': 0, '60m': 0}\n",
            "Scene_119: {'10m': 10, '20m': 9, '60m': 1}\n",
            "Scene_169: {'10m': 310, '20m': 279, '60m': 31}\n",
            "Scene_66: {'10m': 40, '20m': 36, '60m': 4}\n",
            "Scene_0: {'10m': 90, '20m': 81, '60m': 9}\n",
            "Scene_55: {'10m': 110, '20m': 99, '60m': 11}\n",
            "Scene_141: {'10m': 480, '20m': 432, '60m': 48}\n",
            "Scene_153: {'10m': 140, '20m': 126, '60m': 14}\n",
            "Scene_83: {'10m': 220, '20m': 198, '60m': 22}\n",
            "Scene_9: {'10m': 610, '20m': 549, '60m': 61}\n",
            "Scene_144: {'10m': 130, '20m': 117, '60m': 13}\n",
            "Scene_43: {'10m': 40, '20m': 36, '60m': 4}\n",
            "Scene_154: {'10m': 150, '20m': 135, '60m': 15}\n",
            "Scene_45: {'10m': 50, '20m': 45, '60m': 5}\n",
            "Scene_152: {'10m': 280, '20m': 252, '60m': 28}\n",
            "Scene_81: {'10m': 300, '20m': 270, '60m': 30}\n",
            "Scene_58: {'10m': 120, '20m': 108, '60m': 12}\n",
            "Scene_78: {'10m': 70, '20m': 63, '60m': 7}\n",
            "Scene_105: {'10m': 130, '20m': 117, '60m': 13}\n",
            "Scene_172: {'10m': 210, '20m': 189, '60m': 21}\n",
            "Scene_146: {'10m': 80, '20m': 72, '60m': 8}\n",
            "Scene_122: {'10m': 30, '20m': 27, '60m': 3}\n",
            "Scene_167: {'10m': 130, '20m': 117, '60m': 13}\n",
            "Scene_173: {'10m': 70, '20m': 63, '60m': 7}\n",
            "Scene_21: {'10m': 30, '20m': 27, '60m': 3}\n",
            "Scene_33: {'10m': 100, '20m': 90, '60m': 10}\n",
            "Scene_118: {'10m': 230, '20m': 207, '60m': 23}\n",
            "Scene_47: {'10m': 50, '20m': 45, '60m': 5}\n",
            "Scene_63: {'10m': 40, '20m': 36, '60m': 4}\n",
            "Scene_106: {'10m': 80, '20m': 72, '60m': 8}\n",
            "Scene_52: {'10m': 60, '20m': 54, '60m': 6}\n",
            "Scene_109: {'10m': 320, '20m': 288, '60m': 32}\n",
            "Scene_128: {'10m': 70, '20m': 63, '60m': 7}\n",
            "Scene_31: {'10m': 310, '20m': 279, '60m': 31}\n",
            "Scene_61: {'10m': 40, '20m': 36, '60m': 4}\n",
            "Scene_147: {'10m': 40, '20m': 36, '60m': 4}\n",
            "Scene_12: {'10m': 680, '20m': 612, '60m': 68}\n",
            "Scene_108: {'10m': 410, '20m': 369, '60m': 41}\n",
            "Scene_107: {'10m': 80, '20m': 72, '60m': 8}\n",
            "Scene_69: {'10m': 180, '20m': 162, '60m': 18}\n",
            "Scene_25: {'10m': 370, '20m': 333, '60m': 37}\n",
            "Scene_101: {'10m': 60, '20m': 54, '60m': 6}\n",
            "Scene_59: {'10m': 80, '20m': 72, '60m': 8}\n",
            "Scene_110: {'10m': 120, '20m': 108, '60m': 12}\n",
            "Scene_88: {'10m': 310, '20m': 279, '60m': 31}\n",
            "Scene_13: {'10m': 40, '20m': 36, '60m': 4}\n",
            "Scene_36: {'10m': 270, '20m': 243, '60m': 27}\n",
            "Scene_136: {'10m': 300, '20m': 270, '60m': 30}\n",
            "Scene_38: {'10m': 320, '20m': 288, '60m': 32}\n",
            "Scene_117: {'10m': 140, '20m': 126, '60m': 14}\n",
            "Scene_138: {'10m': 30, '20m': 27, '60m': 3}\n",
            "Scene_115: {'10m': 160, '20m': 144, '60m': 16}\n",
            "Scene_170: {'10m': 30, '20m': 27, '60m': 3}\n",
            "Scene_87: {'10m': 110, '20m': 99, '60m': 11}\n",
            "Scene_62: {'10m': 160, '20m': 144, '60m': 16}\n",
            "Scene_89: {'10m': 90, '20m': 81, '60m': 9}\n",
            "Scene_111: {'10m': 110, '20m': 99, '60m': 11}\n",
            "Scene_76: {'10m': 40, '20m': 36, '60m': 4}\n",
            "Scene_91: {'10m': 70, '20m': 63, '60m': 7}\n",
            "Scene_77: {'10m': 250, '20m': 225, '60m': 25}\n",
            "Scene_54: {'10m': 300, '20m': 270, '60m': 30}\n",
            "Scene_19: {'10m': 140, '20m': 126, '60m': 14}\n",
            "Scene_160: {'10m': 370, '20m': 333, '60m': 37}\n",
            "Scene_82: {'10m': 20, '20m': 18, '60m': 2}\n",
            "Scene_143: {'10m': 20, '20m': 18, '60m': 2}\n",
            "Scene_22: {'10m': 90, '20m': 81, '60m': 9}\n",
            "Scene_113: {'10m': 140, '20m': 126, '60m': 14}\n",
            "Scene_102: {'10m': 20, '20m': 18, '60m': 2}\n",
            "Scene_120: {'10m': 430, '20m': 387, '60m': 43}\n",
            "Scene_74: {'10m': 10, '20m': 9, '60m': 1}\n",
            "Scene_57: {'10m': 70, '20m': 63, '60m': 7}\n",
            "Scene_71: {'10m': 180, '20m': 162, '60m': 18}\n",
            "Scene_142: {'10m': 190, '20m': 171, '60m': 19}\n",
            "Scene_116: {'10m': 70, '20m': 63, '60m': 7}\n",
            "Scene_90: {'10m': 270, '20m': 243, '60m': 27}\n",
            "Scene_95: {'10m': 360, '20m': 324, '60m': 36}\n",
            "Scene_1: {'10m': 570, '20m': 513, '60m': 57}\n",
            "Scene_17: {'10m': 90, '20m': 81, '60m': 9}\n",
            "Scene_72: {'10m': 150, '20m': 135, '60m': 15}\n",
            "Scene_86: {'10m': 50, '20m': 45, '60m': 5}\n",
            "Scene_139: {'10m': 300, '20m': 270, '60m': 30}\n",
            "Scene_56: {'10m': 120, '20m': 108, '60m': 12}\n",
            "Scene_80: {'10m': 100, '20m': 90, '60m': 10}\n",
            "Scene_166: {'10m': 160, '20m': 144, '60m': 16}\n",
            "Scene_94: {'10m': 190, '20m': 171, '60m': 19}\n",
            "Scene_37: {'10m': 80, '20m': 72, '60m': 8}\n",
            "Scene_15: {'10m': 70, '20m': 63, '60m': 7}\n",
            "Scene_103: {'10m': 20, '20m': 18, '60m': 2}\n",
            "Scene_29: {'10m': 60, '20m': 54, '60m': 6}\n",
            "Scene_150: {'10m': 150, '20m': 135, '60m': 15}\n",
            "Scene_99: {'10m': 940, '20m': 846, '60m': 94}\n",
            "Scene_125: {'10m': 210, '20m': 189, '60m': 21}\n",
            "Scene_50: {'10m': 370, '20m': 333, '60m': 37}\n",
            "Scene_85: {'10m': 20, '20m': 18, '60m': 2}\n",
            "Scene_145: {'10m': 260, '20m': 234, '60m': 26}\n",
            "Scene_11: {'10m': 210, '20m': 189, '60m': 21}\n",
            "Scene_127: {'10m': 650, '20m': 585, '60m': 65}\n",
            "Scene_23: {'10m': 60, '20m': 54, '60m': 6}\n",
            "Scene_10: {'10m': 100, '20m': 90, '60m': 10}\n",
            "Scene_130: {'10m': 50, '20m': 45, '60m': 5}\n",
            "Scene_65: {'10m': 30, '20m': 27, '60m': 3}\n",
            "Scene_96: {'10m': 70, '20m': 63, '60m': 7}\n",
            "Scene_140: {'10m': 210, '20m': 189, '60m': 21}\n",
            "Scene_135: {'10m': 380, '20m': 342, '60m': 38}\n",
            "Scene_2: {'10m': 40, '20m': 36, '60m': 4}\n",
            "Scene_112: {'10m': 300, '20m': 270, '60m': 30}\n",
            "Scene_121: {'10m': 240, '20m': 216, '60m': 24}\n",
            "Scene_158: {'10m': 40, '20m': 36, '60m': 4}\n",
            "Scene_97: {'10m': 150, '20m': 135, '60m': 15}\n",
            "Scene_134: {'10m': 140, '20m': 126, '60m': 14}\n",
            "Scene_163: {'10m': 350, '20m': 315, '60m': 35}\n",
            "Scene_51: {'10m': 530, '20m': 477, '60m': 53}\n",
            "Scene_131: {'10m': 220, '20m': 198, '60m': 22}\n",
            "Scene_124: {'10m': 40, '20m': 36, '60m': 4}\n",
            "Scene_39: {'10m': 100, '20m': 90, '60m': 10}\n",
            "Scene_3: {'10m': 420, '20m': 378, '60m': 42}\n",
            "Scene_104: {'10m': 120, '20m': 108, '60m': 12}\n",
            "Scene_53: {'10m': 100, '20m': 90, '60m': 10}\n",
            "Scene_159: {'10m': 100, '20m': 90, '60m': 10}\n",
            "Scene_16: {'10m': 220, '20m': 198, '60m': 22}\n",
            "Scene_8: {'10m': 60, '20m': 54, '60m': 6}\n",
            "Scene_42: {'10m': 130, '20m': 117, '60m': 13}\n",
            "Scene_41: {'10m': 130, '20m': 117, '60m': 13}\n",
            "Scene_35: {'10m': 20, '20m': 18, '60m': 2}\n",
            "Scene_157: {'10m': 450, '20m': 405, '60m': 45}\n",
            "Scene_32: {'10m': 130, '20m': 117, '60m': 13}\n",
            "Scene_162: {'10m': 260, '20m': 234, '60m': 26}\n",
            "Scene_129: {'10m': 30, '20m': 27, '60m': 3}\n",
            "Scene_149: {'10m': 20, '20m': 18, '60m': 2}\n",
            "Scene_151: {'10m': 70, '20m': 63, '60m': 7}\n",
            "Scene_155: {'10m': 70, '20m': 63, '60m': 7}\n",
            "Scene_20: {'10m': 80, '20m': 72, '60m': 8}\n",
            "Scene_67: {'10m': 60, '20m': 54, '60m': 6}\n",
            "Scene_48: {'10m': 40, '20m': 36, '60m': 4}\n",
            "Scene_46: {'10m': 70, '20m': 63, '60m': 7}\n",
            "Scene_137: {'10m': 60, '20m': 54, '60m': 6}\n",
            "Scene_161: {'10m': 140, '20m': 126, '60m': 14}\n",
            "Scene_64: {'10m': 50, '20m': 45, '60m': 5}\n",
            "Scene_34: {'10m': 50, '20m': 45, '60m': 5}\n",
            "Scene_168: {'10m': 130, '20m': 117, '60m': 13}\n",
            "Scene_5: {'10m': 250, '20m': 225, '60m': 25}\n",
            "Scene_165: {'10m': 90, '20m': 81, '60m': 9}\n",
            "Scene_24: {'10m': 20, '20m': 18, '60m': 2}\n",
            "Scene_132: {'10m': 190, '20m': 171, '60m': 19}\n",
            "Scene_100: {'10m': 130, '20m': 117, '60m': 13}\n",
            "Scene_84: {'10m': 300, '20m': 270, '60m': 30}\n",
            "Scene_18: {'10m': 180, '20m': 162, '60m': 18}\n",
            "Scene_4: {'10m': 330, '20m': 297, '60m': 33}\n",
            "Scene_30: {'10m': 100, '20m': 90, '60m': 10}\n",
            "\n",
            "Class Distribution (Pixel Counts):\n",
            "Class 0: 0 pixels\n",
            "Class 1: 0 pixels\n",
            "Class 2: 0 pixels\n",
            "Class 3: 0 pixels\n",
            "Class 4: 0 pixels\n",
            "Class 5: 0 pixels\n",
            "Class 6: 0 pixels\n",
            "Class 7: 0 pixels\n",
            "Class 8: 0 pixels\n",
            "Class 9: 0 pixels\n",
            "Class 10: 0 pixels\n",
            "Class 11: 0 pixels\n",
            "Class 12: 0 pixels\n",
            "Class 13: 0 pixels\n",
            "Class 14: 0 pixels\n",
            "Class 15: 0 pixels\n"
          ]
        },
        {
          "output_type": "display_data",
          "data": {
            "text/plain": [
              "<Figure size 640x480 with 1 Axes>"
            ],
            "image/png": "[encoded data removed]"
          },
          "metadata": {}
        }
      ]
    },
    {
      "cell_type": "code",
      "source": [
        "# Set up the environment\n",
        "import warnings\n",
        "warnings.filterwarnings('ignore')"
      ],
      "metadata": {
        "id": "ON3MjWBfitB6"
      },
      "execution_count": null,
      "outputs": []
    },
    {
      "cell_type": "markdown",
      "source": [
        "Download Marida DataBase"
      ],
      "metadata": {
        "id": "sbOGGZiadeS-"
      }
    },
    {
      "cell_type": "code",
      "source": [
        "#import shutil\n",
        "\n",
        "#dataset_path = \"/content/mados_data\"  # Adjust if needed\n",
        "\n",
        "#if os.path.exists(\"/content/mados_data\"):\n",
        "    #shutil.rmtree(\"/content/mados_data\")\n",
        "    ##print(\"MADOS dataset deleted successfully.\")\n",
        "#else:\n",
        "    #print(\"Dataset not found, nothing to delete.\")\n"
      ],
      "metadata": {
        "colab": {
          "base_uri": "https://localhost:8080/"
        },
        "id": "2ixgVSZ9igrl",
        "outputId": "82a1879b-7f7f-4379-86dd-f070f0276456"
      },
      "execution_count": null,
      "outputs": [
        {
          "output_type": "stream",
          "name": "stdout",
          "text": [
            "MADOS dataset deleted successfully.\n"
          ]
        }
      ]
    },
    {
      "cell_type": "code",
      "source": [
        "import zipfile\n",
        "import os\n",
        "\n",
        "# Path to the ZIP file\n",
        "zip_path1 =\"/content/drive/MyDrive/MARIDA.zip\"\n",
        "\n",
        "# Directory to extract the files\n",
        "extract_path1 = \"/content/marida_data\"\n",
        "os.makedirs(extract_path, exist_ok=True)\n",
        "\n",
        "# Extract the ZIP file\n",
        "with zipfile.ZipFile(zip_path1, 'r') as zip_ref:\n",
        "    zip_ref.extractall(extract_path1)\n",
        "\n",
        "print(f\"Files extracted to: {extract_path1}\")"
      ],
      "metadata": {
        "colab": {
          "base_uri": "https://localhost:8080/"
        },
        "id": "-0CY-v3xgZLL",
        "outputId": "66e87e3c-3066-4389-9568-98bb8e7ffaac"
      },
      "execution_count": null,
      "outputs": [
        {
          "output_type": "stream",
          "name": "stdout",
          "text": [
            "Files extracted to: /content/marida_data\n"
          ]
        }
      ]
    },
    {
      "cell_type": "code",
      "source": [
        "print(\"Dataset downloaded to:\", extract_path1)\n",
        "print(\"Contents of the path:\", os.listdir(extract_path1))\n"
      ],
      "metadata": {
        "colab": {
          "base_uri": "https://localhost:8080/"
        },
        "id": "XRAP_qvEdChQ",
        "outputId": "564e7603-fd0b-43d3-f9e2-2235614613fc"
      },
      "execution_count": null,
      "outputs": [
        {
          "output_type": "stream",
          "name": "stdout",
          "text": [
            "Dataset downloaded to: /content/marida_data\n",
            "Contents of the path: ['labels_mapping.txt', 'splits', 'patches', 'shapefiles']\n"
          ]
        }
      ]
    },
    {
      "cell_type": "code",
      "source": [
        "!ls -lh /content/mados_data/MADOS/Scene_101/10/Scene_101_L2R_conf_2.tif"
      ],
      "metadata": {
        "colab": {
          "base_uri": "https://localhost:8080/"
        },
        "id": "Ec_tceK63czD",
        "outputId": "b42f491e-213c-4d2b-c76a-a0b8dfa40f53"
      },
      "execution_count": null,
      "outputs": [
        {
          "output_type": "stream",
          "name": "stdout",
          "text": [
            "-rw-r--r-- 1 root root 65K Mar 25 08:54 /content/mados_data/MADOS/Scene_101/10/Scene_101_L2R_conf_2.tif\n"
          ]
        }
      ]
    },
    {
      "cell_type": "code",
      "source": [
        "import rasterio\n",
        "import numpy as np\n",
        "import matplotlib.pyplot as plt\n",
        "\n",
        "# Open the file\n",
        "file_path = \"/content/mados_data/MADOS/Scene_101/10/Scene_101_L2R_conf_3.tif\"\n",
        "with rasterio.open(file_path) as src:\n",
        "    conf_data = src.read(1)  # Read the first band\n",
        "    print(\"Metadata:\", src.meta)  # Check dtype, shape, etc.\n",
        "    print(\"Unique values:\", np.unique(conf_data))\n",
        "    print(\"Min/Max:\", np.min(conf_data), np.max(conf_data))\n",
        "\n",
        "    # Visualize\n",
        "    plt.imshow(conf_data, cmap='gray', vmin=0, vmax=1)\n",
        "    plt.colorbar(label='Confidence (0=low, 1=high)')\n",
        "    plt.title(\"Confidence Mask\")\n",
        "    plt.show()"
      ],
      "metadata": {
        "colab": {
          "base_uri": "https://localhost:8080/",
          "height": 545
        },
        "id": "oxulk71y3D98",
        "outputId": "d7de8527-a6af-4915-98c6-6436a00e3808"
      },
      "execution_count": null,
      "outputs": [
        {
          "output_type": "stream",
          "name": "stdout",
          "text": [
            "Metadata: {'driver': 'GTiff', 'dtype': 'uint8', 'nodata': None, 'width': 240, 'height': 240, 'count': 1, 'crs': CRS.from_wkt('GEOGCS[\"WGS 84\",DATUM[\"WGS_1984\",SPHEROID[\"WGS 84\",6378137,298.257223563,AUTHORITY[\"EPSG\",\"7030\"]],AUTHORITY[\"EPSG\",\"6326\"]],PRIMEM[\"Greenwich\",0,AUTHORITY[\"EPSG\",\"8901\"]],UNIT[\"degree\",0.0174532925199433,AUTHORITY[\"EPSG\",\"9122\"]],AXIS[\"Latitude\",NORTH],AXIS[\"Longitude\",EAST],AUTHORITY[\"EPSG\",\"4326\"]]'), 'transform': Affine(1.0, 0.0, 0.0,\n",
            "       0.0, 1.0, 0.0)}\n",
            "Unique values: [0 3]\n",
            "Min/Max: 0 3\n"
          ]
        },
        {
          "output_type": "display_data",
          "data": {
            "text/plain": [
              "<Figure size 640x480 with 2 Axes>"
            ],
            "image/png": "[encoded data removed]"
          },
          "metadata": {}
        }
      ]
    },
    {
      "cell_type": "code",
      "source": [
        "import rasterio\n",
        "import numpy as np\n",
        "from matplotlib import pyplot as plt\n",
        "\n",
        "# Open the classification label file\n",
        "cl_file = \"/content/mados_data/MADOS/Scene_101/10/Scene_101_L2R_cl_6.tif\"\n",
        "with rasterio.open(cl_file) as src:\n",
        "    cl_data = src.read(1)\n",
        "    print(\"Label metadata:\", src.meta)\n",
        "    print(\"Unique label values:\", np.unique(cl_data))"
      ],
      "metadata": {
        "colab": {
          "base_uri": "https://localhost:8080/"
        },
        "id": "7yZD0TFE5r4e",
        "outputId": "ddf0a436-db85-49ea-baa8-a737d5fd84f2"
      },
      "execution_count": null,
      "outputs": [
        {
          "output_type": "stream",
          "name": "stdout",
          "text": [
            "Label metadata: {'driver': 'GTiff', 'dtype': 'uint8', 'nodata': None, 'width': 240, 'height': 240, 'count': 1, 'crs': CRS.from_wkt('GEOGCS[\"WGS 84\",DATUM[\"WGS_1984\",SPHEROID[\"WGS 84\",6378137,298.257223563,AUTHORITY[\"EPSG\",\"7030\"]],AUTHORITY[\"EPSG\",\"6326\"]],PRIMEM[\"Greenwich\",0,AUTHORITY[\"EPSG\",\"8901\"]],UNIT[\"degree\",0.0174532925199433,AUTHORITY[\"EPSG\",\"9122\"]],AXIS[\"Latitude\",NORTH],AXIS[\"Longitude\",EAST],AUTHORITY[\"EPSG\",\"4326\"]]'), 'transform': Affine(1.0, 0.0, 0.0,\n",
            "       0.0, 1.0, 0.0)}\n",
            "Unique label values: [0 7]\n"
          ]
        }
      ]
    },
    {
      "cell_type": "code",
      "source": [
        "# Create a color map for visualization (adjust colors to match your classes)\n",
        "from matplotlib.colors import ListedColormap\n",
        "class_colors = ['black', 'green', 'blue', 'red', 'yellow', 'purple']  # Example for 6 classes\n",
        "cmap = ListedColormap(class_colors)\n",
        "\n",
        "plt.figure(figsize=(8, 6))\n",
        "plt.imshow(cl_data, cmap=cmap, interpolation='none')\n",
        "plt.colorbar(ticks=np.unique(cl_data), label='Class Labels')\n",
        "plt.title(\"Classification Label Mask (_cl.tif)\")\n",
        "plt.show()"
      ],
      "metadata": {
        "colab": {
          "base_uri": "https://localhost:8080/",
          "height": 545
        },
        "id": "RDG_tydp51M_",
        "outputId": "874993d0-9392-4974-dc02-a28bf79eb94a"
      },
      "execution_count": null,
      "outputs": [
        {
          "output_type": "display_data",
          "data": {
            "text/plain": [
              "<Figure size 800x600 with 2 Axes>"
            ],
            "image/png": "[encoded data removed]"
          },
          "metadata": {}
        }
      ]
    },
    {
      "cell_type": "code",
      "source": [
        "import rasterio\n",
        "conf_data = rasterio.open(\"/content/mados_data/MADOS/Scene_101/10/Scene_101_L2R_rep_1.tif\").read(1)  # Reads the first band\n",
        "print(conf_data[10, 20])  # Prints confidence at pixel (10, 20), e.g., `0.7`"
      ],
      "metadata": {
        "colab": {
          "base_uri": "https://localhost:8080/"
        },
        "id": "vbQNLE7N2PYz",
        "outputId": "54179fcf-08c3-4c17-fd76-b2dad3fa9b9b"
      },
      "execution_count": null,
      "outputs": [
        {
          "output_type": "stream",
          "name": "stdout",
          "text": [
            "0\n"
          ]
        }
      ]
    },
    {
      "cell_type": "code",
      "source": [
        "import os\n",
        "\n",
        "# Define dataset base directory\n",
        "base_dir = \"/root/.cache/kagglehub/datasets/anangfath/marida-marine-debrish-dataset/versions/1\"\n",
        "\n",
        "# Define important subdirectories\n",
        "patches_dir = os.path.join(base_dir, \"patches\")\n",
        "splits_dir = os.path.join(base_dir, \"splits\")\n",
        "labels_file = os.path.join(base_dir, \"labels_mapping.txt\")\n",
        "\n",
        "# Check dataset structure\n",
        "print(\"Dataset Structure:\")\n",
        "print(f\"Patches Directory: {os.listdir(patches_dir)[:5]}\" if os.path.exists(patches_dir) else \"Patches Directory Not Found\")\n",
        "print(f\"Splits Directory: {os.listdir(splits_dir) if os.path.exists(splits_dir) else 'Splits Directory Not Found'}\")\n",
        "print(f\"Labels Mapping File: {'Found' if os.path.exists(labels_file) else 'Not Found'}\")\n"
      ],
      "metadata": {
        "colab": {
          "base_uri": "https://localhost:8080/"
        },
        "id": "G80rDuwMdU0I",
        "outputId": "91f48a84-13b3-4ed0-8d13-00852a1892ec"
      },
      "execution_count": null,
      "outputs": [
        {
          "output_type": "stream",
          "name": "stdout",
          "text": [
            "Dataset Structure:\n",
            "Patches Directory Not Found\n",
            "Splits Directory: Splits Directory Not Found\n",
            "Labels Mapping File: Not Found\n"
          ]
        }
      ]
    },
    {
      "cell_type": "code",
      "source": [
        "modos_class_mapping = {\n",
        "    1: 'Marine Debris',\n",
        "    2: 'Dense Sargassum',\n",
        "    3: 'Sparse Sargassum',\n",
        "    4: 'Natural Organic Material',\n",
        "    5: 'Ship',\n",
        "    6: 'Clouds',\n",
        "    7: 'Marine Water',\n",
        "    8: 'Sediment-Laden Water',\n",
        "    9: 'Foam',\n",
        "    10: 'Turbid Water',\n",
        "    11: 'Shallow Water',\n",
        "    12: 'Waves',\n",
        "    13: 'Cloud Shadows',\n",
        "    14: 'Wakes',\n",
        "    15: 'Mixed Water'\n",
        "}"
      ],
      "metadata": {
        "id": "Hze2BmAAOmN0"
      },
      "execution_count": null,
      "outputs": []
    },
    {
      "cell_type": "code",
      "source": [
        "# Define color mapping for visualization (used Deep seek for this)\n",
        "modos_color_mapping = {\n",
        "    1: (255, 0, 0),      # Marine Debris - Red\n",
        "    2: (0, 128, 0),      # Dense Sargassum - Green\n",
        "    3: (144, 238, 144),  # Sparse Sargassum - Light Green\n",
        "    4: (139, 69, 19),    # Natural Organic Material - Brown\n",
        "    5: (128, 128, 128),  # Ship - Gray\n",
        "    6: (255, 255, 255),  # Clouds - White\n",
        "    7: (0, 0, 255),      # Marine Water - Blue\n",
        "    8: (210, 180, 140),  # Sediment-Laden Water - Tan\n",
        "    9: (255, 255, 224),  # Foam - Light Yellow\n",
        "    10: (64, 224, 208),  # Turbid Water - Turquoise\n",
        "    11: (176, 224, 230), # Shallow Water - Powder Blue\n",
        "    12: (0, 191, 255),   # Waves - Deep Sky Blue\n",
        "    13: (105, 105, 105), # Cloud Shadows - Dim Gray\n",
        "    14: (220, 220, 220), # Wakes - Gainsboro\n",
        "    15: (70, 130, 180)   # Mixed Water - Steel Blue\n",
        "}"
      ],
      "metadata": {
        "id": "cY3Z1Lsdjam2"
      },
      "execution_count": null,
      "outputs": []
    },
    {
      "cell_type": "code",
      "source": [
        "marida_class_mapping = {\n",
        "    1: 'Plastic Debris',\n",
        "    2: 'Floating Objects',\n",
        "    3: 'Algae',\n",
        "    4: 'Natural Organic Material',\n",
        "    5: 'Ships',\n",
        "    6: 'Clouds',\n",
        "    7: 'Water',\n",
        "    8: 'Sediment',\n",
        "    9: 'Foam',\n",
        "    10: 'Turbid Water',\n",
        "    11: 'Shallow Water',\n",
        "    12: 'Waves',\n",
        "    13: 'Cloud Shadows',\n",
        "    14: 'Wakes',\n",
        "    15: 'Mixed Water'\n",
        "}"
      ],
      "metadata": {
        "id": "sJipAXLWOk6M"
      },
      "execution_count": null,
      "outputs": []
    },
    {
      "cell_type": "code",
      "source": [
        "marida_color_mapping = {\n",
        "    1: (255, 0, 0),       # Plastic Debris - Red\n",
        "    2: (255, 165, 0),     # Floating Objects - Orange\n",
        "    3: (0, 128, 0),       # Algae - Green\n",
        "    4: (139, 69, 19),     # Natural Organic Material - Brown\n",
        "    5: (128, 128, 128),   # Ships - Gray\n",
        "    6: (255, 255, 255),   # Clouds - White\n",
        "    7: (0, 0, 255),       # Water - Blue\n",
        "    8: (210, 180, 140),   # Sediment - Tan\n",
        "    9: (255, 255, 224),   # Foam - Light Yellow\n",
        "    10: (64, 224, 208),   # Turbid Water - Turquoise\n",
        "    11: (173, 216, 230),  # Shallow Water - Light Blue\n",
        "    12: (0, 191, 255),    # Waves - Deep Sky Blue\n",
        "    13: (105, 105, 105),  # Cloud Shadows - Dim Gray\n",
        "    14: (220, 220, 220),  # Wakes - Gainsboro\n",
        "    15: (70, 130, 180)    # Mixed Water - Steel Blue\n",
        "}"
      ],
      "metadata": {
        "id": "i1IygvE4lKjz"
      },
      "execution_count": null,
      "outputs": []
    },
    {
      "cell_type": "code",
      "source": [
        "# Create a mapping between MARIDA and MADOS classes\n",
        "common_class_mapping = {}\n",
        "\n",
        "# Compare classes and create a common mapping\n",
        "for marida_id, marida_class in marida_class_mapping.items():\n",
        "    for mados_id, mados_class in modos_class_mapping.items():\n",
        "        if marida_class.lower() == mados_class.lower():\n",
        "            common_class_mapping[marida_id] = mados_id\n",
        "            break\n",
        "\n",
        "# Print the common class mapping\n",
        "print(\"Common Class Mapping:\")\n",
        "for marida_id, mados_id in common_class_mapping.items():\n",
        "    print(f\"MARIDA Class {marida_id}: {marida_class_mapping[marida_id]} -> MADOS Class {mados_id}: {modos_class_mapping[mados_id]}\")\n",
        "\n",
        "# Handle mismatched classes\n",
        "marida_unique_classes = set(marida_class_mapping.values()) - set(modos_class_mapping.values())\n",
        "modos_unique_classes = set(modos_class_mapping.values()) - set(marida_class_mapping.values())\n",
        "\n",
        "print(\"\\nMARIDA Unique Classes:\")\n",
        "for cls in marida_unique_classes:\n",
        "    print(f\"- {cls}\")\n",
        "\n",
        "print(\"\\nMADOS Unique Classes:\")\n",
        "for cls in modos_unique_classes:\n",
        "    print(f\"- {cls}\")\n",
        "\n",
        "# Example: Merge datasets based on common classes\n",
        "def merge_datasets(marida_data, mados_data, common_class_mapping):\n",
        "    merged_data = []\n",
        "\n",
        "    # Add MARIDA data\n",
        "    for marida_sample in marida_data:\n",
        "        marida_class_id = marida_sample['class']\n",
        "        if marida_class_id in common_class_mapping:\n",
        "            merged_data.append({\n",
        "                'image': marida_sample['image'],\n",
        "                'class': common_class_mapping[marida_class_id],  # Use mapped MADOS class ID\n",
        "                'source': 'MARIDA'\n",
        "            })\n",
        "\n",
        "    # Add MADOS data\n",
        "    for mados_sample in mados_data:\n",
        "        mados_class_id = mados_sample['class']\n",
        "        # Check if this MADOS class ID is in the values of our mapping\n",
        "        if mados_class_id in common_class_mapping.values():\n",
        "            merged_data.append({\n",
        "                'image': mados_sample['image'],\n",
        "                'class': mados_class_id,\n",
        "                'source': 'MADOS'\n",
        "            })\n",
        "\n",
        "    return merged_data"
      ],
      "metadata": {
        "colab": {
          "base_uri": "https://localhost:8080/"
        },
        "id": "wPfWfkAFwpoP",
        "outputId": "2710b731-4e57-4124-f8e5-9968fea2f4b6"
      },
      "execution_count": null,
      "outputs": [
        {
          "output_type": "stream",
          "name": "stdout",
          "text": [
            "Common Class Mapping:\n",
            "MARIDA Class 4: Natural Organic Material -> MADOS Class 4: Natural Organic Material\n",
            "MARIDA Class 6: Clouds -> MADOS Class 6: Clouds\n",
            "MARIDA Class 9: Foam -> MADOS Class 9: Foam\n",
            "MARIDA Class 10: Turbid Water -> MADOS Class 10: Turbid Water\n",
            "MARIDA Class 11: Shallow Water -> MADOS Class 11: Shallow Water\n",
            "MARIDA Class 12: Waves -> MADOS Class 12: Waves\n",
            "MARIDA Class 13: Cloud Shadows -> MADOS Class 13: Cloud Shadows\n",
            "MARIDA Class 14: Wakes -> MADOS Class 14: Wakes\n",
            "MARIDA Class 15: Mixed Water -> MADOS Class 15: Mixed Water\n",
            "\n",
            "MARIDA Unique Classes:\n",
            "- Sediment\n",
            "- Algae\n",
            "- Floating Objects\n",
            "- Water\n",
            "- Plastic Debris\n",
            "- Ships\n",
            "\n",
            "MADOS Unique Classes:\n",
            "- Marine Water\n",
            "- Sparse Sargassum\n",
            "- Sediment-Laden Water\n",
            "- Dense Sargassum\n",
            "- Marine Debris\n",
            "- Ship\n"
          ]
        }
      ]
    },
    {
      "cell_type": "code",
      "source": [
        "import os\n",
        "from pathlib import Path\n",
        "import shutil\n",
        "from tqdm import tqdm\n",
        "\n",
        "# Base directory\n",
        "base_dir = Path(\"/content/mados_data/MADOS\")\n",
        "output_dir = Path(\"/content/extracted_data\")\n",
        "\n",
        "# Create main output subfolders\n",
        "(output_dir / \"images\").mkdir(parents=True, exist_ok=True)\n",
        "(output_dir / \"conf\").mkdir(parents=True, exist_ok=True)\n",
        "(output_dir / \"cl\").mkdir(parents=True, exist_ok=True)\n",
        "\n",
        "def process_scene(scene_path):\n",
        "    \"\"\"Copy files to organized subfolders without renaming\"\"\"\n",
        "    for file_path in scene_path.glob(\"*\"):\n",
        "        # Handle both .png and .tif RGB files\n",
        "        if \"_rgb_\" in file_path.name.lower() and file_path.suffix.lower() in ('.png', '.tif'):\n",
        "            shutil.copy2(file_path, output_dir / \"images\" / file_path.name)\n",
        "        elif \"_conf_\" in file_path.name.lower() and file_path.suffix.lower() == '.tif':\n",
        "            shutil.copy2(file_path, output_dir / \"conf\" / file_path.name)\n",
        "        elif \"_cl_\" in file_path.name.lower() and file_path.suffix.lower() == '.tif':\n",
        "            shutil.copy2(file_path, output_dir / \"cl\" / file_path.name)\n",
        "\n",
        "# Process all scenes from 0 to 173\n",
        "for scene_num in tqdm(range(174), desc=\"Processing Scenes\"):\n",
        "    scene_path = base_dir / f\"Scene_{scene_num}\"\n",
        "\n",
        "    if scene_path.exists():\n",
        "        # Process each subdirectory (10, 20, etc.) within the scene\n",
        "        for subdir in scene_path.glob(\"*/\"):\n",
        "            if subdir.is_dir():\n",
        "                process_scene(subdir)\n",
        "    else:\n",
        "        print(f\"Scene {scene_num} not found, skipping...\")\n",
        "\n",
        "print(\"\\nExtraction complete!\")\n",
        "print(f\"Files organized in:\\n{output_dir}/\")\n",
        "print(\"├── images/  (All *_rgb_*.png and *_rgb_*.tif files)\")\n",
        "print(\"├── conf/    (All *_conf_*.tif files)\")\n",
        "print(\"└── cl/      (All *_cl_*.tif files)\")"
      ],
      "metadata": {
        "colab": {
          "base_uri": "https://localhost:8080/"
        },
        "id": "OR68ksAfWudD",
        "outputId": "8c46335f-e135-4cd9-b7ae-4f426465ac7c"
      },
      "execution_count": null,
      "outputs": [
        {
          "output_type": "stream",
          "name": "stderr",
          "text": [
            "Processing Scenes: 100%|██████████| 174/174 [00:20<00:00,  8.53it/s]"
          ]
        },
        {
          "output_type": "stream",
          "name": "stdout",
          "text": [
            "\n",
            "Extraction complete!\n",
            "Files organized in:\n",
            "/content/extracted_data/\n",
            "├── images/  (All *_rgb_*.png and *_rgb_*.tif files)\n",
            "├── conf/    (All *_conf_*.tif files)\n",
            "└── cl/      (All *_cl_*.tif files)\n"
          ]
        },
        {
          "output_type": "stream",
          "name": "stderr",
          "text": [
            "\n"
          ]
        }
      ]
    },
    {
      "cell_type": "markdown",
      "source": [
        "spectral analysis"
      ],
      "metadata": {
        "id": "nl5SZynFaGVd"
      }
    },
    {
      "cell_type": "code",
      "source": [],
      "metadata": {
        "id": "fQ14KwCZZDL6"
      },
      "execution_count": null,
      "outputs": []
    },
    {
      "cell_type": "code",
      "source": [
        "import os\n",
        "import numpy as np\n",
        "import rasterio\n",
        "from tqdm import tqdm\n",
        "import matplotlib.pyplot as plt\n",
        "from pathlib import Path\n",
        "import random\n",
        "\n",
        "# Define paths and class mapping\n",
        "base_dir = Path(\"/content/extracted_data\")\n",
        "class_mapping = {\n",
        "    1: 'Marine Debris',\n",
        "    2: 'Dense Sargassum',\n",
        "    3: 'Sparse Floating Algae',\n",
        "    4: 'Natural Organic Material',\n",
        "    5: 'Ship',\n",
        "    6: 'Oil Spill',\n",
        "    7: 'Marine Water',\n",
        "    8: 'Sediment-Laden Water',\n",
        "    9: 'Foam',\n",
        "    10: 'Turbid Water',\n",
        "    11: 'Shallow Water',\n",
        "    12: 'Waves & Wakes',\n",
        "    13: 'Oil Platform',\n",
        "    14: 'Jellyfish',\n",
        "    15: 'Sea snot'\n",
        "}\n",
        "\n",
        "def analyze_class_distribution(sample_size=50):\n",
        "    \"\"\"Analyze the distribution of classes in the MODOS dataset\"\"\"\n",
        "    # Get list of all classification files\n",
        "    cl_files = list((base_dir / \"cl\").glob(\"*.tif\"))\n",
        "\n",
        "    # Randomly sample files for analysis\n",
        "    if len(cl_files) > sample_size:\n",
        "        cl_files_sample = random.sample(cl_files, sample_size)\n",
        "    else:\n",
        "        cl_files_sample = cl_files\n",
        "\n",
        "    # Initialize class counts\n",
        "    class_counts = {i: 0 for i in range(1, 16)}\n",
        "    total_pixels = 0\n",
        "\n",
        "    for cl_file in tqdm(cl_files_sample, desc=\"Analyzing class distribution\"):\n",
        "        with rasterio.open(cl_file) as src:\n",
        "            mask_data = src.read(1)\n",
        "\n",
        "            # Count class pixels\n",
        "            for class_id in range(1, 16):\n",
        "                class_counts[class_id] += np.sum(mask_data == class_id)\n",
        "\n",
        "            total_pixels += mask_data.size\n",
        "\n",
        "    # Calculate percentages\n",
        "    class_percentages = {class_id: count / total_pixels * 100\n",
        "                        for class_id, count in class_counts.items()}\n",
        "\n",
        "    # Print results\n",
        "    print(f\"\\nClass distribution (based on {len(cl_files_sample)} samples):\")\n",
        "    for class_id, percentage in sorted(class_percentages.items(),\n",
        "                                     key=lambda x: x[1], reverse=True):\n",
        "        print(f\"  {class_id}: {class_mapping[class_id]} - {percentage:.2f}%\")\n",
        "\n",
        "    # Plot class distribution\n",
        "    plt.figure(figsize=(14, 8))\n",
        "    plt.bar(\n",
        "        [class_mapping[i] for i in range(1, 16)],\n",
        "        [class_percentages[i] for i in range(1, 16)]\n",
        "    )\n",
        "    plt.xticks(rotation=90)\n",
        "    plt.ylabel(\"Percentage of Pixels\")\n",
        "    plt.title(\"Class Distribution in MODOS Dataset\")\n",
        "    plt.tight_layout()\n",
        "    plt.savefig(base_dir / \"class_distribution.png\")\n",
        "    plt.show()\n",
        "\n",
        "    # Calculate debris vs non-debris\n",
        "    debris_percentage = class_percentages[1]\n",
        "    non_debris_percentage = sum([p for i, p in class_percentages.items() if i != 1])\n",
        "\n",
        "    print(f\"\\nDebris vs. Non-debris:\")\n",
        "    print(f\"  Marine Debris: {debris_percentage:.2f}%\")\n",
        "    print(f\"  Non-debris: {non_debris_percentage:.2f}%\")\n",
        "\n",
        "    # Plot debris vs non-debris\n",
        "    plt.figure(figsize=(10, 6))\n",
        "    plt.pie([debris_percentage, non_debris_percentage],\n",
        "            labels=['Marine Debris', 'Non-debris'],\n",
        "            autopct='%1.1f%%',\n",
        "            colors=['#FF5733', '#3374FF'])\n",
        "    plt.title(\"Marine Debris vs. Non-debris Distribution\")\n",
        "    plt.savefig(base_dir / \"debris_vs_non_debris.png\")\n",
        "    plt.show()\n",
        "\n",
        "    return class_percentages\n",
        "\n",
        "def spectral_analysis(class_id=1, sample_size=20):\n",
        "    \"\"\"Perform spectral analysis for a specific class\"\"\"\n",
        "    # Get corresponding RGB and classification files\n",
        "    cl_files = list((base_dir / \"cl\").glob(\"*.tif\"))\n",
        "    rgb_files = [base_dir / \"images\" / f.name.replace(\"_cl_\", \"_rgb_\").replace(\".tif\", \".png\")\n",
        "                for f in cl_files]\n",
        "\n",
        "    # Find files containing the target class\n",
        "    target_files = []\n",
        "    for cl_file in tqdm(cl_files, desc=\"Finding target class samples\"):\n",
        "        with rasterio.open(cl_file) as src:\n",
        "            data = src.read(1)\n",
        "            if np.any(data == class_id):\n",
        "                target_files.append(cl_file)\n",
        "                if len(target_files) >= sample_size:\n",
        "                    break\n",
        "\n",
        "    if not target_files:\n",
        "        print(f\"No samples found for class {class_id}\")\n",
        "        return\n",
        "\n",
        "    # Initialize spectral stats\n",
        "    band_stats = {\n",
        "        '492': {'mean': [], 'std': []},\n",
        "        '559': {'mean': [], 'std': []},\n",
        "        '665': {'mean': [], 'std': []},\n",
        "        '833': {'mean': [], 'std': []}\n",
        "    }\n",
        "\n",
        "    # Analyze spectral signatures\n",
        "    for cl_file in tqdm(target_files, desc=\"Analyzing spectral signatures\"):\n",
        "        scene_id = cl_file.name.split('_')[1]\n",
        "        tile_id = cl_file.stem.split('_')[-1]\n",
        "\n",
        "        # Get corresponding reflectance files\n",
        "        for band in band_stats.keys():\n",
        "            band_file = base_dir / \"images\" / f\"Scene_{scene_id}_L2R_rhorc_{band}_{tile_id}.tif\"\n",
        "            if band_file.exists():\n",
        "                with rasterio.open(band_file) as src:\n",
        "                    band_data = src.read(1)\n",
        "                    mask = (cl_data == class_id)\n",
        "                    if np.any(mask):\n",
        "                        band_stats[band]['mean'].append(np.mean(band_data[mask]))\n",
        "                        band_stats[band]['std'].append(np.std(band_data[mask]))\n",
        "\n",
        "    # Calculate average spectral signature\n",
        "    spectral_profile = {\n",
        "        band: {\n",
        "            'mean': np.mean(stats['mean']),\n",
        "            'std': np.mean(stats['std'])\n",
        "        }\n",
        "        for band, stats in band_stats.items()\n",
        "    }\n",
        "\n",
        "    # Plot spectral signature\n",
        "    plt.figure(figsize=(10, 6))\n",
        "    wavelengths = [492, 559, 665, 833]\n",
        "    means = [spectral_profile[str(b)]['mean'] for b in wavelengths]\n",
        "    stds = [spectral_profile[str(b)]['std'] for b in wavelengths]\n",
        "\n",
        "    plt.plot(wavelengths, means, 'o-', label=class_mapping[class_id])\n",
        "    plt.fill_between(wavelengths,\n",
        "                    np.array(means)-np.array(stds),\n",
        "                    np.array(means)+np.array(stds),\n",
        "                    alpha=0.2)\n",
        "\n",
        "    plt.xlabel(\"Wavelength (nm)\")\n",
        "    plt.ylabel(\"Reflectance\")\n",
        "    plt.title(f\"Spectral Signature for {class_mapping[class_id]}\")\n",
        "    plt.legend()\n",
        "    plt.grid(True)\n",
        "    plt.savefig(base_dir / f\"spectral_signature_class_{class_id}.png\")\n",
        "    plt.show()\n",
        "\n",
        "    return spectral_profile\n",
        "\n",
        "# Run analyses\n",
        "print(\"Starting analysis...\")\n",
        "class_dist = analyze_class_distribution()\n",
        "debris_spectrum = spectral_analysis(class_id=1)  # Marine Debris"
      ],
      "metadata": {
        "colab": {
          "base_uri": "https://localhost:8080/",
          "height": 1000
        },
        "id": "aj_Qxx0OaJKd",
        "outputId": "df9b1a96-aef2-4083-b75e-612ecd6be428"
      },
      "execution_count": null,
      "outputs": [
        {
          "output_type": "stream",
          "name": "stdout",
          "text": [
            "Starting analysis...\n"
          ]
        },
        {
          "output_type": "stream",
          "name": "stderr",
          "text": [
            "Analyzing class distribution: 100%|██████████| 50/50 [00:00<00:00, 238.69it/s]\n"
          ]
        },
        {
          "output_type": "stream",
          "name": "stdout",
          "text": [
            "\n",
            "Class distribution (based on 50 samples):\n",
            "  7: Marine Water - 0.37%\n",
            "  6: Oil Spill - 0.24%\n",
            "  11: Shallow Water - 0.04%\n",
            "  10: Turbid Water - 0.03%\n",
            "  12: Waves & Wakes - 0.02%\n",
            "  1: Marine Debris - 0.02%\n",
            "  15: Sea snot - 0.02%\n",
            "  3: Sparse Floating Algae - 0.01%\n",
            "  5: Ship - 0.01%\n",
            "  13: Oil Platform - 0.00%\n",
            "  4: Natural Organic Material - 0.00%\n",
            "  9: Foam - 0.00%\n",
            "  2: Dense Sargassum - 0.00%\n",
            "  8: Sediment-Laden Water - 0.00%\n",
            "  14: Jellyfish - 0.00%\n"
          ]
        },
        {
          "output_type": "display_data",
          "data": {
            "text/plain": [
              "<Figure size 1400x800 with 1 Axes>"
            ],
            "image/png": "[encoded data removed]"
          },
          "metadata": {}
        },
        {
          "output_type": "stream",
          "name": "stdout",
          "text": [
            "\n",
            "Debris vs. Non-debris:\n",
            "  Marine Debris: 0.02%\n",
            "  Non-debris: 0.74%\n"
          ]
        },
        {
          "output_type": "display_data",
          "data": {
            "text/plain": [
              "<Figure size 1000x600 with 1 Axes>"
            ],
            "image/png": "[encoded data removed]"
          },
          "metadata": {}
        },
        {
          "output_type": "stream",
          "name": "stderr",
          "text": [
            "Finding target class samples:   3%|▎         | 82/2803 [00:00<00:08, 336.80it/s]\n",
            "Analyzing spectral signatures: 100%|██████████| 20/20 [00:00<00:00, 5173.04it/s]\n"
          ]
        },
        {
          "output_type": "display_data",
          "data": {
            "text/plain": [
              "<Figure size 1000x600 with 1 Axes>"
            ],
            "image/png": "[encoded data removed]"
          },
          "metadata": {}
        }
      ]
    }
  ]
}